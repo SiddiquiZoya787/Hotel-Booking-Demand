{
 "cells": [
  {
   "cell_type": "code",
   "execution_count": 1,
   "metadata": {},
   "outputs": [],
   "source": [
    "import numpy as np\n",
    "import pandas as pd\n",
    "import matplotlib.pyplot as plt\n",
    "import seaborn as sns"
   ]
  },
  {
   "cell_type": "code",
   "execution_count": 2,
   "metadata": {},
   "outputs": [],
   "source": [
    "pd.set_option('display.max_columns', None)"
   ]
  },
  {
   "cell_type": "code",
   "execution_count": 3,
   "metadata": {},
   "outputs": [],
   "source": [
    "df=pd.read_csv(\"city hotel & resort hotel.csv.csv\")"
   ]
  },
  {
   "cell_type": "code",
   "execution_count": 4,
   "metadata": {},
   "outputs": [
    {
     "data": {
      "text/plain": [
       "Timestamp                                                    object\n",
       "What do you like to prefer more?                             object\n",
       "Why do you like to hangout in this hotel?                    object\n",
       "Which kind of facilities are given in COVID-19 situation?    object\n",
       "Are you satisfied with the above facilities?                 object\n",
       "What was the reason for your visit?                          object\n",
       "Were you alone or in a group?                                object\n",
       "Why  did you choose this hotel?                              object\n",
       "Were the staff friendly and helpful?                         object\n",
       "Did you eat at the hotel?                                    object\n",
       "How would you rate the hotel?                                object\n",
       "Food Hygiene rating.                                         object\n",
       "How Likely are you to stay at this hotel again?              object\n",
       "Overall were you satisfied ,dissatisfied , or neither?       object\n",
       "Would you like to suggest them to improve their service?     object\n",
       "How Likely are you to recommend this hotel?                  object\n",
       "dtype: object"
      ]
     },
     "execution_count": 4,
     "metadata": {},
     "output_type": "execute_result"
    }
   ],
   "source": [
    "df.dtypes"
   ]
  },
  {
   "cell_type": "code",
   "execution_count": 5,
   "metadata": {},
   "outputs": [
    {
     "data": {
      "text/html": [
       "<div>\n",
       "<style scoped>\n",
       "    .dataframe tbody tr th:only-of-type {\n",
       "        vertical-align: middle;\n",
       "    }\n",
       "\n",
       "    .dataframe tbody tr th {\n",
       "        vertical-align: top;\n",
       "    }\n",
       "\n",
       "    .dataframe thead th {\n",
       "        text-align: right;\n",
       "    }\n",
       "</style>\n",
       "<table border=\"1\" class=\"dataframe\">\n",
       "  <thead>\n",
       "    <tr style=\"text-align: right;\">\n",
       "      <th></th>\n",
       "      <th>Timestamp</th>\n",
       "      <th>What do you like to prefer more?</th>\n",
       "      <th>Why do you like to hangout in this hotel?</th>\n",
       "      <th>Which kind of facilities are given in COVID-19 situation?</th>\n",
       "      <th>Are you satisfied with the above facilities?</th>\n",
       "      <th>What was the reason for your visit?</th>\n",
       "      <th>Were you alone or in a group?</th>\n",
       "      <th>Why  did you choose this hotel?</th>\n",
       "      <th>Were the staff friendly and helpful?</th>\n",
       "      <th>Did you eat at the hotel?</th>\n",
       "      <th>How would you rate the hotel?</th>\n",
       "      <th>Food Hygiene rating.</th>\n",
       "      <th>How Likely are you to stay at this hotel again?</th>\n",
       "      <th>Overall were you satisfied ,dissatisfied , or neither?</th>\n",
       "      <th>Would you like to suggest them to improve their service?</th>\n",
       "      <th>How Likely are you to recommend this hotel?</th>\n",
       "    </tr>\n",
       "  </thead>\n",
       "  <tbody>\n",
       "    <tr>\n",
       "      <th>0</th>\n",
       "      <td>20/02/2021 13:13:48</td>\n",
       "      <td>Resort hotel</td>\n",
       "      <td>Good Environment</td>\n",
       "      <td>Sanitization</td>\n",
       "      <td>Yes</td>\n",
       "      <td>Budget friendly</td>\n",
       "      <td>Group</td>\n",
       "      <td>Good Facility</td>\n",
       "      <td>Yes</td>\n",
       "      <td>Yes</td>\n",
       "      <td>Excellent</td>\n",
       "      <td>Excellent</td>\n",
       "      <td>Yes</td>\n",
       "      <td>Satisfied</td>\n",
       "      <td>No</td>\n",
       "      <td>Very Nice</td>\n",
       "    </tr>\n",
       "    <tr>\n",
       "      <th>1</th>\n",
       "      <td>20/02/2021 13:16:53</td>\n",
       "      <td>Resort hotel</td>\n",
       "      <td>Facility, Good Environment, Affordable, Food a...</td>\n",
       "      <td>Sanitization, Temperature Checking, Mask</td>\n",
       "      <td>Yes</td>\n",
       "      <td>For the trip</td>\n",
       "      <td>Group</td>\n",
       "      <td>Good Facility</td>\n",
       "      <td>Yes</td>\n",
       "      <td>Yes</td>\n",
       "      <td>Good</td>\n",
       "      <td>Generally Satisfactory</td>\n",
       "      <td>May be</td>\n",
       "      <td>Satisfied</td>\n",
       "      <td>Yes</td>\n",
       "      <td>good</td>\n",
       "    </tr>\n",
       "    <tr>\n",
       "      <th>2</th>\n",
       "      <td>20/02/2021 13:46:01</td>\n",
       "      <td>Resort hotel</td>\n",
       "      <td>Facility, Good Environment</td>\n",
       "      <td>Sanitization, Temperature Checking, Mask</td>\n",
       "      <td>Yes</td>\n",
       "      <td>For the trip</td>\n",
       "      <td>Group</td>\n",
       "      <td>Good Facility</td>\n",
       "      <td>Yes</td>\n",
       "      <td>Yes</td>\n",
       "      <td>Excellent</td>\n",
       "      <td>Very Good</td>\n",
       "      <td>May be</td>\n",
       "      <td>Satisfied</td>\n",
       "      <td>No</td>\n",
       "      <td>Very good</td>\n",
       "    </tr>\n",
       "    <tr>\n",
       "      <th>3</th>\n",
       "      <td>20/02/2021 13:46:08</td>\n",
       "      <td>Resort hotel</td>\n",
       "      <td>Facility, Good Environment</td>\n",
       "      <td>Sanitization, Temperature Checking, Mask</td>\n",
       "      <td>Yes</td>\n",
       "      <td>For the trip</td>\n",
       "      <td>Group</td>\n",
       "      <td>Good Facility</td>\n",
       "      <td>Yes</td>\n",
       "      <td>Yes</td>\n",
       "      <td>Excellent</td>\n",
       "      <td>Very Good</td>\n",
       "      <td>May be</td>\n",
       "      <td>Satisfied</td>\n",
       "      <td>No</td>\n",
       "      <td>Very good</td>\n",
       "    </tr>\n",
       "    <tr>\n",
       "      <th>4</th>\n",
       "      <td>20/02/2021 13:57:17</td>\n",
       "      <td>City hotel</td>\n",
       "      <td>Good Environment</td>\n",
       "      <td>Sanitization, Temperature Checking</td>\n",
       "      <td>No</td>\n",
       "      <td>For the trip</td>\n",
       "      <td>Group</td>\n",
       "      <td>Good Facility, Acessibility, Dinning Option, S...</td>\n",
       "      <td>Yes</td>\n",
       "      <td>Yes</td>\n",
       "      <td>Good</td>\n",
       "      <td>Generally Satisfactory</td>\n",
       "      <td>May be</td>\n",
       "      <td>Satisfied</td>\n",
       "      <td>Yes</td>\n",
       "      <td>Yes I will recommend this hotel</td>\n",
       "    </tr>\n",
       "  </tbody>\n",
       "</table>\n",
       "</div>"
      ],
      "text/plain": [
       "             Timestamp What do you like to prefer more?  \\\n",
       "0  20/02/2021 13:13:48                     Resort hotel   \n",
       "1  20/02/2021 13:16:53                     Resort hotel   \n",
       "2  20/02/2021 13:46:01                     Resort hotel   \n",
       "3  20/02/2021 13:46:08                     Resort hotel   \n",
       "4  20/02/2021 13:57:17                       City hotel   \n",
       "\n",
       "           Why do you like to hangout in this hotel?  \\\n",
       "0                                   Good Environment   \n",
       "1  Facility, Good Environment, Affordable, Food a...   \n",
       "2                         Facility, Good Environment   \n",
       "3                         Facility, Good Environment   \n",
       "4                                   Good Environment   \n",
       "\n",
       "  Which kind of facilities are given in COVID-19 situation?  \\\n",
       "0                                       Sanitization          \n",
       "1           Sanitization, Temperature Checking, Mask          \n",
       "2           Sanitization, Temperature Checking, Mask          \n",
       "3           Sanitization, Temperature Checking, Mask          \n",
       "4                 Sanitization, Temperature Checking          \n",
       "\n",
       "  Are you satisfied with the above facilities?  \\\n",
       "0                                          Yes   \n",
       "1                                          Yes   \n",
       "2                                          Yes   \n",
       "3                                          Yes   \n",
       "4                                           No   \n",
       "\n",
       "  What was the reason for your visit? Were you alone or in a group?  \\\n",
       "0                     Budget friendly                         Group   \n",
       "1                        For the trip                         Group   \n",
       "2                        For the trip                         Group   \n",
       "3                        For the trip                         Group   \n",
       "4                        For the trip                         Group   \n",
       "\n",
       "                     Why  did you choose this hotel?  \\\n",
       "0                                      Good Facility   \n",
       "1                                      Good Facility   \n",
       "2                                      Good Facility   \n",
       "3                                      Good Facility   \n",
       "4  Good Facility, Acessibility, Dinning Option, S...   \n",
       "\n",
       "  Were the staff friendly and helpful? Did you eat at the hotel?  \\\n",
       "0                                  Yes                       Yes   \n",
       "1                                  Yes                       Yes   \n",
       "2                                  Yes                       Yes   \n",
       "3                                  Yes                       Yes   \n",
       "4                                  Yes                       Yes   \n",
       "\n",
       "  How would you rate the hotel?    Food Hygiene rating.  \\\n",
       "0                     Excellent               Excellent   \n",
       "1                          Good  Generally Satisfactory   \n",
       "2                     Excellent               Very Good   \n",
       "3                     Excellent               Very Good   \n",
       "4                          Good  Generally Satisfactory   \n",
       "\n",
       "  How Likely are you to stay at this hotel again?  \\\n",
       "0                                             Yes   \n",
       "1                                          May be   \n",
       "2                                          May be   \n",
       "3                                          May be   \n",
       "4                                          May be   \n",
       "\n",
       "  Overall were you satisfied ,dissatisfied , or neither?   \\\n",
       "0                                          Satisfied        \n",
       "1                                          Satisfied        \n",
       "2                                          Satisfied        \n",
       "3                                          Satisfied        \n",
       "4                                          Satisfied        \n",
       "\n",
       "  Would you like to suggest them to improve their service?   \\\n",
       "0                                                 No          \n",
       "1                                                Yes          \n",
       "2                                                 No          \n",
       "3                                                 No          \n",
       "4                                                Yes          \n",
       "\n",
       "  How Likely are you to recommend this hotel?  \n",
       "0                                   Very Nice  \n",
       "1                                       good   \n",
       "2                                   Very good  \n",
       "3                                   Very good  \n",
       "4             Yes I will recommend this hotel  "
      ]
     },
     "execution_count": 5,
     "metadata": {},
     "output_type": "execute_result"
    }
   ],
   "source": [
    "df.head()"
   ]
  },
  {
   "cell_type": "code",
   "execution_count": 89,
   "metadata": {},
   "outputs": [],
   "source": [
    "df.rename(columns={'What do you like to prefer more?':'Hotel Type',\n",
    "                   'Why do you like to hangout in this hotel?':'Hangout',\n",
    "                  'Which kind of facilities are given in COVID-19 situation?':'COVID-19 Situation',\n",
    "                  'Are you satisfied with the above facilities?':'satisfied',\n",
    "                  'What was the reason for your visit?':'Reason',\n",
    "                   'Were you alone or in a group?':'Visit Types',\n",
    "                  'Why did you choose this hotel?':'Choose this hotel',\n",
    "                  'Were the staff friendly and helpful?':'staff friendly and helpful',\n",
    "                  'Did you eat at the hotel?':'eat at the hotel',\n",
    "                  'How would you rate the hotel?':'Rating',\n",
    "                  'Food Hygiene rating':'Food Hygiene',\n",
    "                  'How Likely are you to stay at this hotel again?':'stay hotel again','Overall were you satisfied, dissatisfied or neither?':'Overall',\n",
    "                  'Would you like to suggest them to improve their service?':'Suggestion','How Likely are you to recommend this hotel?':'Recommend'},inplace=True)"
   ]
  },
  {
   "cell_type": "code",
   "execution_count": 90,
   "metadata": {},
   "outputs": [
    {
     "data": {
      "text/plain": [
       "Index(['Timestamp', 'Hotel Type', 'Hangout', 'COVID-19 Situation', 'satisfied',\n",
       "       'Reason', 'Visit Types', 'Why  did you choose this hotel?',\n",
       "       'staff friendly and helpful', 'eat at the hotel', 'Rating',\n",
       "       'Food Hygiene rating.', 'stay hotel again',\n",
       "       'Overall were you satisfied ,dissatisfied , or neither? ',\n",
       "       'Would you like to suggest them to improve their service? '],\n",
       "      dtype='object')"
      ]
     },
     "execution_count": 90,
     "metadata": {},
     "output_type": "execute_result"
    }
   ],
   "source": [
    "df.columns"
   ]
  },
  {
   "cell_type": "code",
   "execution_count": 73,
   "metadata": {},
   "outputs": [
    {
     "data": {
      "text/html": [
       "<div>\n",
       "<style scoped>\n",
       "    .dataframe tbody tr th:only-of-type {\n",
       "        vertical-align: middle;\n",
       "    }\n",
       "\n",
       "    .dataframe tbody tr th {\n",
       "        vertical-align: top;\n",
       "    }\n",
       "\n",
       "    .dataframe thead th {\n",
       "        text-align: right;\n",
       "    }\n",
       "</style>\n",
       "<table border=\"1\" class=\"dataframe\">\n",
       "  <thead>\n",
       "    <tr style=\"text-align: right;\">\n",
       "      <th></th>\n",
       "      <th>Timestamp</th>\n",
       "      <th>Hotel Type</th>\n",
       "      <th>Hangout</th>\n",
       "      <th>COVID-19 Situation</th>\n",
       "      <th>satisfied</th>\n",
       "      <th>Reason</th>\n",
       "      <th>Visit Types</th>\n",
       "      <th>Why  did you choose this hotel?</th>\n",
       "      <th>staff friendly and helpful</th>\n",
       "      <th>eat at the hotel</th>\n",
       "      <th>Rating</th>\n",
       "      <th>Food Hygiene rating.</th>\n",
       "      <th>stay hotel again</th>\n",
       "      <th>Overall were you satisfied ,dissatisfied , or neither?</th>\n",
       "      <th>Would you like to suggest them to improve their service?</th>\n",
       "    </tr>\n",
       "  </thead>\n",
       "  <tbody>\n",
       "    <tr>\n",
       "      <th>0</th>\n",
       "      <td>20/02/2021 13:13:48</td>\n",
       "      <td>Resort hotel</td>\n",
       "      <td>Good Environment</td>\n",
       "      <td>Sanitization</td>\n",
       "      <td>Yes</td>\n",
       "      <td>Budget friendly</td>\n",
       "      <td>Group</td>\n",
       "      <td>Good Facility</td>\n",
       "      <td>Yes</td>\n",
       "      <td>Yes</td>\n",
       "      <td>Excellent</td>\n",
       "      <td>Excellent</td>\n",
       "      <td>Yes</td>\n",
       "      <td>Satisfied</td>\n",
       "      <td>No</td>\n",
       "    </tr>\n",
       "    <tr>\n",
       "      <th>1</th>\n",
       "      <td>20/02/2021 13:16:53</td>\n",
       "      <td>Resort hotel</td>\n",
       "      <td>Facility, Good Environment, Affordable, Food a...</td>\n",
       "      <td>Sanitization, Temperature Checking, Mask</td>\n",
       "      <td>Yes</td>\n",
       "      <td>For the trip</td>\n",
       "      <td>Group</td>\n",
       "      <td>Good Facility</td>\n",
       "      <td>Yes</td>\n",
       "      <td>Yes</td>\n",
       "      <td>Good</td>\n",
       "      <td>Generally Satisfactory</td>\n",
       "      <td>May be</td>\n",
       "      <td>Satisfied</td>\n",
       "      <td>Yes</td>\n",
       "    </tr>\n",
       "    <tr>\n",
       "      <th>2</th>\n",
       "      <td>20/02/2021 13:46:01</td>\n",
       "      <td>Resort hotel</td>\n",
       "      <td>Facility, Good Environment</td>\n",
       "      <td>Sanitization, Temperature Checking, Mask</td>\n",
       "      <td>Yes</td>\n",
       "      <td>For the trip</td>\n",
       "      <td>Group</td>\n",
       "      <td>Good Facility</td>\n",
       "      <td>Yes</td>\n",
       "      <td>Yes</td>\n",
       "      <td>Excellent</td>\n",
       "      <td>Very Good</td>\n",
       "      <td>May be</td>\n",
       "      <td>Satisfied</td>\n",
       "      <td>No</td>\n",
       "    </tr>\n",
       "    <tr>\n",
       "      <th>3</th>\n",
       "      <td>20/02/2021 13:46:08</td>\n",
       "      <td>Resort hotel</td>\n",
       "      <td>Facility, Good Environment</td>\n",
       "      <td>Sanitization, Temperature Checking, Mask</td>\n",
       "      <td>Yes</td>\n",
       "      <td>For the trip</td>\n",
       "      <td>Group</td>\n",
       "      <td>Good Facility</td>\n",
       "      <td>Yes</td>\n",
       "      <td>Yes</td>\n",
       "      <td>Excellent</td>\n",
       "      <td>Very Good</td>\n",
       "      <td>May be</td>\n",
       "      <td>Satisfied</td>\n",
       "      <td>No</td>\n",
       "    </tr>\n",
       "    <tr>\n",
       "      <th>4</th>\n",
       "      <td>20/02/2021 13:57:17</td>\n",
       "      <td>City hotel</td>\n",
       "      <td>Good Environment</td>\n",
       "      <td>Sanitization, Temperature Checking</td>\n",
       "      <td>No</td>\n",
       "      <td>For the trip</td>\n",
       "      <td>Group</td>\n",
       "      <td>Good Facility, Acessibility, Dinning Option, S...</td>\n",
       "      <td>Yes</td>\n",
       "      <td>Yes</td>\n",
       "      <td>Good</td>\n",
       "      <td>Generally Satisfactory</td>\n",
       "      <td>May be</td>\n",
       "      <td>Satisfied</td>\n",
       "      <td>Yes</td>\n",
       "    </tr>\n",
       "    <tr>\n",
       "      <th>...</th>\n",
       "      <td>...</td>\n",
       "      <td>...</td>\n",
       "      <td>...</td>\n",
       "      <td>...</td>\n",
       "      <td>...</td>\n",
       "      <td>...</td>\n",
       "      <td>...</td>\n",
       "      <td>...</td>\n",
       "      <td>...</td>\n",
       "      <td>...</td>\n",
       "      <td>...</td>\n",
       "      <td>...</td>\n",
       "      <td>...</td>\n",
       "      <td>...</td>\n",
       "      <td>...</td>\n",
       "    </tr>\n",
       "    <tr>\n",
       "      <th>196</th>\n",
       "      <td>22/04/2021 19:41:57</td>\n",
       "      <td>City hotel</td>\n",
       "      <td>Affordable</td>\n",
       "      <td>Sanitization</td>\n",
       "      <td>Yes</td>\n",
       "      <td>For the trip</td>\n",
       "      <td>Alone</td>\n",
       "      <td>Hotel Loyalty</td>\n",
       "      <td>Yes</td>\n",
       "      <td>Yes</td>\n",
       "      <td>Good</td>\n",
       "      <td>Very Good</td>\n",
       "      <td>Yes</td>\n",
       "      <td>Satisfied</td>\n",
       "      <td>Yes</td>\n",
       "    </tr>\n",
       "    <tr>\n",
       "      <th>197</th>\n",
       "      <td>22/04/2021 19:42:25</td>\n",
       "      <td>Resort hotel</td>\n",
       "      <td>Affordable</td>\n",
       "      <td>Temperature Checking</td>\n",
       "      <td>Yes</td>\n",
       "      <td>Affordable</td>\n",
       "      <td>Group</td>\n",
       "      <td>Hotel Loyalty</td>\n",
       "      <td>Yes</td>\n",
       "      <td>Yes</td>\n",
       "      <td>Very Good</td>\n",
       "      <td>Very Good</td>\n",
       "      <td>Yes</td>\n",
       "      <td>Satisfied</td>\n",
       "      <td>Yes</td>\n",
       "    </tr>\n",
       "    <tr>\n",
       "      <th>198</th>\n",
       "      <td>22/04/2021 19:44:23</td>\n",
       "      <td>City hotel</td>\n",
       "      <td>Affordable</td>\n",
       "      <td>Temperature Checking</td>\n",
       "      <td>Yes</td>\n",
       "      <td>Affordable</td>\n",
       "      <td>Alone</td>\n",
       "      <td>Good Facility</td>\n",
       "      <td>Yes</td>\n",
       "      <td>Yes</td>\n",
       "      <td>Very Good</td>\n",
       "      <td>Very Good</td>\n",
       "      <td>Yes</td>\n",
       "      <td>Satisfied</td>\n",
       "      <td>Yes</td>\n",
       "    </tr>\n",
       "    <tr>\n",
       "      <th>199</th>\n",
       "      <td>22/04/2021 19:44:46</td>\n",
       "      <td>Resort hotel</td>\n",
       "      <td>Good Environment</td>\n",
       "      <td>Temperature Checking</td>\n",
       "      <td>Yes</td>\n",
       "      <td>Affordable</td>\n",
       "      <td>Alone</td>\n",
       "      <td>Acessibility</td>\n",
       "      <td>Yes</td>\n",
       "      <td>Yes</td>\n",
       "      <td>Very Good</td>\n",
       "      <td>Very Good</td>\n",
       "      <td>Yes</td>\n",
       "      <td>Satisfied</td>\n",
       "      <td>Yes</td>\n",
       "    </tr>\n",
       "    <tr>\n",
       "      <th>200</th>\n",
       "      <td>22/04/2021 19:45:10</td>\n",
       "      <td>Resort hotel</td>\n",
       "      <td>Affordable</td>\n",
       "      <td>Temperature Checking</td>\n",
       "      <td>Yes</td>\n",
       "      <td>For the trip</td>\n",
       "      <td>Group</td>\n",
       "      <td>Good Facility</td>\n",
       "      <td>Yes</td>\n",
       "      <td>Yes</td>\n",
       "      <td>Excellent</td>\n",
       "      <td>Excellent</td>\n",
       "      <td>Yes</td>\n",
       "      <td>Satisfied</td>\n",
       "      <td>Yes</td>\n",
       "    </tr>\n",
       "  </tbody>\n",
       "</table>\n",
       "<p>201 rows × 15 columns</p>\n",
       "</div>"
      ],
      "text/plain": [
       "               Timestamp    Hotel Type  \\\n",
       "0    20/02/2021 13:13:48  Resort hotel   \n",
       "1    20/02/2021 13:16:53  Resort hotel   \n",
       "2    20/02/2021 13:46:01  Resort hotel   \n",
       "3    20/02/2021 13:46:08  Resort hotel   \n",
       "4    20/02/2021 13:57:17    City hotel   \n",
       "..                   ...           ...   \n",
       "196  22/04/2021 19:41:57    City hotel   \n",
       "197  22/04/2021 19:42:25  Resort hotel   \n",
       "198  22/04/2021 19:44:23    City hotel   \n",
       "199  22/04/2021 19:44:46  Resort hotel   \n",
       "200  22/04/2021 19:45:10  Resort hotel   \n",
       "\n",
       "                                               Hangout  \\\n",
       "0                                     Good Environment   \n",
       "1    Facility, Good Environment, Affordable, Food a...   \n",
       "2                           Facility, Good Environment   \n",
       "3                           Facility, Good Environment   \n",
       "4                                     Good Environment   \n",
       "..                                                 ...   \n",
       "196                                         Affordable   \n",
       "197                                         Affordable   \n",
       "198                                         Affordable   \n",
       "199                                   Good Environment   \n",
       "200                                         Affordable   \n",
       "\n",
       "                           COVID-19 Situation satisfied           Reason  \\\n",
       "0                                Sanitization       Yes  Budget friendly   \n",
       "1    Sanitization, Temperature Checking, Mask       Yes     For the trip   \n",
       "2    Sanitization, Temperature Checking, Mask       Yes     For the trip   \n",
       "3    Sanitization, Temperature Checking, Mask       Yes     For the trip   \n",
       "4          Sanitization, Temperature Checking        No     For the trip   \n",
       "..                                        ...       ...              ...   \n",
       "196                              Sanitization       Yes     For the trip   \n",
       "197                      Temperature Checking       Yes       Affordable   \n",
       "198                      Temperature Checking       Yes       Affordable   \n",
       "199                      Temperature Checking       Yes       Affordable   \n",
       "200                      Temperature Checking       Yes     For the trip   \n",
       "\n",
       "    Visit Types                    Why  did you choose this hotel?  \\\n",
       "0         Group                                      Good Facility   \n",
       "1         Group                                      Good Facility   \n",
       "2         Group                                      Good Facility   \n",
       "3         Group                                      Good Facility   \n",
       "4         Group  Good Facility, Acessibility, Dinning Option, S...   \n",
       "..          ...                                                ...   \n",
       "196       Alone                                      Hotel Loyalty   \n",
       "197       Group                                      Hotel Loyalty   \n",
       "198       Alone                                      Good Facility   \n",
       "199       Alone                                       Acessibility   \n",
       "200       Group                                      Good Facility   \n",
       "\n",
       "    staff friendly and helpful eat at the hotel     Rating  \\\n",
       "0                          Yes              Yes  Excellent   \n",
       "1                          Yes              Yes       Good   \n",
       "2                          Yes              Yes  Excellent   \n",
       "3                          Yes              Yes  Excellent   \n",
       "4                          Yes              Yes       Good   \n",
       "..                         ...              ...        ...   \n",
       "196                        Yes              Yes       Good   \n",
       "197                        Yes              Yes  Very Good   \n",
       "198                        Yes              Yes  Very Good   \n",
       "199                        Yes              Yes  Very Good   \n",
       "200                        Yes              Yes  Excellent   \n",
       "\n",
       "       Food Hygiene rating. stay hotel again  \\\n",
       "0                 Excellent              Yes   \n",
       "1    Generally Satisfactory           May be   \n",
       "2                 Very Good           May be   \n",
       "3                 Very Good           May be   \n",
       "4    Generally Satisfactory           May be   \n",
       "..                      ...              ...   \n",
       "196               Very Good              Yes   \n",
       "197               Very Good              Yes   \n",
       "198               Very Good              Yes   \n",
       "199               Very Good              Yes   \n",
       "200               Excellent              Yes   \n",
       "\n",
       "    Overall were you satisfied ,dissatisfied , or neither?   \\\n",
       "0                                            Satisfied        \n",
       "1                                            Satisfied        \n",
       "2                                            Satisfied        \n",
       "3                                            Satisfied        \n",
       "4                                            Satisfied        \n",
       "..                                                 ...        \n",
       "196                                          Satisfied        \n",
       "197                                          Satisfied        \n",
       "198                                          Satisfied        \n",
       "199                                          Satisfied        \n",
       "200                                          Satisfied        \n",
       "\n",
       "    Would you like to suggest them to improve their service?   \n",
       "0                                                   No         \n",
       "1                                                  Yes         \n",
       "2                                                   No         \n",
       "3                                                   No         \n",
       "4                                                  Yes         \n",
       "..                                                 ...         \n",
       "196                                                Yes         \n",
       "197                                                Yes         \n",
       "198                                                Yes         \n",
       "199                                                Yes         \n",
       "200                                                Yes         \n",
       "\n",
       "[201 rows x 15 columns]"
      ]
     },
     "execution_count": 73,
     "metadata": {},
     "output_type": "execute_result"
    }
   ],
   "source": [
    "df"
   ]
  },
  {
   "cell_type": "code",
   "execution_count": 94,
   "metadata": {},
   "outputs": [
    {
     "data": {
      "text/plain": [
       "0      1\n",
       "1      1\n",
       "2      1\n",
       "3      1\n",
       "4      1\n",
       "      ..\n",
       "196    0\n",
       "197    1\n",
       "198    0\n",
       "199    0\n",
       "200    1\n",
       "Name: Visit Types, Length: 201, dtype: int64"
      ]
     },
     "execution_count": 94,
     "metadata": {},
     "output_type": "execute_result"
    }
   ],
   "source": [
    "x1=df['Visit Types'].replace({'Alone':0,'Group':1})\n",
    "x1"
   ]
  },
  {
   "cell_type": "code",
   "execution_count": 97,
   "metadata": {},
   "outputs": [
    {
     "data": {
      "text/plain": [
       "0      2\n",
       "1      0\n",
       "2      0\n",
       "3      0\n",
       "4      0\n",
       "      ..\n",
       "196    0\n",
       "197    1\n",
       "198    1\n",
       "199    1\n",
       "200    0\n",
       "Name: Reason, Length: 201, dtype: int64"
      ]
     },
     "execution_count": 97,
     "metadata": {},
     "output_type": "execute_result"
    }
   ],
   "source": [
    "x2=df['Reason'].replace({'For the trip':0,'Affordable':1,'Budget friendly':2,'Facility':3,'other':4})\n",
    "x2"
   ]
  },
  {
   "cell_type": "code",
   "execution_count": 7,
   "metadata": {},
   "outputs": [
    {
     "data": {
      "text/html": [
       "<div>\n",
       "<style scoped>\n",
       "    .dataframe tbody tr th:only-of-type {\n",
       "        vertical-align: middle;\n",
       "    }\n",
       "\n",
       "    .dataframe tbody tr th {\n",
       "        vertical-align: top;\n",
       "    }\n",
       "\n",
       "    .dataframe thead th {\n",
       "        text-align: right;\n",
       "    }\n",
       "</style>\n",
       "<table border=\"1\" class=\"dataframe\">\n",
       "  <thead>\n",
       "    <tr style=\"text-align: right;\">\n",
       "      <th></th>\n",
       "      <th>Timestamp</th>\n",
       "      <th>Hotel Type</th>\n",
       "      <th>Why do you like to hangout in this hotel?</th>\n",
       "      <th>Which kind of facilities are given in COVID-19 situation?</th>\n",
       "      <th>Are you satisfied with the above facilities?</th>\n",
       "      <th>What was the reason for your visit?</th>\n",
       "      <th>Were you alone or in a group?</th>\n",
       "      <th>Why  did you choose this hotel?</th>\n",
       "      <th>Were the staff friendly and helpful?</th>\n",
       "      <th>Did you eat at the hotel?</th>\n",
       "      <th>How would you rate the hotel?</th>\n",
       "      <th>Food Hygiene rating.</th>\n",
       "      <th>How Likely are you to stay at this hotel again?</th>\n",
       "      <th>Overall were you satisfied ,dissatisfied , or neither?</th>\n",
       "      <th>Would you like to suggest them to improve their service?</th>\n",
       "      <th>How Likely are you to recommend this hotel?</th>\n",
       "    </tr>\n",
       "  </thead>\n",
       "  <tbody>\n",
       "    <tr>\n",
       "      <th>0</th>\n",
       "      <td>20/02/2021 13:13:48</td>\n",
       "      <td>Resort hotel</td>\n",
       "      <td>Good Environment</td>\n",
       "      <td>Sanitization</td>\n",
       "      <td>Yes</td>\n",
       "      <td>Budget friendly</td>\n",
       "      <td>Group</td>\n",
       "      <td>Good Facility</td>\n",
       "      <td>Yes</td>\n",
       "      <td>Yes</td>\n",
       "      <td>Excellent</td>\n",
       "      <td>Excellent</td>\n",
       "      <td>Yes</td>\n",
       "      <td>Satisfied</td>\n",
       "      <td>No</td>\n",
       "      <td>Very Nice</td>\n",
       "    </tr>\n",
       "    <tr>\n",
       "      <th>1</th>\n",
       "      <td>20/02/2021 13:16:53</td>\n",
       "      <td>Resort hotel</td>\n",
       "      <td>Facility, Good Environment, Affordable, Food a...</td>\n",
       "      <td>Sanitization, Temperature Checking, Mask</td>\n",
       "      <td>Yes</td>\n",
       "      <td>For the trip</td>\n",
       "      <td>Group</td>\n",
       "      <td>Good Facility</td>\n",
       "      <td>Yes</td>\n",
       "      <td>Yes</td>\n",
       "      <td>Good</td>\n",
       "      <td>Generally Satisfactory</td>\n",
       "      <td>May be</td>\n",
       "      <td>Satisfied</td>\n",
       "      <td>Yes</td>\n",
       "      <td>good</td>\n",
       "    </tr>\n",
       "    <tr>\n",
       "      <th>2</th>\n",
       "      <td>20/02/2021 13:46:01</td>\n",
       "      <td>Resort hotel</td>\n",
       "      <td>Facility, Good Environment</td>\n",
       "      <td>Sanitization, Temperature Checking, Mask</td>\n",
       "      <td>Yes</td>\n",
       "      <td>For the trip</td>\n",
       "      <td>Group</td>\n",
       "      <td>Good Facility</td>\n",
       "      <td>Yes</td>\n",
       "      <td>Yes</td>\n",
       "      <td>Excellent</td>\n",
       "      <td>Very Good</td>\n",
       "      <td>May be</td>\n",
       "      <td>Satisfied</td>\n",
       "      <td>No</td>\n",
       "      <td>Very good</td>\n",
       "    </tr>\n",
       "    <tr>\n",
       "      <th>3</th>\n",
       "      <td>20/02/2021 13:46:08</td>\n",
       "      <td>Resort hotel</td>\n",
       "      <td>Facility, Good Environment</td>\n",
       "      <td>Sanitization, Temperature Checking, Mask</td>\n",
       "      <td>Yes</td>\n",
       "      <td>For the trip</td>\n",
       "      <td>Group</td>\n",
       "      <td>Good Facility</td>\n",
       "      <td>Yes</td>\n",
       "      <td>Yes</td>\n",
       "      <td>Excellent</td>\n",
       "      <td>Very Good</td>\n",
       "      <td>May be</td>\n",
       "      <td>Satisfied</td>\n",
       "      <td>No</td>\n",
       "      <td>Very good</td>\n",
       "    </tr>\n",
       "    <tr>\n",
       "      <th>4</th>\n",
       "      <td>20/02/2021 13:57:17</td>\n",
       "      <td>City hotel</td>\n",
       "      <td>Good Environment</td>\n",
       "      <td>Sanitization, Temperature Checking</td>\n",
       "      <td>No</td>\n",
       "      <td>For the trip</td>\n",
       "      <td>Group</td>\n",
       "      <td>Good Facility, Acessibility, Dinning Option, S...</td>\n",
       "      <td>Yes</td>\n",
       "      <td>Yes</td>\n",
       "      <td>Good</td>\n",
       "      <td>Generally Satisfactory</td>\n",
       "      <td>May be</td>\n",
       "      <td>Satisfied</td>\n",
       "      <td>Yes</td>\n",
       "      <td>Yes I will recommend this hotel</td>\n",
       "    </tr>\n",
       "    <tr>\n",
       "      <th>...</th>\n",
       "      <td>...</td>\n",
       "      <td>...</td>\n",
       "      <td>...</td>\n",
       "      <td>...</td>\n",
       "      <td>...</td>\n",
       "      <td>...</td>\n",
       "      <td>...</td>\n",
       "      <td>...</td>\n",
       "      <td>...</td>\n",
       "      <td>...</td>\n",
       "      <td>...</td>\n",
       "      <td>...</td>\n",
       "      <td>...</td>\n",
       "      <td>...</td>\n",
       "      <td>...</td>\n",
       "      <td>...</td>\n",
       "    </tr>\n",
       "    <tr>\n",
       "      <th>196</th>\n",
       "      <td>22/04/2021 19:41:57</td>\n",
       "      <td>City hotel</td>\n",
       "      <td>Affordable</td>\n",
       "      <td>Sanitization</td>\n",
       "      <td>Yes</td>\n",
       "      <td>For the trip</td>\n",
       "      <td>Alone</td>\n",
       "      <td>Hotel Loyalty</td>\n",
       "      <td>Yes</td>\n",
       "      <td>Yes</td>\n",
       "      <td>Good</td>\n",
       "      <td>Very Good</td>\n",
       "      <td>Yes</td>\n",
       "      <td>Satisfied</td>\n",
       "      <td>Yes</td>\n",
       "      <td>8/10</td>\n",
       "    </tr>\n",
       "    <tr>\n",
       "      <th>197</th>\n",
       "      <td>22/04/2021 19:42:25</td>\n",
       "      <td>Resort hotel</td>\n",
       "      <td>Affordable</td>\n",
       "      <td>Temperature Checking</td>\n",
       "      <td>Yes</td>\n",
       "      <td>Affordable</td>\n",
       "      <td>Group</td>\n",
       "      <td>Hotel Loyalty</td>\n",
       "      <td>Yes</td>\n",
       "      <td>Yes</td>\n",
       "      <td>Very Good</td>\n",
       "      <td>Very Good</td>\n",
       "      <td>Yes</td>\n",
       "      <td>Satisfied</td>\n",
       "      <td>Yes</td>\n",
       "      <td>8/10</td>\n",
       "    </tr>\n",
       "    <tr>\n",
       "      <th>198</th>\n",
       "      <td>22/04/2021 19:44:23</td>\n",
       "      <td>City hotel</td>\n",
       "      <td>Affordable</td>\n",
       "      <td>Temperature Checking</td>\n",
       "      <td>Yes</td>\n",
       "      <td>Affordable</td>\n",
       "      <td>Alone</td>\n",
       "      <td>Good Facility</td>\n",
       "      <td>Yes</td>\n",
       "      <td>Yes</td>\n",
       "      <td>Very Good</td>\n",
       "      <td>Very Good</td>\n",
       "      <td>Yes</td>\n",
       "      <td>Satisfied</td>\n",
       "      <td>Yes</td>\n",
       "      <td>7/10</td>\n",
       "    </tr>\n",
       "    <tr>\n",
       "      <th>199</th>\n",
       "      <td>22/04/2021 19:44:46</td>\n",
       "      <td>Resort hotel</td>\n",
       "      <td>Good Environment</td>\n",
       "      <td>Temperature Checking</td>\n",
       "      <td>Yes</td>\n",
       "      <td>Affordable</td>\n",
       "      <td>Alone</td>\n",
       "      <td>Acessibility</td>\n",
       "      <td>Yes</td>\n",
       "      <td>Yes</td>\n",
       "      <td>Very Good</td>\n",
       "      <td>Very Good</td>\n",
       "      <td>Yes</td>\n",
       "      <td>Satisfied</td>\n",
       "      <td>Yes</td>\n",
       "      <td>8/10</td>\n",
       "    </tr>\n",
       "    <tr>\n",
       "      <th>200</th>\n",
       "      <td>22/04/2021 19:45:10</td>\n",
       "      <td>Resort hotel</td>\n",
       "      <td>Affordable</td>\n",
       "      <td>Temperature Checking</td>\n",
       "      <td>Yes</td>\n",
       "      <td>For the trip</td>\n",
       "      <td>Group</td>\n",
       "      <td>Good Facility</td>\n",
       "      <td>Yes</td>\n",
       "      <td>Yes</td>\n",
       "      <td>Excellent</td>\n",
       "      <td>Excellent</td>\n",
       "      <td>Yes</td>\n",
       "      <td>Satisfied</td>\n",
       "      <td>Yes</td>\n",
       "      <td>10/10</td>\n",
       "    </tr>\n",
       "  </tbody>\n",
       "</table>\n",
       "<p>201 rows × 16 columns</p>\n",
       "</div>"
      ],
      "text/plain": [
       "               Timestamp    Hotel Type  \\\n",
       "0    20/02/2021 13:13:48  Resort hotel   \n",
       "1    20/02/2021 13:16:53  Resort hotel   \n",
       "2    20/02/2021 13:46:01  Resort hotel   \n",
       "3    20/02/2021 13:46:08  Resort hotel   \n",
       "4    20/02/2021 13:57:17    City hotel   \n",
       "..                   ...           ...   \n",
       "196  22/04/2021 19:41:57    City hotel   \n",
       "197  22/04/2021 19:42:25  Resort hotel   \n",
       "198  22/04/2021 19:44:23    City hotel   \n",
       "199  22/04/2021 19:44:46  Resort hotel   \n",
       "200  22/04/2021 19:45:10  Resort hotel   \n",
       "\n",
       "             Why do you like to hangout in this hotel?  \\\n",
       "0                                     Good Environment   \n",
       "1    Facility, Good Environment, Affordable, Food a...   \n",
       "2                           Facility, Good Environment   \n",
       "3                           Facility, Good Environment   \n",
       "4                                     Good Environment   \n",
       "..                                                 ...   \n",
       "196                                         Affordable   \n",
       "197                                         Affordable   \n",
       "198                                         Affordable   \n",
       "199                                   Good Environment   \n",
       "200                                         Affordable   \n",
       "\n",
       "    Which kind of facilities are given in COVID-19 situation?  \\\n",
       "0                                         Sanitization          \n",
       "1             Sanitization, Temperature Checking, Mask          \n",
       "2             Sanitization, Temperature Checking, Mask          \n",
       "3             Sanitization, Temperature Checking, Mask          \n",
       "4                   Sanitization, Temperature Checking          \n",
       "..                                                 ...          \n",
       "196                                       Sanitization          \n",
       "197                               Temperature Checking          \n",
       "198                               Temperature Checking          \n",
       "199                               Temperature Checking          \n",
       "200                               Temperature Checking          \n",
       "\n",
       "    Are you satisfied with the above facilities?  \\\n",
       "0                                            Yes   \n",
       "1                                            Yes   \n",
       "2                                            Yes   \n",
       "3                                            Yes   \n",
       "4                                             No   \n",
       "..                                           ...   \n",
       "196                                          Yes   \n",
       "197                                          Yes   \n",
       "198                                          Yes   \n",
       "199                                          Yes   \n",
       "200                                          Yes   \n",
       "\n",
       "    What was the reason for your visit? Were you alone or in a group?  \\\n",
       "0                       Budget friendly                         Group   \n",
       "1                          For the trip                         Group   \n",
       "2                          For the trip                         Group   \n",
       "3                          For the trip                         Group   \n",
       "4                          For the trip                         Group   \n",
       "..                                  ...                           ...   \n",
       "196                        For the trip                         Alone   \n",
       "197                          Affordable                         Group   \n",
       "198                          Affordable                         Alone   \n",
       "199                          Affordable                         Alone   \n",
       "200                        For the trip                         Group   \n",
       "\n",
       "                       Why  did you choose this hotel?  \\\n",
       "0                                        Good Facility   \n",
       "1                                        Good Facility   \n",
       "2                                        Good Facility   \n",
       "3                                        Good Facility   \n",
       "4    Good Facility, Acessibility, Dinning Option, S...   \n",
       "..                                                 ...   \n",
       "196                                      Hotel Loyalty   \n",
       "197                                      Hotel Loyalty   \n",
       "198                                      Good Facility   \n",
       "199                                       Acessibility   \n",
       "200                                      Good Facility   \n",
       "\n",
       "    Were the staff friendly and helpful? Did you eat at the hotel?  \\\n",
       "0                                    Yes                       Yes   \n",
       "1                                    Yes                       Yes   \n",
       "2                                    Yes                       Yes   \n",
       "3                                    Yes                       Yes   \n",
       "4                                    Yes                       Yes   \n",
       "..                                   ...                       ...   \n",
       "196                                  Yes                       Yes   \n",
       "197                                  Yes                       Yes   \n",
       "198                                  Yes                       Yes   \n",
       "199                                  Yes                       Yes   \n",
       "200                                  Yes                       Yes   \n",
       "\n",
       "    How would you rate the hotel?    Food Hygiene rating.  \\\n",
       "0                       Excellent               Excellent   \n",
       "1                            Good  Generally Satisfactory   \n",
       "2                       Excellent               Very Good   \n",
       "3                       Excellent               Very Good   \n",
       "4                            Good  Generally Satisfactory   \n",
       "..                            ...                     ...   \n",
       "196                          Good               Very Good   \n",
       "197                     Very Good               Very Good   \n",
       "198                     Very Good               Very Good   \n",
       "199                     Very Good               Very Good   \n",
       "200                     Excellent               Excellent   \n",
       "\n",
       "    How Likely are you to stay at this hotel again?  \\\n",
       "0                                               Yes   \n",
       "1                                            May be   \n",
       "2                                            May be   \n",
       "3                                            May be   \n",
       "4                                            May be   \n",
       "..                                              ...   \n",
       "196                                             Yes   \n",
       "197                                             Yes   \n",
       "198                                             Yes   \n",
       "199                                             Yes   \n",
       "200                                             Yes   \n",
       "\n",
       "    Overall were you satisfied ,dissatisfied , or neither?   \\\n",
       "0                                            Satisfied        \n",
       "1                                            Satisfied        \n",
       "2                                            Satisfied        \n",
       "3                                            Satisfied        \n",
       "4                                            Satisfied        \n",
       "..                                                 ...        \n",
       "196                                          Satisfied        \n",
       "197                                          Satisfied        \n",
       "198                                          Satisfied        \n",
       "199                                          Satisfied        \n",
       "200                                          Satisfied        \n",
       "\n",
       "    Would you like to suggest them to improve their service?   \\\n",
       "0                                                   No          \n",
       "1                                                  Yes          \n",
       "2                                                   No          \n",
       "3                                                   No          \n",
       "4                                                  Yes          \n",
       "..                                                 ...          \n",
       "196                                                Yes          \n",
       "197                                                Yes          \n",
       "198                                                Yes          \n",
       "199                                                Yes          \n",
       "200                                                Yes          \n",
       "\n",
       "    How Likely are you to recommend this hotel?  \n",
       "0                                     Very Nice  \n",
       "1                                         good   \n",
       "2                                     Very good  \n",
       "3                                     Very good  \n",
       "4               Yes I will recommend this hotel  \n",
       "..                                          ...  \n",
       "196                                        8/10  \n",
       "197                                        8/10  \n",
       "198                                        7/10  \n",
       "199                                        8/10  \n",
       "200                                       10/10  \n",
       "\n",
       "[201 rows x 16 columns]"
      ]
     },
     "execution_count": 7,
     "metadata": {},
     "output_type": "execute_result"
    }
   ],
   "source": [
    "df.rename(columns={'What do you like to prefer more?':'Hotel Type', })"
   ]
  },
  {
   "cell_type": "code",
   "execution_count": 8,
   "metadata": {},
   "outputs": [
    {
     "data": {
      "text/plain": [
       "0"
      ]
     },
     "execution_count": 8,
     "metadata": {},
     "output_type": "execute_result"
    }
   ],
   "source": [
    "df.duplicated().sum()"
   ]
  },
  {
   "cell_type": "code",
   "execution_count": 9,
   "metadata": {},
   "outputs": [
    {
     "data": {
      "text/html": [
       "<div>\n",
       "<style scoped>\n",
       "    .dataframe tbody tr th:only-of-type {\n",
       "        vertical-align: middle;\n",
       "    }\n",
       "\n",
       "    .dataframe tbody tr th {\n",
       "        vertical-align: top;\n",
       "    }\n",
       "\n",
       "    .dataframe thead th {\n",
       "        text-align: right;\n",
       "    }\n",
       "</style>\n",
       "<table border=\"1\" class=\"dataframe\">\n",
       "  <thead>\n",
       "    <tr style=\"text-align: right;\">\n",
       "      <th></th>\n",
       "      <th>Timestamp</th>\n",
       "      <th>What do you like to prefer more?</th>\n",
       "      <th>Why do you like to hangout in this hotel?</th>\n",
       "      <th>Which kind of facilities are given in COVID-19 situation?</th>\n",
       "      <th>Are you satisfied with the above facilities?</th>\n",
       "      <th>What was the reason for your visit?</th>\n",
       "      <th>Were you alone or in a group?</th>\n",
       "      <th>Why  did you choose this hotel?</th>\n",
       "      <th>Were the staff friendly and helpful?</th>\n",
       "      <th>Did you eat at the hotel?</th>\n",
       "      <th>How would you rate the hotel?</th>\n",
       "      <th>Food Hygiene rating.</th>\n",
       "      <th>How Likely are you to stay at this hotel again?</th>\n",
       "      <th>Overall were you satisfied ,dissatisfied , or neither?</th>\n",
       "      <th>Would you like to suggest them to improve their service?</th>\n",
       "      <th>How Likely are you to recommend this hotel?</th>\n",
       "    </tr>\n",
       "  </thead>\n",
       "  <tbody>\n",
       "  </tbody>\n",
       "</table>\n",
       "</div>"
      ],
      "text/plain": [
       "Empty DataFrame\n",
       "Columns: [Timestamp, What do you like to prefer more?, Why do you like to hangout in this hotel?, Which kind of facilities are given in COVID-19 situation?, Are you satisfied with the above facilities?, What was the reason for your visit?, Were you alone or in a group?, Why  did you choose this hotel?, Were the staff friendly and helpful?, Did you eat at the hotel?, How would you rate the hotel?, Food Hygiene rating., How Likely are you to stay at this hotel again?, Overall were you satisfied ,dissatisfied , or neither? , Would you like to suggest them to improve their service? , How Likely are you to recommend this hotel?]\n",
       "Index: []"
      ]
     },
     "execution_count": 9,
     "metadata": {},
     "output_type": "execute_result"
    }
   ],
   "source": [
    "duplicate = df[df.duplicated()]\n",
    "duplicate"
   ]
  },
  {
   "cell_type": "code",
   "execution_count": 10,
   "metadata": {},
   "outputs": [],
   "source": [
    "df_New=pd.DataFrame.drop_duplicates(df)"
   ]
  },
  {
   "cell_type": "code",
   "execution_count": 11,
   "metadata": {},
   "outputs": [
    {
     "data": {
      "text/plain": [
       "0"
      ]
     },
     "execution_count": 11,
     "metadata": {},
     "output_type": "execute_result"
    }
   ],
   "source": [
    "df_New.duplicated().sum()"
   ]
  },
  {
   "cell_type": "code",
   "execution_count": 12,
   "metadata": {},
   "outputs": [
    {
     "data": {
      "text/plain": [
       "Timestamp                                                    0\n",
       "What do you like to prefer more?                             0\n",
       "Why do you like to hangout in this hotel?                    0\n",
       "Which kind of facilities are given in COVID-19 situation?    0\n",
       "Are you satisfied with the above facilities?                 0\n",
       "What was the reason for your visit?                          0\n",
       "Were you alone or in a group?                                0\n",
       "Why  did you choose this hotel?                              0\n",
       "Were the staff friendly and helpful?                         0\n",
       "Did you eat at the hotel?                                    0\n",
       "How would you rate the hotel?                                0\n",
       "Food Hygiene rating.                                         0\n",
       "How Likely are you to stay at this hotel again?              0\n",
       "Overall were you satisfied ,dissatisfied , or neither?       0\n",
       "Would you like to suggest them to improve their service?     0\n",
       "How Likely are you to recommend this hotel?                  0\n",
       "dtype: int64"
      ]
     },
     "execution_count": 12,
     "metadata": {},
     "output_type": "execute_result"
    }
   ],
   "source": [
    "df.isnull().sum()"
   ]
  },
  {
   "cell_type": "code",
   "execution_count": 13,
   "metadata": {},
   "outputs": [
    {
     "name": "stdout",
     "output_type": "stream",
     "text": [
      "<class 'pandas.core.frame.DataFrame'>\n",
      "RangeIndex: 201 entries, 0 to 200\n",
      "Data columns (total 16 columns):\n",
      " #   Column                                                     Non-Null Count  Dtype \n",
      "---  ------                                                     --------------  ----- \n",
      " 0   Timestamp                                                  201 non-null    object\n",
      " 1   What do you like to prefer more?                           201 non-null    object\n",
      " 2   Why do you like to hangout in this hotel?                  201 non-null    object\n",
      " 3   Which kind of facilities are given in COVID-19 situation?  201 non-null    object\n",
      " 4   Are you satisfied with the above facilities?               201 non-null    object\n",
      " 5   What was the reason for your visit?                        201 non-null    object\n",
      " 6   Were you alone or in a group?                              201 non-null    object\n",
      " 7   Why  did you choose this hotel?                            201 non-null    object\n",
      " 8   Were the staff friendly and helpful?                       201 non-null    object\n",
      " 9   Did you eat at the hotel?                                  201 non-null    object\n",
      " 10  How would you rate the hotel?                              201 non-null    object\n",
      " 11  Food Hygiene rating.                                       201 non-null    object\n",
      " 12  How Likely are you to stay at this hotel again?            201 non-null    object\n",
      " 13  Overall were you satisfied ,dissatisfied , or neither?     201 non-null    object\n",
      " 14  Would you like to suggest them to improve their service?   201 non-null    object\n",
      " 15  How Likely are you to recommend this hotel?                201 non-null    object\n",
      "dtypes: object(16)\n",
      "memory usage: 25.2+ KB\n"
     ]
    }
   ],
   "source": [
    "df.info()"
   ]
  },
  {
   "cell_type": "code",
   "execution_count": 14,
   "metadata": {},
   "outputs": [
    {
     "data": {
      "text/html": [
       "<div>\n",
       "<style scoped>\n",
       "    .dataframe tbody tr th:only-of-type {\n",
       "        vertical-align: middle;\n",
       "    }\n",
       "\n",
       "    .dataframe tbody tr th {\n",
       "        vertical-align: top;\n",
       "    }\n",
       "\n",
       "    .dataframe thead th {\n",
       "        text-align: right;\n",
       "    }\n",
       "</style>\n",
       "<table border=\"1\" class=\"dataframe\">\n",
       "  <thead>\n",
       "    <tr style=\"text-align: right;\">\n",
       "      <th></th>\n",
       "      <th>Missing</th>\n",
       "    </tr>\n",
       "  </thead>\n",
       "  <tbody>\n",
       "    <tr>\n",
       "      <th>Timestamp</th>\n",
       "      <td>0.0</td>\n",
       "    </tr>\n",
       "    <tr>\n",
       "      <th>What do you like to prefer more?</th>\n",
       "      <td>0.0</td>\n",
       "    </tr>\n",
       "    <tr>\n",
       "      <th>Why do you like to hangout in this hotel?</th>\n",
       "      <td>0.0</td>\n",
       "    </tr>\n",
       "    <tr>\n",
       "      <th>Which kind of facilities are given in COVID-19 situation?</th>\n",
       "      <td>0.0</td>\n",
       "    </tr>\n",
       "    <tr>\n",
       "      <th>Are you satisfied with the above facilities?</th>\n",
       "      <td>0.0</td>\n",
       "    </tr>\n",
       "    <tr>\n",
       "      <th>What was the reason for your visit?</th>\n",
       "      <td>0.0</td>\n",
       "    </tr>\n",
       "    <tr>\n",
       "      <th>Were you alone or in a group?</th>\n",
       "      <td>0.0</td>\n",
       "    </tr>\n",
       "    <tr>\n",
       "      <th>Why  did you choose this hotel?</th>\n",
       "      <td>0.0</td>\n",
       "    </tr>\n",
       "    <tr>\n",
       "      <th>Were the staff friendly and helpful?</th>\n",
       "      <td>0.0</td>\n",
       "    </tr>\n",
       "    <tr>\n",
       "      <th>Did you eat at the hotel?</th>\n",
       "      <td>0.0</td>\n",
       "    </tr>\n",
       "    <tr>\n",
       "      <th>How would you rate the hotel?</th>\n",
       "      <td>0.0</td>\n",
       "    </tr>\n",
       "    <tr>\n",
       "      <th>Food Hygiene rating.</th>\n",
       "      <td>0.0</td>\n",
       "    </tr>\n",
       "    <tr>\n",
       "      <th>How Likely are you to stay at this hotel again?</th>\n",
       "      <td>0.0</td>\n",
       "    </tr>\n",
       "    <tr>\n",
       "      <th>Overall were you satisfied ,dissatisfied , or neither?</th>\n",
       "      <td>0.0</td>\n",
       "    </tr>\n",
       "    <tr>\n",
       "      <th>Would you like to suggest them to improve their service?</th>\n",
       "      <td>0.0</td>\n",
       "    </tr>\n",
       "    <tr>\n",
       "      <th>How Likely are you to recommend this hotel?</th>\n",
       "      <td>0.0</td>\n",
       "    </tr>\n",
       "  </tbody>\n",
       "</table>\n",
       "</div>"
      ],
      "text/plain": [
       "                                                    Missing\n",
       "Timestamp                                               0.0\n",
       "What do you like to prefer more?                        0.0\n",
       "Why do you like to hangout in this hotel?               0.0\n",
       "Which kind of facilities are given in COVID-19 ...      0.0\n",
       "Are you satisfied with the above facilities?            0.0\n",
       "What was the reason for your visit?                     0.0\n",
       "Were you alone or in a group?                           0.0\n",
       "Why  did you choose this hotel?                         0.0\n",
       "Were the staff friendly and helpful?                    0.0\n",
       "Did you eat at the hotel?                               0.0\n",
       "How would you rate the hotel?                           0.0\n",
       "Food Hygiene rating.                                    0.0\n",
       "How Likely are you to stay at this hotel again?         0.0\n",
       "Overall were you satisfied ,dissatisfied , or n...      0.0\n",
       "Would you like to suggest them to improve their...      0.0\n",
       "How Likely are you to recommend this hotel?             0.0"
      ]
     },
     "execution_count": 14,
     "metadata": {},
     "output_type": "execute_result"
    }
   ],
   "source": [
    "pd.DataFrame(round(df.isnull().sum()/df.shape[0]*100,3),columns=[\"Missing\"])"
   ]
  },
  {
   "cell_type": "code",
   "execution_count": 15,
   "metadata": {},
   "outputs": [
    {
     "data": {
      "text/html": [
       "<div>\n",
       "<style scoped>\n",
       "    .dataframe tbody tr th:only-of-type {\n",
       "        vertical-align: middle;\n",
       "    }\n",
       "\n",
       "    .dataframe tbody tr th {\n",
       "        vertical-align: top;\n",
       "    }\n",
       "\n",
       "    .dataframe thead th {\n",
       "        text-align: right;\n",
       "    }\n",
       "</style>\n",
       "<table border=\"1\" class=\"dataframe\">\n",
       "  <thead>\n",
       "    <tr style=\"text-align: right;\">\n",
       "      <th></th>\n",
       "      <th>Timestamp</th>\n",
       "      <th>What do you like to prefer more?</th>\n",
       "      <th>Why do you like to hangout in this hotel?</th>\n",
       "      <th>Which kind of facilities are given in COVID-19 situation?</th>\n",
       "      <th>Are you satisfied with the above facilities?</th>\n",
       "      <th>What was the reason for your visit?</th>\n",
       "      <th>Were you alone or in a group?</th>\n",
       "      <th>Why  did you choose this hotel?</th>\n",
       "      <th>Were the staff friendly and helpful?</th>\n",
       "      <th>Did you eat at the hotel?</th>\n",
       "      <th>How would you rate the hotel?</th>\n",
       "      <th>Food Hygiene rating.</th>\n",
       "      <th>How Likely are you to stay at this hotel again?</th>\n",
       "      <th>Overall were you satisfied ,dissatisfied , or neither?</th>\n",
       "      <th>Would you like to suggest them to improve their service?</th>\n",
       "      <th>How Likely are you to recommend this hotel?</th>\n",
       "    </tr>\n",
       "  </thead>\n",
       "  <tbody>\n",
       "    <tr>\n",
       "      <th>0</th>\n",
       "      <td>20/02/2021 13:13:48</td>\n",
       "      <td>Resort hotel</td>\n",
       "      <td>Good Environment</td>\n",
       "      <td>Sanitization</td>\n",
       "      <td>Yes</td>\n",
       "      <td>Budget friendly</td>\n",
       "      <td>Group</td>\n",
       "      <td>Good Facility</td>\n",
       "      <td>Yes</td>\n",
       "      <td>Yes</td>\n",
       "      <td>Excellent</td>\n",
       "      <td>Excellent</td>\n",
       "      <td>Yes</td>\n",
       "      <td>Satisfied</td>\n",
       "      <td>No</td>\n",
       "      <td>Very Nice</td>\n",
       "    </tr>\n",
       "    <tr>\n",
       "      <th>1</th>\n",
       "      <td>20/02/2021 13:16:53</td>\n",
       "      <td>Resort hotel</td>\n",
       "      <td>Facility, Good Environment, Affordable, Food a...</td>\n",
       "      <td>Sanitization, Temperature Checking, Mask</td>\n",
       "      <td>Yes</td>\n",
       "      <td>For the trip</td>\n",
       "      <td>Group</td>\n",
       "      <td>Good Facility</td>\n",
       "      <td>Yes</td>\n",
       "      <td>Yes</td>\n",
       "      <td>Good</td>\n",
       "      <td>Generally Satisfactory</td>\n",
       "      <td>May be</td>\n",
       "      <td>Satisfied</td>\n",
       "      <td>Yes</td>\n",
       "      <td>good</td>\n",
       "    </tr>\n",
       "    <tr>\n",
       "      <th>2</th>\n",
       "      <td>20/02/2021 13:46:01</td>\n",
       "      <td>Resort hotel</td>\n",
       "      <td>Facility, Good Environment</td>\n",
       "      <td>Sanitization, Temperature Checking, Mask</td>\n",
       "      <td>Yes</td>\n",
       "      <td>For the trip</td>\n",
       "      <td>Group</td>\n",
       "      <td>Good Facility</td>\n",
       "      <td>Yes</td>\n",
       "      <td>Yes</td>\n",
       "      <td>Excellent</td>\n",
       "      <td>Very Good</td>\n",
       "      <td>May be</td>\n",
       "      <td>Satisfied</td>\n",
       "      <td>No</td>\n",
       "      <td>Very good</td>\n",
       "    </tr>\n",
       "    <tr>\n",
       "      <th>3</th>\n",
       "      <td>20/02/2021 13:46:08</td>\n",
       "      <td>Resort hotel</td>\n",
       "      <td>Facility, Good Environment</td>\n",
       "      <td>Sanitization, Temperature Checking, Mask</td>\n",
       "      <td>Yes</td>\n",
       "      <td>For the trip</td>\n",
       "      <td>Group</td>\n",
       "      <td>Good Facility</td>\n",
       "      <td>Yes</td>\n",
       "      <td>Yes</td>\n",
       "      <td>Excellent</td>\n",
       "      <td>Very Good</td>\n",
       "      <td>May be</td>\n",
       "      <td>Satisfied</td>\n",
       "      <td>No</td>\n",
       "      <td>Very good</td>\n",
       "    </tr>\n",
       "    <tr>\n",
       "      <th>4</th>\n",
       "      <td>20/02/2021 13:57:17</td>\n",
       "      <td>City hotel</td>\n",
       "      <td>Good Environment</td>\n",
       "      <td>Sanitization, Temperature Checking</td>\n",
       "      <td>No</td>\n",
       "      <td>For the trip</td>\n",
       "      <td>Group</td>\n",
       "      <td>Good Facility, Acessibility, Dinning Option, S...</td>\n",
       "      <td>Yes</td>\n",
       "      <td>Yes</td>\n",
       "      <td>Good</td>\n",
       "      <td>Generally Satisfactory</td>\n",
       "      <td>May be</td>\n",
       "      <td>Satisfied</td>\n",
       "      <td>Yes</td>\n",
       "      <td>Yes I will recommend this hotel</td>\n",
       "    </tr>\n",
       "    <tr>\n",
       "      <th>...</th>\n",
       "      <td>...</td>\n",
       "      <td>...</td>\n",
       "      <td>...</td>\n",
       "      <td>...</td>\n",
       "      <td>...</td>\n",
       "      <td>...</td>\n",
       "      <td>...</td>\n",
       "      <td>...</td>\n",
       "      <td>...</td>\n",
       "      <td>...</td>\n",
       "      <td>...</td>\n",
       "      <td>...</td>\n",
       "      <td>...</td>\n",
       "      <td>...</td>\n",
       "      <td>...</td>\n",
       "      <td>...</td>\n",
       "    </tr>\n",
       "    <tr>\n",
       "      <th>196</th>\n",
       "      <td>22/04/2021 19:41:57</td>\n",
       "      <td>City hotel</td>\n",
       "      <td>Affordable</td>\n",
       "      <td>Sanitization</td>\n",
       "      <td>Yes</td>\n",
       "      <td>For the trip</td>\n",
       "      <td>Alone</td>\n",
       "      <td>Hotel Loyalty</td>\n",
       "      <td>Yes</td>\n",
       "      <td>Yes</td>\n",
       "      <td>Good</td>\n",
       "      <td>Very Good</td>\n",
       "      <td>Yes</td>\n",
       "      <td>Satisfied</td>\n",
       "      <td>Yes</td>\n",
       "      <td>8/10</td>\n",
       "    </tr>\n",
       "    <tr>\n",
       "      <th>197</th>\n",
       "      <td>22/04/2021 19:42:25</td>\n",
       "      <td>Resort hotel</td>\n",
       "      <td>Affordable</td>\n",
       "      <td>Temperature Checking</td>\n",
       "      <td>Yes</td>\n",
       "      <td>Affordable</td>\n",
       "      <td>Group</td>\n",
       "      <td>Hotel Loyalty</td>\n",
       "      <td>Yes</td>\n",
       "      <td>Yes</td>\n",
       "      <td>Very Good</td>\n",
       "      <td>Very Good</td>\n",
       "      <td>Yes</td>\n",
       "      <td>Satisfied</td>\n",
       "      <td>Yes</td>\n",
       "      <td>8/10</td>\n",
       "    </tr>\n",
       "    <tr>\n",
       "      <th>198</th>\n",
       "      <td>22/04/2021 19:44:23</td>\n",
       "      <td>City hotel</td>\n",
       "      <td>Affordable</td>\n",
       "      <td>Temperature Checking</td>\n",
       "      <td>Yes</td>\n",
       "      <td>Affordable</td>\n",
       "      <td>Alone</td>\n",
       "      <td>Good Facility</td>\n",
       "      <td>Yes</td>\n",
       "      <td>Yes</td>\n",
       "      <td>Very Good</td>\n",
       "      <td>Very Good</td>\n",
       "      <td>Yes</td>\n",
       "      <td>Satisfied</td>\n",
       "      <td>Yes</td>\n",
       "      <td>7/10</td>\n",
       "    </tr>\n",
       "    <tr>\n",
       "      <th>199</th>\n",
       "      <td>22/04/2021 19:44:46</td>\n",
       "      <td>Resort hotel</td>\n",
       "      <td>Good Environment</td>\n",
       "      <td>Temperature Checking</td>\n",
       "      <td>Yes</td>\n",
       "      <td>Affordable</td>\n",
       "      <td>Alone</td>\n",
       "      <td>Acessibility</td>\n",
       "      <td>Yes</td>\n",
       "      <td>Yes</td>\n",
       "      <td>Very Good</td>\n",
       "      <td>Very Good</td>\n",
       "      <td>Yes</td>\n",
       "      <td>Satisfied</td>\n",
       "      <td>Yes</td>\n",
       "      <td>8/10</td>\n",
       "    </tr>\n",
       "    <tr>\n",
       "      <th>200</th>\n",
       "      <td>22/04/2021 19:45:10</td>\n",
       "      <td>Resort hotel</td>\n",
       "      <td>Affordable</td>\n",
       "      <td>Temperature Checking</td>\n",
       "      <td>Yes</td>\n",
       "      <td>For the trip</td>\n",
       "      <td>Group</td>\n",
       "      <td>Good Facility</td>\n",
       "      <td>Yes</td>\n",
       "      <td>Yes</td>\n",
       "      <td>Excellent</td>\n",
       "      <td>Excellent</td>\n",
       "      <td>Yes</td>\n",
       "      <td>Satisfied</td>\n",
       "      <td>Yes</td>\n",
       "      <td>10/10</td>\n",
       "    </tr>\n",
       "  </tbody>\n",
       "</table>\n",
       "<p>201 rows × 16 columns</p>\n",
       "</div>"
      ],
      "text/plain": [
       "               Timestamp What do you like to prefer more?  \\\n",
       "0    20/02/2021 13:13:48                     Resort hotel   \n",
       "1    20/02/2021 13:16:53                     Resort hotel   \n",
       "2    20/02/2021 13:46:01                     Resort hotel   \n",
       "3    20/02/2021 13:46:08                     Resort hotel   \n",
       "4    20/02/2021 13:57:17                       City hotel   \n",
       "..                   ...                              ...   \n",
       "196  22/04/2021 19:41:57                       City hotel   \n",
       "197  22/04/2021 19:42:25                     Resort hotel   \n",
       "198  22/04/2021 19:44:23                       City hotel   \n",
       "199  22/04/2021 19:44:46                     Resort hotel   \n",
       "200  22/04/2021 19:45:10                     Resort hotel   \n",
       "\n",
       "             Why do you like to hangout in this hotel?  \\\n",
       "0                                     Good Environment   \n",
       "1    Facility, Good Environment, Affordable, Food a...   \n",
       "2                           Facility, Good Environment   \n",
       "3                           Facility, Good Environment   \n",
       "4                                     Good Environment   \n",
       "..                                                 ...   \n",
       "196                                         Affordable   \n",
       "197                                         Affordable   \n",
       "198                                         Affordable   \n",
       "199                                   Good Environment   \n",
       "200                                         Affordable   \n",
       "\n",
       "    Which kind of facilities are given in COVID-19 situation?  \\\n",
       "0                                         Sanitization          \n",
       "1             Sanitization, Temperature Checking, Mask          \n",
       "2             Sanitization, Temperature Checking, Mask          \n",
       "3             Sanitization, Temperature Checking, Mask          \n",
       "4                   Sanitization, Temperature Checking          \n",
       "..                                                 ...          \n",
       "196                                       Sanitization          \n",
       "197                               Temperature Checking          \n",
       "198                               Temperature Checking          \n",
       "199                               Temperature Checking          \n",
       "200                               Temperature Checking          \n",
       "\n",
       "    Are you satisfied with the above facilities?  \\\n",
       "0                                            Yes   \n",
       "1                                            Yes   \n",
       "2                                            Yes   \n",
       "3                                            Yes   \n",
       "4                                             No   \n",
       "..                                           ...   \n",
       "196                                          Yes   \n",
       "197                                          Yes   \n",
       "198                                          Yes   \n",
       "199                                          Yes   \n",
       "200                                          Yes   \n",
       "\n",
       "    What was the reason for your visit? Were you alone or in a group?  \\\n",
       "0                       Budget friendly                         Group   \n",
       "1                          For the trip                         Group   \n",
       "2                          For the trip                         Group   \n",
       "3                          For the trip                         Group   \n",
       "4                          For the trip                         Group   \n",
       "..                                  ...                           ...   \n",
       "196                        For the trip                         Alone   \n",
       "197                          Affordable                         Group   \n",
       "198                          Affordable                         Alone   \n",
       "199                          Affordable                         Alone   \n",
       "200                        For the trip                         Group   \n",
       "\n",
       "                       Why  did you choose this hotel?  \\\n",
       "0                                        Good Facility   \n",
       "1                                        Good Facility   \n",
       "2                                        Good Facility   \n",
       "3                                        Good Facility   \n",
       "4    Good Facility, Acessibility, Dinning Option, S...   \n",
       "..                                                 ...   \n",
       "196                                      Hotel Loyalty   \n",
       "197                                      Hotel Loyalty   \n",
       "198                                      Good Facility   \n",
       "199                                       Acessibility   \n",
       "200                                      Good Facility   \n",
       "\n",
       "    Were the staff friendly and helpful? Did you eat at the hotel?  \\\n",
       "0                                    Yes                       Yes   \n",
       "1                                    Yes                       Yes   \n",
       "2                                    Yes                       Yes   \n",
       "3                                    Yes                       Yes   \n",
       "4                                    Yes                       Yes   \n",
       "..                                   ...                       ...   \n",
       "196                                  Yes                       Yes   \n",
       "197                                  Yes                       Yes   \n",
       "198                                  Yes                       Yes   \n",
       "199                                  Yes                       Yes   \n",
       "200                                  Yes                       Yes   \n",
       "\n",
       "    How would you rate the hotel?    Food Hygiene rating.  \\\n",
       "0                       Excellent               Excellent   \n",
       "1                            Good  Generally Satisfactory   \n",
       "2                       Excellent               Very Good   \n",
       "3                       Excellent               Very Good   \n",
       "4                            Good  Generally Satisfactory   \n",
       "..                            ...                     ...   \n",
       "196                          Good               Very Good   \n",
       "197                     Very Good               Very Good   \n",
       "198                     Very Good               Very Good   \n",
       "199                     Very Good               Very Good   \n",
       "200                     Excellent               Excellent   \n",
       "\n",
       "    How Likely are you to stay at this hotel again?  \\\n",
       "0                                               Yes   \n",
       "1                                            May be   \n",
       "2                                            May be   \n",
       "3                                            May be   \n",
       "4                                            May be   \n",
       "..                                              ...   \n",
       "196                                             Yes   \n",
       "197                                             Yes   \n",
       "198                                             Yes   \n",
       "199                                             Yes   \n",
       "200                                             Yes   \n",
       "\n",
       "    Overall were you satisfied ,dissatisfied , or neither?   \\\n",
       "0                                            Satisfied        \n",
       "1                                            Satisfied        \n",
       "2                                            Satisfied        \n",
       "3                                            Satisfied        \n",
       "4                                            Satisfied        \n",
       "..                                                 ...        \n",
       "196                                          Satisfied        \n",
       "197                                          Satisfied        \n",
       "198                                          Satisfied        \n",
       "199                                          Satisfied        \n",
       "200                                          Satisfied        \n",
       "\n",
       "    Would you like to suggest them to improve their service?   \\\n",
       "0                                                   No          \n",
       "1                                                  Yes          \n",
       "2                                                   No          \n",
       "3                                                   No          \n",
       "4                                                  Yes          \n",
       "..                                                 ...          \n",
       "196                                                Yes          \n",
       "197                                                Yes          \n",
       "198                                                Yes          \n",
       "199                                                Yes          \n",
       "200                                                Yes          \n",
       "\n",
       "    How Likely are you to recommend this hotel?  \n",
       "0                                     Very Nice  \n",
       "1                                         good   \n",
       "2                                     Very good  \n",
       "3                                     Very good  \n",
       "4               Yes I will recommend this hotel  \n",
       "..                                          ...  \n",
       "196                                        8/10  \n",
       "197                                        8/10  \n",
       "198                                        7/10  \n",
       "199                                        8/10  \n",
       "200                                       10/10  \n",
       "\n",
       "[201 rows x 16 columns]"
      ]
     },
     "execution_count": 15,
     "metadata": {},
     "output_type": "execute_result"
    }
   ],
   "source": [
    "df.drop(columns=\"How Likely are you to recommend this hotel?\", inplace= True)\n",
    "df_New"
   ]
  },
  {
   "cell_type": "code",
   "execution_count": 16,
   "metadata": {},
   "outputs": [
    {
     "data": {
      "text/plain": [
       "count              201\n",
       "unique               2\n",
       "top       Resort hotel\n",
       "freq               124\n",
       "Name: What do you like to prefer more?, dtype: object"
      ]
     },
     "execution_count": 16,
     "metadata": {},
     "output_type": "execute_result"
    }
   ],
   "source": [
    "df['What do you like to prefer more?'].describe()"
   ]
  },
  {
   "cell_type": "code",
   "execution_count": 17,
   "metadata": {},
   "outputs": [
    {
     "data": {
      "text/plain": [
       "count                  201\n",
       "unique                  15\n",
       "top       Good Environment\n",
       "freq                    51\n",
       "Name: Why do you like to hangout in this hotel?, dtype: object"
      ]
     },
     "execution_count": 17,
     "metadata": {},
     "output_type": "execute_result"
    }
   ],
   "source": [
    "df['Why do you like to hangout in this hotel?'].describe()"
   ]
  },
  {
   "cell_type": "code",
   "execution_count": 18,
   "metadata": {},
   "outputs": [
    {
     "data": {
      "text/plain": [
       "count                                                  201\n",
       "unique                                                  13\n",
       "top       Sanitization, Temperature Checking, Mask, Gloves\n",
       "freq                                                    46\n",
       "Name: Which kind of facilities are given in COVID-19 situation?, dtype: object"
      ]
     },
     "execution_count": 18,
     "metadata": {},
     "output_type": "execute_result"
    }
   ],
   "source": [
    "df['Which kind of facilities are given in COVID-19 situation?'].describe()"
   ]
  },
  {
   "cell_type": "code",
   "execution_count": 19,
   "metadata": {},
   "outputs": [
    {
     "data": {
      "text/plain": [
       "count     201\n",
       "unique      2\n",
       "top       Yes\n",
       "freq      192\n",
       "Name: Are you satisfied with the above facilities?, dtype: object"
      ]
     },
     "execution_count": 19,
     "metadata": {},
     "output_type": "execute_result"
    }
   ],
   "source": [
    "df['Are you satisfied with the above facilities?'].describe()"
   ]
  },
  {
   "cell_type": "code",
   "execution_count": 20,
   "metadata": {},
   "outputs": [
    {
     "data": {
      "text/plain": [
       "count              201\n",
       "unique               5\n",
       "top       For the trip\n",
       "freq               102\n",
       "Name: What was the reason for your visit?, dtype: object"
      ]
     },
     "execution_count": 20,
     "metadata": {},
     "output_type": "execute_result"
    }
   ],
   "source": [
    "df['What was the reason for your visit?'].describe()"
   ]
  },
  {
   "cell_type": "code",
   "execution_count": 21,
   "metadata": {},
   "outputs": [
    {
     "data": {
      "text/plain": [
       "count       201\n",
       "unique        2\n",
       "top       Group\n",
       "freq        150\n",
       "Name: Were you alone or in a group?, dtype: object"
      ]
     },
     "execution_count": 21,
     "metadata": {},
     "output_type": "execute_result"
    }
   ],
   "source": [
    "df['Were you alone or in a group?'].describe()"
   ]
  },
  {
   "cell_type": "code",
   "execution_count": 22,
   "metadata": {},
   "outputs": [
    {
     "data": {
      "text/plain": [
       "Index(['Timestamp', 'What do you like to prefer more?',\n",
       "       'Why do you like to hangout in this hotel?',\n",
       "       'Which kind of facilities are given in COVID-19 situation?',\n",
       "       'Are you satisfied with the above facilities?',\n",
       "       'What was the reason for your visit?', 'Were you alone or in a group?',\n",
       "       'Why  did you choose this hotel?',\n",
       "       'Were the staff friendly and helpful?', 'Did you eat at the hotel?',\n",
       "       'How would you rate the hotel?', 'Food Hygiene rating.',\n",
       "       'How Likely are you to stay at this hotel again?',\n",
       "       'Overall were you satisfied ,dissatisfied , or neither? ',\n",
       "       'Would you like to suggest them to improve their service? '],\n",
       "      dtype='object')"
      ]
     },
     "execution_count": 22,
     "metadata": {},
     "output_type": "execute_result"
    }
   ],
   "source": [
    "df.columns"
   ]
  },
  {
   "cell_type": "code",
   "execution_count": 23,
   "metadata": {},
   "outputs": [
    {
     "data": {
      "text/plain": [
       "count               201\n",
       "unique               29\n",
       "top       Good Facility\n",
       "freq                 70\n",
       "Name: Why  did you choose this hotel?, dtype: object"
      ]
     },
     "execution_count": 23,
     "metadata": {},
     "output_type": "execute_result"
    }
   ],
   "source": [
    "df['Why  did you choose this hotel?'].describe()"
   ]
  },
  {
   "cell_type": "code",
   "execution_count": 24,
   "metadata": {},
   "outputs": [
    {
     "data": {
      "text/plain": [
       "count     201\n",
       "unique      2\n",
       "top       Yes\n",
       "freq      196\n",
       "Name: Were the staff friendly and helpful?, dtype: object"
      ]
     },
     "execution_count": 24,
     "metadata": {},
     "output_type": "execute_result"
    }
   ],
   "source": [
    "df['Were the staff friendly and helpful?'].describe()"
   ]
  },
  {
   "cell_type": "code",
   "execution_count": 25,
   "metadata": {},
   "outputs": [
    {
     "data": {
      "text/plain": [
       "count     201\n",
       "unique      2\n",
       "top       Yes\n",
       "freq      181\n",
       "Name: Did you eat at the hotel?, dtype: object"
      ]
     },
     "execution_count": 25,
     "metadata": {},
     "output_type": "execute_result"
    }
   ],
   "source": [
    "df['Did you eat at the hotel?'].describe()"
   ]
  },
  {
   "cell_type": "code",
   "execution_count": 26,
   "metadata": {},
   "outputs": [
    {
     "data": {
      "text/plain": [
       "count           201\n",
       "unique            4\n",
       "top       Very Good\n",
       "freq             87\n",
       "Name: How would you rate the hotel?, dtype: object"
      ]
     },
     "execution_count": 26,
     "metadata": {},
     "output_type": "execute_result"
    }
   ],
   "source": [
    "df['How would you rate the hotel?'].describe()"
   ]
  },
  {
   "cell_type": "code",
   "execution_count": 27,
   "metadata": {},
   "outputs": [
    {
     "data": {
      "text/plain": [
       "count           201\n",
       "unique            7\n",
       "top       Very Good\n",
       "freq             49\n",
       "Name: Food Hygiene rating., dtype: object"
      ]
     },
     "execution_count": 27,
     "metadata": {},
     "output_type": "execute_result"
    }
   ],
   "source": [
    "df['Food Hygiene rating.'].describe()"
   ]
  },
  {
   "cell_type": "code",
   "execution_count": 28,
   "metadata": {},
   "outputs": [
    {
     "data": {
      "text/plain": [
       "count     201\n",
       "unique      3\n",
       "top       Yes\n",
       "freq      114\n",
       "Name: How Likely are you to stay at this hotel again?, dtype: object"
      ]
     },
     "execution_count": 28,
     "metadata": {},
     "output_type": "execute_result"
    }
   ],
   "source": [
    "df['How Likely are you to stay at this hotel again?'].describe()"
   ]
  },
  {
   "cell_type": "code",
   "execution_count": 29,
   "metadata": {},
   "outputs": [
    {
     "data": {
      "text/plain": [
       "count           201\n",
       "unique            4\n",
       "top       Satisfied\n",
       "freq            166\n",
       "Name: Overall were you satisfied ,dissatisfied , or neither? , dtype: object"
      ]
     },
     "execution_count": 29,
     "metadata": {},
     "output_type": "execute_result"
    }
   ],
   "source": [
    "df['Overall were you satisfied ,dissatisfied , or neither? '].describe()"
   ]
  },
  {
   "cell_type": "code",
   "execution_count": 30,
   "metadata": {},
   "outputs": [
    {
     "data": {
      "text/plain": [
       "count     201\n",
       "unique      2\n",
       "top       Yes\n",
       "freq      131\n",
       "Name: Would you like to suggest them to improve their service? , dtype: object"
      ]
     },
     "execution_count": 30,
     "metadata": {},
     "output_type": "execute_result"
    }
   ],
   "source": [
    "df['Would you like to suggest them to improve their service? '].describe()"
   ]
  },
  {
   "cell_type": "code",
   "execution_count": 74,
   "metadata": {},
   "outputs": [
    {
     "data": {
      "image/png": "[encoded data removed]",
      "text/plain": [
       "<Figure size 576x576 with 1 Axes>"
      ]
     },
     "metadata": {},
     "output_type": "display_data"
    }
   ],
   "source": [
    "df['Hotel Type'].value_counts().plot(kind='pie',autopct='%1.2f%%',figsize=(8,8))\n",
    "plt.title(\"What do you like to prefer more?\")\n",
    "plt.show()"
   ]
  },
  {
   "cell_type": "code",
   "execution_count": 79,
   "metadata": {},
   "outputs": [
    {
     "data": {
      "image/png": "[encoded data removed]",
      "text/plain": [
       "<Figure size 720x576 with 1 Axes>"
      ]
     },
     "metadata": {
      "needs_background": "light"
     },
     "output_type": "display_data"
    }
   ],
   "source": [
    "df['Hangout'].value_counts().plot(kind='barh',figsize=(10,8))\n",
    "plt.title(\"Why do you like to hangout in this hotel?\")\n",
    "plt.show()"
   ]
  },
  {
   "cell_type": "code",
   "execution_count": 80,
   "metadata": {},
   "outputs": [
    {
     "data": {
      "image/png": "[encoded data removed]",
      "text/plain": [
       "<Figure size 720x576 with 1 Axes>"
      ]
     },
     "metadata": {
      "needs_background": "light"
     },
     "output_type": "display_data"
    }
   ],
   "source": [
    "df['Reason'].value_counts().plot(kind='bar',figsize=(10,8))\n",
    "plt.title(\"Why do you like to hangout in this hotel?\")\n",
    "plt.show()"
   ]
  },
  {
   "cell_type": "code",
   "execution_count": 81,
   "metadata": {},
   "outputs": [
    {
     "data": {
      "image/png": "[encoded data removed]",
      "text/plain": [
       "<Figure size 720x576 with 1 Axes>"
      ]
     },
     "metadata": {
      "needs_background": "light"
     },
     "output_type": "display_data"
    }
   ],
   "source": [
    "df['COVID-19 Situation'].value_counts().plot(kind='barh',figsize=(10,8))\n",
    "plt.title(\"Which kind of facilities are given in COVID-19 situation?\")\n",
    "plt.show()"
   ]
  },
  {
   "cell_type": "code",
   "execution_count": 82,
   "metadata": {},
   "outputs": [
    {
     "data": {
      "image/png": "[encoded data removed]",
      "text/plain": [
       "<Figure size 1440x720 with 1 Axes>"
      ]
     },
     "metadata": {
      "needs_background": "light"
     },
     "output_type": "display_data"
    }
   ],
   "source": [
    "df['satisfied'].value_counts().plot(kind='bar',figsize=(20,10))\n",
    "plt.title(\"Are you satisfied with the above facilities?\")\n",
    "plt.axhline(0, color=\"k\");\n"
   ]
  },
  {
   "cell_type": "code",
   "execution_count": 83,
   "metadata": {},
   "outputs": [
    {
     "data": {
      "image/png": "[encoded data removed]",
      "text/plain": [
       "<Figure size 1440x720 with 1 Axes>"
      ]
     },
     "metadata": {
      "needs_background": "light"
     },
     "output_type": "display_data"
    }
   ],
   "source": [
    "df['Reason'].value_counts().plot(kind='bar',figsize=(20,10))\n",
    "plt.title(\"What was the reason for your visit?\")\n",
    "plt.show()"
   ]
  },
  {
   "cell_type": "code",
   "execution_count": 84,
   "metadata": {},
   "outputs": [
    {
     "data": {
      "image/png": "[encoded data removed]",
      "text/plain": [
       "<Figure size 1440x720 with 1 Axes>"
      ]
     },
     "metadata": {
      "needs_background": "light"
     },
     "output_type": "display_data"
    }
   ],
   "source": [
    "df['Visit Types'].value_counts().plot(kind='bar',figsize=(20,10))\n",
    "plt.title(\"Were you alone or in a group?\")\n",
    "plt.show()"
   ]
  },
  {
   "cell_type": "code",
   "execution_count": 85,
   "metadata": {},
   "outputs": [
    {
     "data": {
      "image/png": "[encoded data removed]",
      "text/plain": [
       "<Figure size 1440x720 with 1 Axes>"
      ]
     },
     "metadata": {
      "needs_background": "light"
     },
     "output_type": "display_data"
    }
   ],
   "source": [
    "df['Why  did you choose this hotel?'].value_counts().plot(kind='bar',figsize=(20,10))\n",
    "plt.title(\"Why  did you choose this hotel?\")\n",
    "plt.show()"
   ]
  },
  {
   "cell_type": "code",
   "execution_count": 86,
   "metadata": {},
   "outputs": [
    {
     "data": {
      "image/png": "[encoded data removed]",
      "text/plain": [
       "<Figure size 1440x720 with 1 Axes>"
      ]
     },
     "metadata": {
      "needs_background": "light"
     },
     "output_type": "display_data"
    }
   ],
   "source": [
    "df['staff friendly and helpful'].value_counts().plot(kind='bar',figsize=(20,10))\n",
    "plt.title(\"Were the staff friendly and helpful?\")\n",
    "plt.show()"
   ]
  },
  {
   "cell_type": "code",
   "execution_count": 87,
   "metadata": {},
   "outputs": [
    {
     "data": {
      "image/png": "[encoded data removed]",
      "text/plain": [
       "<Figure size 1440x720 with 1 Axes>"
      ]
     },
     "metadata": {
      "needs_background": "light"
     },
     "output_type": "display_data"
    }
   ],
   "source": [
    "df['eat at the hotel'].value_counts().plot(kind='bar',figsize=(20,10))\n",
    "plt.title(\"Did you eat at the hotel?\")\n",
    "plt.show()"
   ]
  },
  {
   "cell_type": "code",
   "execution_count": 91,
   "metadata": {},
   "outputs": [
    {
     "data": {
      "image/png": "[encoded data removed]",
      "text/plain": [
       "<Figure size 1440x720 with 1 Axes>"
      ]
     },
     "metadata": {
      "needs_background": "light"
     },
     "output_type": "display_data"
    }
   ],
   "source": [
    "df['Food Hygiene rating.'].value_counts().plot(kind='bar',figsize=(20,10))\n",
    "plt.title(\"Food Hygiene rating.\")\n",
    "plt.show()"
   ]
  },
  {
   "cell_type": "code",
   "execution_count": 92,
   "metadata": {},
   "outputs": [
    {
     "data": {
      "image/png": "[encoded data removed]",
      "text/plain": [
       "<Figure size 1440x720 with 1 Axes>"
      ]
     },
     "metadata": {
      "needs_background": "light"
     },
     "output_type": "display_data"
    }
   ],
   "source": [
    "df['Rating'].value_counts().plot(kind='bar',figsize=(20,10))\n",
    "plt.title(\"How would you rate the hotel?\")\n",
    "plt.show()"
   ]
  },
  {
   "cell_type": "code",
   "execution_count": 93,
   "metadata": {},
   "outputs": [
    {
     "data": {
      "image/png": "[encoded data removed]",
      "text/plain": [
       "<Figure size 1440x720 with 1 Axes>"
      ]
     },
     "metadata": {
      "needs_background": "light"
     },
     "output_type": "display_data"
    }
   ],
   "source": [
    "df['stay hotel again'].value_counts().plot(kind='bar',figsize=(20,10))\n",
    "plt.title(\"How Likely are you to stay at this hotel again?\")\n",
    "plt.show()"
   ]
  },
  {
   "cell_type": "code",
   "execution_count": 44,
   "metadata": {},
   "outputs": [
    {
     "data": {
      "image/png": "[encoded data removed]",
      "text/plain": [
       "<Figure size 1440x720 with 1 Axes>"
      ]
     },
     "metadata": {
      "needs_background": "light"
     },
     "output_type": "display_data"
    }
   ],
   "source": [
    "df['Overall were you satisfied ,dissatisfied , or neither? '].value_counts().plot(kind='bar',figsize=(20,10))\n",
    "plt.title('Overall were you satisfied ,dissatisfied , or neither? ')\n",
    "plt.show()"
   ]
  },
  {
   "cell_type": "code",
   "execution_count": 45,
   "metadata": {},
   "outputs": [
    {
     "data": {
      "image/png": "[encoded data removed]",
      "text/plain": [
       "<Figure size 1440x720 with 1 Axes>"
      ]
     },
     "metadata": {
      "needs_background": "light"
     },
     "output_type": "display_data"
    }
   ],
   "source": [
    "df['Would you like to suggest them to improve their service? '].value_counts().plot(kind='bar',figsize=(20,10))\n",
    "plt.title('Would you like to suggest them to improve their service? ')\n",
    "plt.show()"
   ]
  },
  {
   "cell_type": "code",
   "execution_count": 108,
   "metadata": {},
   "outputs": [
    {
     "ename": "KeyError",
     "evalue": "\"None of [Index(['Visit Types', 'Reason'], dtype='object')] are in the [columns]\"",
     "output_type": "error",
     "traceback": [
      "\u001b[1;31m---------------------------------------------------------------------------\u001b[0m",
      "\u001b[1;31mKeyError\u001b[0m                                  Traceback (most recent call last)",
      "\u001b[1;32m<ipython-input-108-f2c94879ef21>\u001b[0m in \u001b[0;36m<module>\u001b[1;34m\u001b[0m\n\u001b[0;32m      1\u001b[0m \u001b[1;32mfrom\u001b[0m \u001b[0msklearn\u001b[0m\u001b[1;33m.\u001b[0m\u001b[0mmodel_selection\u001b[0m \u001b[1;32mimport\u001b[0m \u001b[0mtrain_test_split\u001b[0m\u001b[1;33m\u001b[0m\u001b[1;33m\u001b[0m\u001b[0m\n\u001b[1;32m----> 2\u001b[1;33m \u001b[0mx\u001b[0m\u001b[1;33m=\u001b[0m\u001b[0mdf_New\u001b[0m\u001b[1;33m[\u001b[0m\u001b[1;33m[\u001b[0m\u001b[1;34m'Visit Types'\u001b[0m\u001b[1;33m,\u001b[0m\u001b[1;34m'Reason'\u001b[0m\u001b[1;33m]\u001b[0m\u001b[1;33m]\u001b[0m\u001b[1;33m\u001b[0m\u001b[1;33m\u001b[0m\u001b[0m\n\u001b[0m\u001b[0;32m      3\u001b[0m \u001b[1;31m#x=df_New[['Were you alone or in a group?','What was the reason for your visit?']]\u001b[0m\u001b[1;33m\u001b[0m\u001b[1;33m\u001b[0m\u001b[1;33m\u001b[0m\u001b[0m\n\u001b[0;32m      4\u001b[0m \u001b[0my\u001b[0m\u001b[1;33m=\u001b[0m\u001b[0mdf_New\u001b[0m\u001b[1;33m[\u001b[0m\u001b[1;34m'Hangout'\u001b[0m\u001b[1;33m]\u001b[0m\u001b[1;33m\u001b[0m\u001b[1;33m\u001b[0m\u001b[0m\n\u001b[0;32m      5\u001b[0m \u001b[0mX_train\u001b[0m\u001b[1;33m,\u001b[0m\u001b[0mX_test\u001b[0m\u001b[1;33m,\u001b[0m\u001b[0mY_train\u001b[0m\u001b[1;33m,\u001b[0m\u001b[0mY_test\u001b[0m \u001b[1;33m=\u001b[0m \u001b[0mtrain_test_split\u001b[0m\u001b[1;33m(\u001b[0m\u001b[0mx\u001b[0m\u001b[1;33m,\u001b[0m\u001b[0my\u001b[0m\u001b[1;33m,\u001b[0m\u001b[0mtest_size\u001b[0m\u001b[1;33m=\u001b[0m\u001b[1;36m0.2\u001b[0m\u001b[1;33m)\u001b[0m\u001b[1;33m\u001b[0m\u001b[1;33m\u001b[0m\u001b[0m\n",
      "\u001b[1;32m~\\anaconda3\\lib\\site-packages\\pandas\\core\\frame.py\u001b[0m in \u001b[0;36m__getitem__\u001b[1;34m(self, key)\u001b[0m\n\u001b[0;32m   2906\u001b[0m             \u001b[1;32mif\u001b[0m \u001b[0mis_iterator\u001b[0m\u001b[1;33m(\u001b[0m\u001b[0mkey\u001b[0m\u001b[1;33m)\u001b[0m\u001b[1;33m:\u001b[0m\u001b[1;33m\u001b[0m\u001b[1;33m\u001b[0m\u001b[0m\n\u001b[0;32m   2907\u001b[0m                 \u001b[0mkey\u001b[0m \u001b[1;33m=\u001b[0m \u001b[0mlist\u001b[0m\u001b[1;33m(\u001b[0m\u001b[0mkey\u001b[0m\u001b[1;33m)\u001b[0m\u001b[1;33m\u001b[0m\u001b[1;33m\u001b[0m\u001b[0m\n\u001b[1;32m-> 2908\u001b[1;33m             \u001b[0mindexer\u001b[0m \u001b[1;33m=\u001b[0m \u001b[0mself\u001b[0m\u001b[1;33m.\u001b[0m\u001b[0mloc\u001b[0m\u001b[1;33m.\u001b[0m\u001b[0m_get_listlike_indexer\u001b[0m\u001b[1;33m(\u001b[0m\u001b[0mkey\u001b[0m\u001b[1;33m,\u001b[0m \u001b[0maxis\u001b[0m\u001b[1;33m=\u001b[0m\u001b[1;36m1\u001b[0m\u001b[1;33m,\u001b[0m \u001b[0mraise_missing\u001b[0m\u001b[1;33m=\u001b[0m\u001b[1;32mTrue\u001b[0m\u001b[1;33m)\u001b[0m\u001b[1;33m[\u001b[0m\u001b[1;36m1\u001b[0m\u001b[1;33m]\u001b[0m\u001b[1;33m\u001b[0m\u001b[1;33m\u001b[0m\u001b[0m\n\u001b[0m\u001b[0;32m   2909\u001b[0m \u001b[1;33m\u001b[0m\u001b[0m\n\u001b[0;32m   2910\u001b[0m         \u001b[1;31m# take() does not accept boolean indexers\u001b[0m\u001b[1;33m\u001b[0m\u001b[1;33m\u001b[0m\u001b[1;33m\u001b[0m\u001b[0m\n",
      "\u001b[1;32m~\\anaconda3\\lib\\site-packages\\pandas\\core\\indexing.py\u001b[0m in \u001b[0;36m_get_listlike_indexer\u001b[1;34m(self, key, axis, raise_missing)\u001b[0m\n\u001b[0;32m   1252\u001b[0m             \u001b[0mkeyarr\u001b[0m\u001b[1;33m,\u001b[0m \u001b[0mindexer\u001b[0m\u001b[1;33m,\u001b[0m \u001b[0mnew_indexer\u001b[0m \u001b[1;33m=\u001b[0m \u001b[0max\u001b[0m\u001b[1;33m.\u001b[0m\u001b[0m_reindex_non_unique\u001b[0m\u001b[1;33m(\u001b[0m\u001b[0mkeyarr\u001b[0m\u001b[1;33m)\u001b[0m\u001b[1;33m\u001b[0m\u001b[1;33m\u001b[0m\u001b[0m\n\u001b[0;32m   1253\u001b[0m \u001b[1;33m\u001b[0m\u001b[0m\n\u001b[1;32m-> 1254\u001b[1;33m         \u001b[0mself\u001b[0m\u001b[1;33m.\u001b[0m\u001b[0m_validate_read_indexer\u001b[0m\u001b[1;33m(\u001b[0m\u001b[0mkeyarr\u001b[0m\u001b[1;33m,\u001b[0m \u001b[0mindexer\u001b[0m\u001b[1;33m,\u001b[0m \u001b[0maxis\u001b[0m\u001b[1;33m,\u001b[0m \u001b[0mraise_missing\u001b[0m\u001b[1;33m=\u001b[0m\u001b[0mraise_missing\u001b[0m\u001b[1;33m)\u001b[0m\u001b[1;33m\u001b[0m\u001b[1;33m\u001b[0m\u001b[0m\n\u001b[0m\u001b[0;32m   1255\u001b[0m         \u001b[1;32mreturn\u001b[0m \u001b[0mkeyarr\u001b[0m\u001b[1;33m,\u001b[0m \u001b[0mindexer\u001b[0m\u001b[1;33m\u001b[0m\u001b[1;33m\u001b[0m\u001b[0m\n\u001b[0;32m   1256\u001b[0m \u001b[1;33m\u001b[0m\u001b[0m\n",
      "\u001b[1;32m~\\anaconda3\\lib\\site-packages\\pandas\\core\\indexing.py\u001b[0m in \u001b[0;36m_validate_read_indexer\u001b[1;34m(self, key, indexer, axis, raise_missing)\u001b[0m\n\u001b[0;32m   1296\u001b[0m             \u001b[1;32mif\u001b[0m \u001b[0mmissing\u001b[0m \u001b[1;33m==\u001b[0m \u001b[0mlen\u001b[0m\u001b[1;33m(\u001b[0m\u001b[0mindexer\u001b[0m\u001b[1;33m)\u001b[0m\u001b[1;33m:\u001b[0m\u001b[1;33m\u001b[0m\u001b[1;33m\u001b[0m\u001b[0m\n\u001b[0;32m   1297\u001b[0m                 \u001b[0maxis_name\u001b[0m \u001b[1;33m=\u001b[0m \u001b[0mself\u001b[0m\u001b[1;33m.\u001b[0m\u001b[0mobj\u001b[0m\u001b[1;33m.\u001b[0m\u001b[0m_get_axis_name\u001b[0m\u001b[1;33m(\u001b[0m\u001b[0maxis\u001b[0m\u001b[1;33m)\u001b[0m\u001b[1;33m\u001b[0m\u001b[1;33m\u001b[0m\u001b[0m\n\u001b[1;32m-> 1298\u001b[1;33m                 \u001b[1;32mraise\u001b[0m \u001b[0mKeyError\u001b[0m\u001b[1;33m(\u001b[0m\u001b[1;34mf\"None of [{key}] are in the [{axis_name}]\"\u001b[0m\u001b[1;33m)\u001b[0m\u001b[1;33m\u001b[0m\u001b[1;33m\u001b[0m\u001b[0m\n\u001b[0m\u001b[0;32m   1299\u001b[0m \u001b[1;33m\u001b[0m\u001b[0m\n\u001b[0;32m   1300\u001b[0m             \u001b[1;31m# We (temporarily) allow for some missing keys with .loc, except in\u001b[0m\u001b[1;33m\u001b[0m\u001b[1;33m\u001b[0m\u001b[1;33m\u001b[0m\u001b[0m\n",
      "\u001b[1;31mKeyError\u001b[0m: \"None of [Index(['Visit Types', 'Reason'], dtype='object')] are in the [columns]\""
     ]
    }
   ],
   "source": [
    "from sklearn.model_selection import train_test_split\n",
    "x=df_New[['Visit Types','Reason']]\n",
    "#x=df_New[['Were you alone or in a group?','What was the reason for your visit?']]\n",
    "y=df_New['Hangout']\n",
    "X_train,X_test,Y_train,Y_test = train_test_split(x,y,test_size=0.2)"
   ]
  },
  {
   "cell_type": "code",
   "execution_count": 107,
   "metadata": {},
   "outputs": [
    {
     "data": {
      "text/plain": [
       "160"
      ]
     },
     "execution_count": 107,
     "metadata": {},
     "output_type": "execute_result"
    }
   ],
   "source": [
    "len(X_train)"
   ]
  },
  {
   "cell_type": "code",
   "execution_count": 58,
   "metadata": {},
   "outputs": [
    {
     "data": {
      "text/plain": [
       "41"
      ]
     },
     "execution_count": 58,
     "metadata": {},
     "output_type": "execute_result"
    }
   ],
   "source": [
    "len(X_test)"
   ]
  },
  {
   "cell_type": "code",
   "execution_count": 59,
   "metadata": {},
   "outputs": [
    {
     "data": {
      "text/html": [
       "<div>\n",
       "<style scoped>\n",
       "    .dataframe tbody tr th:only-of-type {\n",
       "        vertical-align: middle;\n",
       "    }\n",
       "\n",
       "    .dataframe tbody tr th {\n",
       "        vertical-align: top;\n",
       "    }\n",
       "\n",
       "    .dataframe thead th {\n",
       "        text-align: right;\n",
       "    }\n",
       "</style>\n",
       "<table border=\"1\" class=\"dataframe\">\n",
       "  <thead>\n",
       "    <tr style=\"text-align: right;\">\n",
       "      <th></th>\n",
       "      <th>Were you alone or in a group?</th>\n",
       "      <th>What was the reason for your visit?</th>\n",
       "    </tr>\n",
       "  </thead>\n",
       "  <tbody>\n",
       "    <tr>\n",
       "      <th>96</th>\n",
       "      <td>Group</td>\n",
       "      <td>For the trip</td>\n",
       "    </tr>\n",
       "    <tr>\n",
       "      <th>30</th>\n",
       "      <td>Group</td>\n",
       "      <td>For the trip</td>\n",
       "    </tr>\n",
       "    <tr>\n",
       "      <th>107</th>\n",
       "      <td>Alone</td>\n",
       "      <td>Affordable</td>\n",
       "    </tr>\n",
       "    <tr>\n",
       "      <th>170</th>\n",
       "      <td>Group</td>\n",
       "      <td>Budget friendly</td>\n",
       "    </tr>\n",
       "    <tr>\n",
       "      <th>198</th>\n",
       "      <td>Alone</td>\n",
       "      <td>Affordable</td>\n",
       "    </tr>\n",
       "    <tr>\n",
       "      <th>...</th>\n",
       "      <td>...</td>\n",
       "      <td>...</td>\n",
       "    </tr>\n",
       "    <tr>\n",
       "      <th>112</th>\n",
       "      <td>Group</td>\n",
       "      <td>For the trip</td>\n",
       "    </tr>\n",
       "    <tr>\n",
       "      <th>181</th>\n",
       "      <td>Alone</td>\n",
       "      <td>Budget friendly</td>\n",
       "    </tr>\n",
       "    <tr>\n",
       "      <th>8</th>\n",
       "      <td>Group</td>\n",
       "      <td>Affordable</td>\n",
       "    </tr>\n",
       "    <tr>\n",
       "      <th>70</th>\n",
       "      <td>Group</td>\n",
       "      <td>For the trip</td>\n",
       "    </tr>\n",
       "    <tr>\n",
       "      <th>154</th>\n",
       "      <td>Group</td>\n",
       "      <td>Budget friendly</td>\n",
       "    </tr>\n",
       "  </tbody>\n",
       "</table>\n",
       "<p>160 rows × 2 columns</p>\n",
       "</div>"
      ],
      "text/plain": [
       "    Were you alone or in a group? What was the reason for your visit?\n",
       "96                          Group                        For the trip\n",
       "30                          Group                        For the trip\n",
       "107                         Alone                          Affordable\n",
       "170                         Group                     Budget friendly\n",
       "198                         Alone                          Affordable\n",
       "..                            ...                                 ...\n",
       "112                         Group                        For the trip\n",
       "181                         Alone                     Budget friendly\n",
       "8                           Group                          Affordable\n",
       "70                          Group                        For the trip\n",
       "154                         Group                     Budget friendly\n",
       "\n",
       "[160 rows x 2 columns]"
      ]
     },
     "execution_count": 59,
     "metadata": {},
     "output_type": "execute_result"
    }
   ],
   "source": [
    "X_train"
   ]
  },
  {
   "cell_type": "code",
   "execution_count": 60,
   "metadata": {},
   "outputs": [],
   "source": [
    "from sklearn.ensemble import RandomForestClassifier"
   ]
  },
  {
   "cell_type": "code",
   "execution_count": 64,
   "metadata": {},
   "outputs": [],
   "source": [
    "model=RandomForestClassifier(n_estimators=20)"
   ]
  },
  {
   "cell_type": "code",
   "execution_count": 65,
   "metadata": {},
   "outputs": [
    {
     "ename": "ValueError",
     "evalue": "could not convert string to float: 'Group'",
     "output_type": "error",
     "traceback": [
      "\u001b[1;31m---------------------------------------------------------------------------\u001b[0m",
      "\u001b[1;31mValueError\u001b[0m                                Traceback (most recent call last)",
      "\u001b[1;32m<ipython-input-65-ffa49499a3bf>\u001b[0m in \u001b[0;36m<module>\u001b[1;34m\u001b[0m\n\u001b[1;32m----> 1\u001b[1;33m \u001b[0mmodel\u001b[0m\u001b[1;33m.\u001b[0m\u001b[0mfit\u001b[0m\u001b[1;33m(\u001b[0m\u001b[0mX_train\u001b[0m\u001b[1;33m,\u001b[0m\u001b[0mY_train\u001b[0m\u001b[1;33m)\u001b[0m\u001b[1;33m\u001b[0m\u001b[1;33m\u001b[0m\u001b[0m\n\u001b[0m",
      "\u001b[1;32m~\\anaconda3\\lib\\site-packages\\sklearn\\ensemble\\_forest.py\u001b[0m in \u001b[0;36mfit\u001b[1;34m(self, X, y, sample_weight)\u001b[0m\n\u001b[0;32m    301\u001b[0m                 \u001b[1;34m\"sparse multilabel-indicator for y is not supported.\"\u001b[0m\u001b[1;33m\u001b[0m\u001b[1;33m\u001b[0m\u001b[0m\n\u001b[0;32m    302\u001b[0m             )\n\u001b[1;32m--> 303\u001b[1;33m         X, y = self._validate_data(X, y, multi_output=True,\n\u001b[0m\u001b[0;32m    304\u001b[0m                                    accept_sparse=\"csc\", dtype=DTYPE)\n\u001b[0;32m    305\u001b[0m         \u001b[1;32mif\u001b[0m \u001b[0msample_weight\u001b[0m \u001b[1;32mis\u001b[0m \u001b[1;32mnot\u001b[0m \u001b[1;32mNone\u001b[0m\u001b[1;33m:\u001b[0m\u001b[1;33m\u001b[0m\u001b[1;33m\u001b[0m\u001b[0m\n",
      "\u001b[1;32m~\\anaconda3\\lib\\site-packages\\sklearn\\base.py\u001b[0m in \u001b[0;36m_validate_data\u001b[1;34m(self, X, y, reset, validate_separately, **check_params)\u001b[0m\n\u001b[0;32m    430\u001b[0m                 \u001b[0my\u001b[0m \u001b[1;33m=\u001b[0m \u001b[0mcheck_array\u001b[0m\u001b[1;33m(\u001b[0m\u001b[0my\u001b[0m\u001b[1;33m,\u001b[0m \u001b[1;33m**\u001b[0m\u001b[0mcheck_y_params\u001b[0m\u001b[1;33m)\u001b[0m\u001b[1;33m\u001b[0m\u001b[1;33m\u001b[0m\u001b[0m\n\u001b[0;32m    431\u001b[0m             \u001b[1;32melse\u001b[0m\u001b[1;33m:\u001b[0m\u001b[1;33m\u001b[0m\u001b[1;33m\u001b[0m\u001b[0m\n\u001b[1;32m--> 432\u001b[1;33m                 \u001b[0mX\u001b[0m\u001b[1;33m,\u001b[0m \u001b[0my\u001b[0m \u001b[1;33m=\u001b[0m \u001b[0mcheck_X_y\u001b[0m\u001b[1;33m(\u001b[0m\u001b[0mX\u001b[0m\u001b[1;33m,\u001b[0m \u001b[0my\u001b[0m\u001b[1;33m,\u001b[0m \u001b[1;33m**\u001b[0m\u001b[0mcheck_params\u001b[0m\u001b[1;33m)\u001b[0m\u001b[1;33m\u001b[0m\u001b[1;33m\u001b[0m\u001b[0m\n\u001b[0m\u001b[0;32m    433\u001b[0m             \u001b[0mout\u001b[0m \u001b[1;33m=\u001b[0m \u001b[0mX\u001b[0m\u001b[1;33m,\u001b[0m \u001b[0my\u001b[0m\u001b[1;33m\u001b[0m\u001b[1;33m\u001b[0m\u001b[0m\n\u001b[0;32m    434\u001b[0m \u001b[1;33m\u001b[0m\u001b[0m\n",
      "\u001b[1;32m~\\anaconda3\\lib\\site-packages\\sklearn\\utils\\validation.py\u001b[0m in \u001b[0;36minner_f\u001b[1;34m(*args, **kwargs)\u001b[0m\n\u001b[0;32m     70\u001b[0m                           FutureWarning)\n\u001b[0;32m     71\u001b[0m         \u001b[0mkwargs\u001b[0m\u001b[1;33m.\u001b[0m\u001b[0mupdate\u001b[0m\u001b[1;33m(\u001b[0m\u001b[1;33m{\u001b[0m\u001b[0mk\u001b[0m\u001b[1;33m:\u001b[0m \u001b[0marg\u001b[0m \u001b[1;32mfor\u001b[0m \u001b[0mk\u001b[0m\u001b[1;33m,\u001b[0m \u001b[0marg\u001b[0m \u001b[1;32min\u001b[0m \u001b[0mzip\u001b[0m\u001b[1;33m(\u001b[0m\u001b[0msig\u001b[0m\u001b[1;33m.\u001b[0m\u001b[0mparameters\u001b[0m\u001b[1;33m,\u001b[0m \u001b[0margs\u001b[0m\u001b[1;33m)\u001b[0m\u001b[1;33m}\u001b[0m\u001b[1;33m)\u001b[0m\u001b[1;33m\u001b[0m\u001b[1;33m\u001b[0m\u001b[0m\n\u001b[1;32m---> 72\u001b[1;33m         \u001b[1;32mreturn\u001b[0m \u001b[0mf\u001b[0m\u001b[1;33m(\u001b[0m\u001b[1;33m**\u001b[0m\u001b[0mkwargs\u001b[0m\u001b[1;33m)\u001b[0m\u001b[1;33m\u001b[0m\u001b[1;33m\u001b[0m\u001b[0m\n\u001b[0m\u001b[0;32m     73\u001b[0m     \u001b[1;32mreturn\u001b[0m \u001b[0minner_f\u001b[0m\u001b[1;33m\u001b[0m\u001b[1;33m\u001b[0m\u001b[0m\n\u001b[0;32m     74\u001b[0m \u001b[1;33m\u001b[0m\u001b[0m\n",
      "\u001b[1;32m~\\anaconda3\\lib\\site-packages\\sklearn\\utils\\validation.py\u001b[0m in \u001b[0;36mcheck_X_y\u001b[1;34m(X, y, accept_sparse, accept_large_sparse, dtype, order, copy, force_all_finite, ensure_2d, allow_nd, multi_output, ensure_min_samples, ensure_min_features, y_numeric, estimator)\u001b[0m\n\u001b[0;32m    793\u001b[0m         \u001b[1;32mraise\u001b[0m \u001b[0mValueError\u001b[0m\u001b[1;33m(\u001b[0m\u001b[1;34m\"y cannot be None\"\u001b[0m\u001b[1;33m)\u001b[0m\u001b[1;33m\u001b[0m\u001b[1;33m\u001b[0m\u001b[0m\n\u001b[0;32m    794\u001b[0m \u001b[1;33m\u001b[0m\u001b[0m\n\u001b[1;32m--> 795\u001b[1;33m     X = check_array(X, accept_sparse=accept_sparse,\n\u001b[0m\u001b[0;32m    796\u001b[0m                     \u001b[0maccept_large_sparse\u001b[0m\u001b[1;33m=\u001b[0m\u001b[0maccept_large_sparse\u001b[0m\u001b[1;33m,\u001b[0m\u001b[1;33m\u001b[0m\u001b[1;33m\u001b[0m\u001b[0m\n\u001b[0;32m    797\u001b[0m                     \u001b[0mdtype\u001b[0m\u001b[1;33m=\u001b[0m\u001b[0mdtype\u001b[0m\u001b[1;33m,\u001b[0m \u001b[0morder\u001b[0m\u001b[1;33m=\u001b[0m\u001b[0morder\u001b[0m\u001b[1;33m,\u001b[0m \u001b[0mcopy\u001b[0m\u001b[1;33m=\u001b[0m\u001b[0mcopy\u001b[0m\u001b[1;33m,\u001b[0m\u001b[1;33m\u001b[0m\u001b[1;33m\u001b[0m\u001b[0m\n",
      "\u001b[1;32m~\\anaconda3\\lib\\site-packages\\sklearn\\utils\\validation.py\u001b[0m in \u001b[0;36minner_f\u001b[1;34m(*args, **kwargs)\u001b[0m\n\u001b[0;32m     70\u001b[0m                           FutureWarning)\n\u001b[0;32m     71\u001b[0m         \u001b[0mkwargs\u001b[0m\u001b[1;33m.\u001b[0m\u001b[0mupdate\u001b[0m\u001b[1;33m(\u001b[0m\u001b[1;33m{\u001b[0m\u001b[0mk\u001b[0m\u001b[1;33m:\u001b[0m \u001b[0marg\u001b[0m \u001b[1;32mfor\u001b[0m \u001b[0mk\u001b[0m\u001b[1;33m,\u001b[0m \u001b[0marg\u001b[0m \u001b[1;32min\u001b[0m \u001b[0mzip\u001b[0m\u001b[1;33m(\u001b[0m\u001b[0msig\u001b[0m\u001b[1;33m.\u001b[0m\u001b[0mparameters\u001b[0m\u001b[1;33m,\u001b[0m \u001b[0margs\u001b[0m\u001b[1;33m)\u001b[0m\u001b[1;33m}\u001b[0m\u001b[1;33m)\u001b[0m\u001b[1;33m\u001b[0m\u001b[1;33m\u001b[0m\u001b[0m\n\u001b[1;32m---> 72\u001b[1;33m         \u001b[1;32mreturn\u001b[0m \u001b[0mf\u001b[0m\u001b[1;33m(\u001b[0m\u001b[1;33m**\u001b[0m\u001b[0mkwargs\u001b[0m\u001b[1;33m)\u001b[0m\u001b[1;33m\u001b[0m\u001b[1;33m\u001b[0m\u001b[0m\n\u001b[0m\u001b[0;32m     73\u001b[0m     \u001b[1;32mreturn\u001b[0m \u001b[0minner_f\u001b[0m\u001b[1;33m\u001b[0m\u001b[1;33m\u001b[0m\u001b[0m\n\u001b[0;32m     74\u001b[0m \u001b[1;33m\u001b[0m\u001b[0m\n",
      "\u001b[1;32m~\\anaconda3\\lib\\site-packages\\sklearn\\utils\\validation.py\u001b[0m in \u001b[0;36mcheck_array\u001b[1;34m(array, accept_sparse, accept_large_sparse, dtype, order, copy, force_all_finite, ensure_2d, allow_nd, ensure_min_samples, ensure_min_features, estimator)\u001b[0m\n\u001b[0;32m    596\u001b[0m                     \u001b[0marray\u001b[0m \u001b[1;33m=\u001b[0m \u001b[0marray\u001b[0m\u001b[1;33m.\u001b[0m\u001b[0mastype\u001b[0m\u001b[1;33m(\u001b[0m\u001b[0mdtype\u001b[0m\u001b[1;33m,\u001b[0m \u001b[0mcasting\u001b[0m\u001b[1;33m=\u001b[0m\u001b[1;34m\"unsafe\"\u001b[0m\u001b[1;33m,\u001b[0m \u001b[0mcopy\u001b[0m\u001b[1;33m=\u001b[0m\u001b[1;32mFalse\u001b[0m\u001b[1;33m)\u001b[0m\u001b[1;33m\u001b[0m\u001b[1;33m\u001b[0m\u001b[0m\n\u001b[0;32m    597\u001b[0m                 \u001b[1;32melse\u001b[0m\u001b[1;33m:\u001b[0m\u001b[1;33m\u001b[0m\u001b[1;33m\u001b[0m\u001b[0m\n\u001b[1;32m--> 598\u001b[1;33m                     \u001b[0marray\u001b[0m \u001b[1;33m=\u001b[0m \u001b[0mnp\u001b[0m\u001b[1;33m.\u001b[0m\u001b[0masarray\u001b[0m\u001b[1;33m(\u001b[0m\u001b[0marray\u001b[0m\u001b[1;33m,\u001b[0m \u001b[0morder\u001b[0m\u001b[1;33m=\u001b[0m\u001b[0morder\u001b[0m\u001b[1;33m,\u001b[0m \u001b[0mdtype\u001b[0m\u001b[1;33m=\u001b[0m\u001b[0mdtype\u001b[0m\u001b[1;33m)\u001b[0m\u001b[1;33m\u001b[0m\u001b[1;33m\u001b[0m\u001b[0m\n\u001b[0m\u001b[0;32m    599\u001b[0m             \u001b[1;32mexcept\u001b[0m \u001b[0mComplexWarning\u001b[0m\u001b[1;33m:\u001b[0m\u001b[1;33m\u001b[0m\u001b[1;33m\u001b[0m\u001b[0m\n\u001b[0;32m    600\u001b[0m                 raise ValueError(\"Complex data not supported\\n\"\n",
      "\u001b[1;32m~\\anaconda3\\lib\\site-packages\\numpy\\core\\_asarray.py\u001b[0m in \u001b[0;36masarray\u001b[1;34m(a, dtype, order)\u001b[0m\n\u001b[0;32m     81\u001b[0m \u001b[1;33m\u001b[0m\u001b[0m\n\u001b[0;32m     82\u001b[0m     \"\"\"\n\u001b[1;32m---> 83\u001b[1;33m     \u001b[1;32mreturn\u001b[0m \u001b[0marray\u001b[0m\u001b[1;33m(\u001b[0m\u001b[0ma\u001b[0m\u001b[1;33m,\u001b[0m \u001b[0mdtype\u001b[0m\u001b[1;33m,\u001b[0m \u001b[0mcopy\u001b[0m\u001b[1;33m=\u001b[0m\u001b[1;32mFalse\u001b[0m\u001b[1;33m,\u001b[0m \u001b[0morder\u001b[0m\u001b[1;33m=\u001b[0m\u001b[0morder\u001b[0m\u001b[1;33m)\u001b[0m\u001b[1;33m\u001b[0m\u001b[1;33m\u001b[0m\u001b[0m\n\u001b[0m\u001b[0;32m     84\u001b[0m \u001b[1;33m\u001b[0m\u001b[0m\n\u001b[0;32m     85\u001b[0m \u001b[1;33m\u001b[0m\u001b[0m\n",
      "\u001b[1;32m~\\anaconda3\\lib\\site-packages\\pandas\\core\\generic.py\u001b[0m in \u001b[0;36m__array__\u001b[1;34m(self, dtype)\u001b[0m\n\u001b[0;32m   1779\u001b[0m \u001b[1;33m\u001b[0m\u001b[0m\n\u001b[0;32m   1780\u001b[0m     \u001b[1;32mdef\u001b[0m \u001b[0m__array__\u001b[0m\u001b[1;33m(\u001b[0m\u001b[0mself\u001b[0m\u001b[1;33m,\u001b[0m \u001b[0mdtype\u001b[0m\u001b[1;33m=\u001b[0m\u001b[1;32mNone\u001b[0m\u001b[1;33m)\u001b[0m \u001b[1;33m->\u001b[0m \u001b[0mnp\u001b[0m\u001b[1;33m.\u001b[0m\u001b[0mndarray\u001b[0m\u001b[1;33m:\u001b[0m\u001b[1;33m\u001b[0m\u001b[1;33m\u001b[0m\u001b[0m\n\u001b[1;32m-> 1781\u001b[1;33m         \u001b[1;32mreturn\u001b[0m \u001b[0mnp\u001b[0m\u001b[1;33m.\u001b[0m\u001b[0masarray\u001b[0m\u001b[1;33m(\u001b[0m\u001b[0mself\u001b[0m\u001b[1;33m.\u001b[0m\u001b[0m_values\u001b[0m\u001b[1;33m,\u001b[0m \u001b[0mdtype\u001b[0m\u001b[1;33m=\u001b[0m\u001b[0mdtype\u001b[0m\u001b[1;33m)\u001b[0m\u001b[1;33m\u001b[0m\u001b[1;33m\u001b[0m\u001b[0m\n\u001b[0m\u001b[0;32m   1782\u001b[0m \u001b[1;33m\u001b[0m\u001b[0m\n\u001b[0;32m   1783\u001b[0m     \u001b[1;32mdef\u001b[0m \u001b[0m__array_wrap__\u001b[0m\u001b[1;33m(\u001b[0m\u001b[0mself\u001b[0m\u001b[1;33m,\u001b[0m \u001b[0mresult\u001b[0m\u001b[1;33m,\u001b[0m \u001b[0mcontext\u001b[0m\u001b[1;33m=\u001b[0m\u001b[1;32mNone\u001b[0m\u001b[1;33m)\u001b[0m\u001b[1;33m:\u001b[0m\u001b[1;33m\u001b[0m\u001b[1;33m\u001b[0m\u001b[0m\n",
      "\u001b[1;32m~\\anaconda3\\lib\\site-packages\\numpy\\core\\_asarray.py\u001b[0m in \u001b[0;36masarray\u001b[1;34m(a, dtype, order)\u001b[0m\n\u001b[0;32m     81\u001b[0m \u001b[1;33m\u001b[0m\u001b[0m\n\u001b[0;32m     82\u001b[0m     \"\"\"\n\u001b[1;32m---> 83\u001b[1;33m     \u001b[1;32mreturn\u001b[0m \u001b[0marray\u001b[0m\u001b[1;33m(\u001b[0m\u001b[0ma\u001b[0m\u001b[1;33m,\u001b[0m \u001b[0mdtype\u001b[0m\u001b[1;33m,\u001b[0m \u001b[0mcopy\u001b[0m\u001b[1;33m=\u001b[0m\u001b[1;32mFalse\u001b[0m\u001b[1;33m,\u001b[0m \u001b[0morder\u001b[0m\u001b[1;33m=\u001b[0m\u001b[0morder\u001b[0m\u001b[1;33m)\u001b[0m\u001b[1;33m\u001b[0m\u001b[1;33m\u001b[0m\u001b[0m\n\u001b[0m\u001b[0;32m     84\u001b[0m \u001b[1;33m\u001b[0m\u001b[0m\n\u001b[0;32m     85\u001b[0m \u001b[1;33m\u001b[0m\u001b[0m\n",
      "\u001b[1;31mValueError\u001b[0m: could not convert string to float: 'Group'"
     ]
    }
   ],
   "source": [
    "model.fit(X_train,Y_train)"
   ]
  },
  {
   "cell_type": "code",
   "execution_count": null,
   "metadata": {},
   "outputs": [],
   "source": []
  }
 ],
 "metadata": {
  "kernelspec": {
   "display_name": "Python 3",
   "language": "python",
   "name": "python3"
  },
  "language_info": {
   "codemirror_mode": {
    "name": "ipython",
    "version": 3
   },
   "file_extension": ".py",
   "mimetype": "text/x-python",
   "name": "python",
   "nbconvert_exporter": "python",
   "pygments_lexer": "ipython3",
   "version": "3.8.5"
  }
 },
 "nbformat": 4,
 "nbformat_minor": 4
}
