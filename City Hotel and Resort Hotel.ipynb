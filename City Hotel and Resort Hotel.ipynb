{
 "cells": [
  {
   "cell_type": "markdown",
   "metadata": {},
   "source": [
    "Import the Packages:"
   ]
  },
  {
   "cell_type": "code",
   "execution_count": 1,
   "metadata": {},
   "outputs": [],
   "source": [
    "import pandas as pd\n",
    "import matplotlib.pyplot as plt\n",
    "import numpy as np\n",
    "import seaborn as sns\n",
    "from sklearn import tree\n",
    "from sklearn.model_selection import train_test_split\n",
    "from sklearn.tree import DecisionTreeClassifier\n",
    "import graphviz\n",
    "from sklearn.tree import export_graphviz\n",
    "from sklearn.metrics import classification_report, confusion_matrix\n",
    "%matplotlib inline"
   ]
  },
  {
   "cell_type": "code",
   "execution_count": 2,
   "metadata": {},
   "outputs": [],
   "source": [
    "pd.set_option('display.max_columns', None)"
   ]
  },
  {
   "cell_type": "code",
   "execution_count": 3,
   "metadata": {},
   "outputs": [],
   "source": [
    "df=pd.read_csv(\"city hotel & resort hotel.csv.csv\")"
   ]
  },
  {
   "cell_type": "code",
   "execution_count": 4,
   "metadata": {},
   "outputs": [
    {
     "data": {
      "text/plain": [
       "Timestamp                                                    object\n",
       "What do you like to prefer more?                             object\n",
       "Why do you like to hangout in this hotel?                    object\n",
       "Which kind of facilities are given in COVID-19 situation?    object\n",
       "Are you satisfied with the above facilities?                 object\n",
       "What was the reason for your visit?                          object\n",
       "Were you alone or in a group?                                object\n",
       "Why  did you choose this hotel?                              object\n",
       "Were the staff friendly and helpful?                         object\n",
       "Did you eat at the hotel?                                    object\n",
       "How would you rate the hotel?                                object\n",
       "Food Hygiene rating.                                         object\n",
       "How Likely are you to stay at this hotel again?              object\n",
       "Overall were you satisfied ,dissatisfied , or neither?       object\n",
       "Would you like to suggest them to improve their service?     object\n",
       "How Likely are you to recommend this hotel?                  object\n",
       "dtype: object"
      ]
     },
     "execution_count": 4,
     "metadata": {},
     "output_type": "execute_result"
    }
   ],
   "source": [
    "df.dtypes"
   ]
  },
  {
   "cell_type": "code",
   "execution_count": 5,
   "metadata": {},
   "outputs": [
    {
     "data": {
      "text/html": [
       "<div>\n",
       "<style scoped>\n",
       "    .dataframe tbody tr th:only-of-type {\n",
       "        vertical-align: middle;\n",
       "    }\n",
       "\n",
       "    .dataframe tbody tr th {\n",
       "        vertical-align: top;\n",
       "    }\n",
       "\n",
       "    .dataframe thead th {\n",
       "        text-align: right;\n",
       "    }\n",
       "</style>\n",
       "<table border=\"1\" class=\"dataframe\">\n",
       "  <thead>\n",
       "    <tr style=\"text-align: right;\">\n",
       "      <th></th>\n",
       "      <th>Timestamp</th>\n",
       "      <th>What do you like to prefer more?</th>\n",
       "      <th>Why do you like to hangout in this hotel?</th>\n",
       "      <th>Which kind of facilities are given in COVID-19 situation?</th>\n",
       "      <th>Are you satisfied with the above facilities?</th>\n",
       "      <th>What was the reason for your visit?</th>\n",
       "      <th>Were you alone or in a group?</th>\n",
       "      <th>Why  did you choose this hotel?</th>\n",
       "      <th>Were the staff friendly and helpful?</th>\n",
       "      <th>Did you eat at the hotel?</th>\n",
       "      <th>How would you rate the hotel?</th>\n",
       "      <th>Food Hygiene rating.</th>\n",
       "      <th>How Likely are you to stay at this hotel again?</th>\n",
       "      <th>Overall were you satisfied ,dissatisfied , or neither?</th>\n",
       "      <th>Would you like to suggest them to improve their service?</th>\n",
       "      <th>How Likely are you to recommend this hotel?</th>\n",
       "    </tr>\n",
       "  </thead>\n",
       "  <tbody>\n",
       "    <tr>\n",
       "      <th>0</th>\n",
       "      <td>20/02/2021 13:13:48</td>\n",
       "      <td>Resort hotel</td>\n",
       "      <td>Good Environment</td>\n",
       "      <td>Sanitization</td>\n",
       "      <td>Yes</td>\n",
       "      <td>Budget friendly</td>\n",
       "      <td>Group</td>\n",
       "      <td>Good Facility</td>\n",
       "      <td>Yes</td>\n",
       "      <td>Yes</td>\n",
       "      <td>Excellent</td>\n",
       "      <td>Excellent</td>\n",
       "      <td>Yes</td>\n",
       "      <td>Satisfied</td>\n",
       "      <td>No</td>\n",
       "      <td>Very Nice</td>\n",
       "    </tr>\n",
       "    <tr>\n",
       "      <th>1</th>\n",
       "      <td>20/02/2021 13:16:53</td>\n",
       "      <td>Resort hotel</td>\n",
       "      <td>Facility, Good Environment, Affordable, Food a...</td>\n",
       "      <td>Sanitization, Temperature Checking, Mask</td>\n",
       "      <td>Yes</td>\n",
       "      <td>For the trip</td>\n",
       "      <td>Group</td>\n",
       "      <td>Good Facility</td>\n",
       "      <td>Yes</td>\n",
       "      <td>Yes</td>\n",
       "      <td>Good</td>\n",
       "      <td>Generally Satisfactory</td>\n",
       "      <td>May be</td>\n",
       "      <td>Satisfied</td>\n",
       "      <td>Yes</td>\n",
       "      <td>good</td>\n",
       "    </tr>\n",
       "    <tr>\n",
       "      <th>2</th>\n",
       "      <td>20/02/2021 13:46:01</td>\n",
       "      <td>Resort hotel</td>\n",
       "      <td>Facility, Good Environment</td>\n",
       "      <td>Sanitization, Temperature Checking, Mask</td>\n",
       "      <td>Yes</td>\n",
       "      <td>For the trip</td>\n",
       "      <td>Group</td>\n",
       "      <td>Good Facility</td>\n",
       "      <td>Yes</td>\n",
       "      <td>Yes</td>\n",
       "      <td>Excellent</td>\n",
       "      <td>Very Good</td>\n",
       "      <td>May be</td>\n",
       "      <td>Satisfied</td>\n",
       "      <td>No</td>\n",
       "      <td>Very good</td>\n",
       "    </tr>\n",
       "    <tr>\n",
       "      <th>3</th>\n",
       "      <td>20/02/2021 13:46:08</td>\n",
       "      <td>Resort hotel</td>\n",
       "      <td>Facility, Good Environment</td>\n",
       "      <td>Sanitization, Temperature Checking, Mask</td>\n",
       "      <td>Yes</td>\n",
       "      <td>For the trip</td>\n",
       "      <td>Group</td>\n",
       "      <td>Good Facility</td>\n",
       "      <td>Yes</td>\n",
       "      <td>Yes</td>\n",
       "      <td>Excellent</td>\n",
       "      <td>Very Good</td>\n",
       "      <td>May be</td>\n",
       "      <td>Satisfied</td>\n",
       "      <td>No</td>\n",
       "      <td>Very good</td>\n",
       "    </tr>\n",
       "    <tr>\n",
       "      <th>4</th>\n",
       "      <td>20/02/2021 13:57:17</td>\n",
       "      <td>City hotel</td>\n",
       "      <td>Good Environment</td>\n",
       "      <td>Sanitization, Temperature Checking</td>\n",
       "      <td>No</td>\n",
       "      <td>For the trip</td>\n",
       "      <td>Group</td>\n",
       "      <td>Good Facility, Acessibility, Dinning Option, S...</td>\n",
       "      <td>Yes</td>\n",
       "      <td>Yes</td>\n",
       "      <td>Good</td>\n",
       "      <td>Generally Satisfactory</td>\n",
       "      <td>May be</td>\n",
       "      <td>Satisfied</td>\n",
       "      <td>Yes</td>\n",
       "      <td>Yes I will recommend this hotel</td>\n",
       "    </tr>\n",
       "  </tbody>\n",
       "</table>\n",
       "</div>"
      ],
      "text/plain": [
       "             Timestamp What do you like to prefer more?  \\\n",
       "0  20/02/2021 13:13:48                     Resort hotel   \n",
       "1  20/02/2021 13:16:53                     Resort hotel   \n",
       "2  20/02/2021 13:46:01                     Resort hotel   \n",
       "3  20/02/2021 13:46:08                     Resort hotel   \n",
       "4  20/02/2021 13:57:17                       City hotel   \n",
       "\n",
       "           Why do you like to hangout in this hotel?  \\\n",
       "0                                   Good Environment   \n",
       "1  Facility, Good Environment, Affordable, Food a...   \n",
       "2                         Facility, Good Environment   \n",
       "3                         Facility, Good Environment   \n",
       "4                                   Good Environment   \n",
       "\n",
       "  Which kind of facilities are given in COVID-19 situation?  \\\n",
       "0                                       Sanitization          \n",
       "1           Sanitization, Temperature Checking, Mask          \n",
       "2           Sanitization, Temperature Checking, Mask          \n",
       "3           Sanitization, Temperature Checking, Mask          \n",
       "4                 Sanitization, Temperature Checking          \n",
       "\n",
       "  Are you satisfied with the above facilities?  \\\n",
       "0                                          Yes   \n",
       "1                                          Yes   \n",
       "2                                          Yes   \n",
       "3                                          Yes   \n",
       "4                                           No   \n",
       "\n",
       "  What was the reason for your visit? Were you alone or in a group?  \\\n",
       "0                     Budget friendly                         Group   \n",
       "1                        For the trip                         Group   \n",
       "2                        For the trip                         Group   \n",
       "3                        For the trip                         Group   \n",
       "4                        For the trip                         Group   \n",
       "\n",
       "                     Why  did you choose this hotel?  \\\n",
       "0                                      Good Facility   \n",
       "1                                      Good Facility   \n",
       "2                                      Good Facility   \n",
       "3                                      Good Facility   \n",
       "4  Good Facility, Acessibility, Dinning Option, S...   \n",
       "\n",
       "  Were the staff friendly and helpful? Did you eat at the hotel?  \\\n",
       "0                                  Yes                       Yes   \n",
       "1                                  Yes                       Yes   \n",
       "2                                  Yes                       Yes   \n",
       "3                                  Yes                       Yes   \n",
       "4                                  Yes                       Yes   \n",
       "\n",
       "  How would you rate the hotel?    Food Hygiene rating.  \\\n",
       "0                     Excellent               Excellent   \n",
       "1                          Good  Generally Satisfactory   \n",
       "2                     Excellent               Very Good   \n",
       "3                     Excellent               Very Good   \n",
       "4                          Good  Generally Satisfactory   \n",
       "\n",
       "  How Likely are you to stay at this hotel again?  \\\n",
       "0                                             Yes   \n",
       "1                                          May be   \n",
       "2                                          May be   \n",
       "3                                          May be   \n",
       "4                                          May be   \n",
       "\n",
       "  Overall were you satisfied ,dissatisfied , or neither?   \\\n",
       "0                                          Satisfied        \n",
       "1                                          Satisfied        \n",
       "2                                          Satisfied        \n",
       "3                                          Satisfied        \n",
       "4                                          Satisfied        \n",
       "\n",
       "  Would you like to suggest them to improve their service?   \\\n",
       "0                                                 No          \n",
       "1                                                Yes          \n",
       "2                                                 No          \n",
       "3                                                 No          \n",
       "4                                                Yes          \n",
       "\n",
       "  How Likely are you to recommend this hotel?  \n",
       "0                                   Very Nice  \n",
       "1                                       good   \n",
       "2                                   Very good  \n",
       "3                                   Very good  \n",
       "4             Yes I will recommend this hotel  "
      ]
     },
     "execution_count": 5,
     "metadata": {},
     "output_type": "execute_result"
    }
   ],
   "source": [
    "df.head()"
   ]
  },
  {
   "cell_type": "code",
   "execution_count": 6,
   "metadata": {},
   "outputs": [],
   "source": [
    "df.rename(columns={'What do you like to prefer more?':'Hotel Type',\n",
    "                   'Why do you like to hangout in this hotel?':'Hangout',\n",
    "                  'Which kind of facilities are given in COVID-19 situation?':'COVID-19 Situation',\n",
    "                  'Are you satisfied with the above facilities?':'satisfied',\n",
    "                  'What was the reason for your visit?':'Reason',\n",
    "                   'Were you alone or in a group?':'Visit Types',\n",
    "                  'Why did you choose this hotel?':'Choose this hotel',\n",
    "                  'Were the staff friendly and helpful?':'staff friendly and helpful',\n",
    "                  'Did you eat at the hotel?':'eat at the hotel',\n",
    "                  'How would you rate the hotel?':'Rating',\n",
    "                  'Food Hygiene rating':'Food Hygiene',\n",
    "                  'How Likely are you to stay at this hotel again?':'stay hotel again',\n",
    "                  'Overall were you satisfied ,dissatisfied , or neither? ':'Overall',\n",
    "                  'Would you like to suggest them to improve their service? ':'Suggestion','How Likely are you to recommend this hotel?':'Recommend'},inplace=True)"
   ]
  },
  {
   "cell_type": "code",
   "execution_count": 7,
   "metadata": {},
   "outputs": [
    {
     "data": {
      "text/html": [
       "<div>\n",
       "<style scoped>\n",
       "    .dataframe tbody tr th:only-of-type {\n",
       "        vertical-align: middle;\n",
       "    }\n",
       "\n",
       "    .dataframe tbody tr th {\n",
       "        vertical-align: top;\n",
       "    }\n",
       "\n",
       "    .dataframe thead th {\n",
       "        text-align: right;\n",
       "    }\n",
       "</style>\n",
       "<table border=\"1\" class=\"dataframe\">\n",
       "  <thead>\n",
       "    <tr style=\"text-align: right;\">\n",
       "      <th></th>\n",
       "      <th>Timestamp</th>\n",
       "      <th>Hotel Type</th>\n",
       "      <th>Hangout</th>\n",
       "      <th>COVID-19 Situation</th>\n",
       "      <th>satisfied</th>\n",
       "      <th>Reason</th>\n",
       "      <th>Visit Types</th>\n",
       "      <th>Why  did you choose this hotel?</th>\n",
       "      <th>staff friendly and helpful</th>\n",
       "      <th>eat at the hotel</th>\n",
       "      <th>Rating</th>\n",
       "      <th>Food Hygiene rating.</th>\n",
       "      <th>stay hotel again</th>\n",
       "      <th>Overall</th>\n",
       "      <th>Suggestion</th>\n",
       "      <th>Recommend</th>\n",
       "    </tr>\n",
       "  </thead>\n",
       "  <tbody>\n",
       "    <tr>\n",
       "      <th>0</th>\n",
       "      <td>20/02/2021 13:13:48</td>\n",
       "      <td>Resort hotel</td>\n",
       "      <td>Good Environment</td>\n",
       "      <td>Sanitization</td>\n",
       "      <td>Yes</td>\n",
       "      <td>Budget friendly</td>\n",
       "      <td>Group</td>\n",
       "      <td>Good Facility</td>\n",
       "      <td>Yes</td>\n",
       "      <td>Yes</td>\n",
       "      <td>Excellent</td>\n",
       "      <td>Excellent</td>\n",
       "      <td>Yes</td>\n",
       "      <td>Satisfied</td>\n",
       "      <td>No</td>\n",
       "      <td>Very Nice</td>\n",
       "    </tr>\n",
       "    <tr>\n",
       "      <th>1</th>\n",
       "      <td>20/02/2021 13:16:53</td>\n",
       "      <td>Resort hotel</td>\n",
       "      <td>Facility, Good Environment, Affordable, Food a...</td>\n",
       "      <td>Sanitization, Temperature Checking, Mask</td>\n",
       "      <td>Yes</td>\n",
       "      <td>For the trip</td>\n",
       "      <td>Group</td>\n",
       "      <td>Good Facility</td>\n",
       "      <td>Yes</td>\n",
       "      <td>Yes</td>\n",
       "      <td>Good</td>\n",
       "      <td>Generally Satisfactory</td>\n",
       "      <td>May be</td>\n",
       "      <td>Satisfied</td>\n",
       "      <td>Yes</td>\n",
       "      <td>good</td>\n",
       "    </tr>\n",
       "    <tr>\n",
       "      <th>2</th>\n",
       "      <td>20/02/2021 13:46:01</td>\n",
       "      <td>Resort hotel</td>\n",
       "      <td>Facility, Good Environment</td>\n",
       "      <td>Sanitization, Temperature Checking, Mask</td>\n",
       "      <td>Yes</td>\n",
       "      <td>For the trip</td>\n",
       "      <td>Group</td>\n",
       "      <td>Good Facility</td>\n",
       "      <td>Yes</td>\n",
       "      <td>Yes</td>\n",
       "      <td>Excellent</td>\n",
       "      <td>Very Good</td>\n",
       "      <td>May be</td>\n",
       "      <td>Satisfied</td>\n",
       "      <td>No</td>\n",
       "      <td>Very good</td>\n",
       "    </tr>\n",
       "    <tr>\n",
       "      <th>3</th>\n",
       "      <td>20/02/2021 13:46:08</td>\n",
       "      <td>Resort hotel</td>\n",
       "      <td>Facility, Good Environment</td>\n",
       "      <td>Sanitization, Temperature Checking, Mask</td>\n",
       "      <td>Yes</td>\n",
       "      <td>For the trip</td>\n",
       "      <td>Group</td>\n",
       "      <td>Good Facility</td>\n",
       "      <td>Yes</td>\n",
       "      <td>Yes</td>\n",
       "      <td>Excellent</td>\n",
       "      <td>Very Good</td>\n",
       "      <td>May be</td>\n",
       "      <td>Satisfied</td>\n",
       "      <td>No</td>\n",
       "      <td>Very good</td>\n",
       "    </tr>\n",
       "    <tr>\n",
       "      <th>4</th>\n",
       "      <td>20/02/2021 13:57:17</td>\n",
       "      <td>City hotel</td>\n",
       "      <td>Good Environment</td>\n",
       "      <td>Sanitization, Temperature Checking</td>\n",
       "      <td>No</td>\n",
       "      <td>For the trip</td>\n",
       "      <td>Group</td>\n",
       "      <td>Good Facility, Acessibility, Dinning Option, S...</td>\n",
       "      <td>Yes</td>\n",
       "      <td>Yes</td>\n",
       "      <td>Good</td>\n",
       "      <td>Generally Satisfactory</td>\n",
       "      <td>May be</td>\n",
       "      <td>Satisfied</td>\n",
       "      <td>Yes</td>\n",
       "      <td>Yes I will recommend this hotel</td>\n",
       "    </tr>\n",
       "  </tbody>\n",
       "</table>\n",
       "</div>"
      ],
      "text/plain": [
       "             Timestamp    Hotel Type  \\\n",
       "0  20/02/2021 13:13:48  Resort hotel   \n",
       "1  20/02/2021 13:16:53  Resort hotel   \n",
       "2  20/02/2021 13:46:01  Resort hotel   \n",
       "3  20/02/2021 13:46:08  Resort hotel   \n",
       "4  20/02/2021 13:57:17    City hotel   \n",
       "\n",
       "                                             Hangout  \\\n",
       "0                                   Good Environment   \n",
       "1  Facility, Good Environment, Affordable, Food a...   \n",
       "2                         Facility, Good Environment   \n",
       "3                         Facility, Good Environment   \n",
       "4                                   Good Environment   \n",
       "\n",
       "                         COVID-19 Situation satisfied           Reason  \\\n",
       "0                              Sanitization       Yes  Budget friendly   \n",
       "1  Sanitization, Temperature Checking, Mask       Yes     For the trip   \n",
       "2  Sanitization, Temperature Checking, Mask       Yes     For the trip   \n",
       "3  Sanitization, Temperature Checking, Mask       Yes     For the trip   \n",
       "4        Sanitization, Temperature Checking        No     For the trip   \n",
       "\n",
       "  Visit Types                    Why  did you choose this hotel?  \\\n",
       "0       Group                                      Good Facility   \n",
       "1       Group                                      Good Facility   \n",
       "2       Group                                      Good Facility   \n",
       "3       Group                                      Good Facility   \n",
       "4       Group  Good Facility, Acessibility, Dinning Option, S...   \n",
       "\n",
       "  staff friendly and helpful eat at the hotel     Rating  \\\n",
       "0                        Yes              Yes  Excellent   \n",
       "1                        Yes              Yes       Good   \n",
       "2                        Yes              Yes  Excellent   \n",
       "3                        Yes              Yes  Excellent   \n",
       "4                        Yes              Yes       Good   \n",
       "\n",
       "     Food Hygiene rating. stay hotel again    Overall Suggestion  \\\n",
       "0               Excellent              Yes  Satisfied         No   \n",
       "1  Generally Satisfactory           May be  Satisfied        Yes   \n",
       "2               Very Good           May be  Satisfied         No   \n",
       "3               Very Good           May be  Satisfied         No   \n",
       "4  Generally Satisfactory           May be  Satisfied        Yes   \n",
       "\n",
       "                         Recommend  \n",
       "0                        Very Nice  \n",
       "1                            good   \n",
       "2                        Very good  \n",
       "3                        Very good  \n",
       "4  Yes I will recommend this hotel  "
      ]
     },
     "execution_count": 7,
     "metadata": {},
     "output_type": "execute_result"
    }
   ],
   "source": [
    "df.head()"
   ]
  },
  {
   "cell_type": "code",
   "execution_count": 8,
   "metadata": {},
   "outputs": [],
   "source": [
    "df = df.rename(columns = {\"Why  did you choose this hotel?\" : \"Choose Hotel\"})"
   ]
  },
  {
   "cell_type": "code",
   "execution_count": 9,
   "metadata": {},
   "outputs": [],
   "source": [
    "df = df.rename(columns = {\"Overall were you satisfied, dissatisfied or neither?\":\"Overall\"})"
   ]
  },
  {
   "cell_type": "code",
   "execution_count": 10,
   "metadata": {},
   "outputs": [
    {
     "data": {
      "text/plain": [
       "Index(['Timestamp', 'Hotel Type', 'Hangout', 'COVID-19 Situation', 'satisfied',\n",
       "       'Reason', 'Visit Types', 'Choose Hotel', 'staff friendly and helpful',\n",
       "       'eat at the hotel', 'Rating', 'Food Hygiene rating.',\n",
       "       'stay hotel again', 'Overall', 'Suggestion', 'Recommend'],\n",
       "      dtype='object')"
      ]
     },
     "execution_count": 10,
     "metadata": {},
     "output_type": "execute_result"
    }
   ],
   "source": [
    "df.columns"
   ]
  },
  {
   "cell_type": "code",
   "execution_count": 11,
   "metadata": {},
   "outputs": [
    {
     "data": {
      "text/html": [
       "<div>\n",
       "<style scoped>\n",
       "    .dataframe tbody tr th:only-of-type {\n",
       "        vertical-align: middle;\n",
       "    }\n",
       "\n",
       "    .dataframe tbody tr th {\n",
       "        vertical-align: top;\n",
       "    }\n",
       "\n",
       "    .dataframe thead th {\n",
       "        text-align: right;\n",
       "    }\n",
       "</style>\n",
       "<table border=\"1\" class=\"dataframe\">\n",
       "  <thead>\n",
       "    <tr style=\"text-align: right;\">\n",
       "      <th></th>\n",
       "      <th>Timestamp</th>\n",
       "      <th>Hotel Type</th>\n",
       "      <th>Hangout</th>\n",
       "      <th>COVID-19 Situation</th>\n",
       "      <th>satisfied</th>\n",
       "      <th>Reason</th>\n",
       "      <th>Visit Types</th>\n",
       "      <th>Choose Hotel</th>\n",
       "      <th>staff friendly and helpful</th>\n",
       "      <th>eat at the hotel</th>\n",
       "      <th>Rating</th>\n",
       "      <th>Food Hygiene rating.</th>\n",
       "      <th>stay hotel again</th>\n",
       "      <th>Overall</th>\n",
       "      <th>Suggestion</th>\n",
       "      <th>Recommend</th>\n",
       "    </tr>\n",
       "  </thead>\n",
       "  <tbody>\n",
       "    <tr>\n",
       "      <th>0</th>\n",
       "      <td>20/02/2021 13:13:48</td>\n",
       "      <td>Resort hotel</td>\n",
       "      <td>Good Environment</td>\n",
       "      <td>Sanitization</td>\n",
       "      <td>Yes</td>\n",
       "      <td>Budget friendly</td>\n",
       "      <td>Group</td>\n",
       "      <td>Good Facility</td>\n",
       "      <td>Yes</td>\n",
       "      <td>Yes</td>\n",
       "      <td>Excellent</td>\n",
       "      <td>Excellent</td>\n",
       "      <td>Yes</td>\n",
       "      <td>Satisfied</td>\n",
       "      <td>No</td>\n",
       "      <td>Very Nice</td>\n",
       "    </tr>\n",
       "    <tr>\n",
       "      <th>1</th>\n",
       "      <td>20/02/2021 13:16:53</td>\n",
       "      <td>Resort hotel</td>\n",
       "      <td>Facility, Good Environment, Affordable, Food a...</td>\n",
       "      <td>Sanitization, Temperature Checking, Mask</td>\n",
       "      <td>Yes</td>\n",
       "      <td>For the trip</td>\n",
       "      <td>Group</td>\n",
       "      <td>Good Facility</td>\n",
       "      <td>Yes</td>\n",
       "      <td>Yes</td>\n",
       "      <td>Good</td>\n",
       "      <td>Generally Satisfactory</td>\n",
       "      <td>May be</td>\n",
       "      <td>Satisfied</td>\n",
       "      <td>Yes</td>\n",
       "      <td>good</td>\n",
       "    </tr>\n",
       "    <tr>\n",
       "      <th>2</th>\n",
       "      <td>20/02/2021 13:46:01</td>\n",
       "      <td>Resort hotel</td>\n",
       "      <td>Facility, Good Environment</td>\n",
       "      <td>Sanitization, Temperature Checking, Mask</td>\n",
       "      <td>Yes</td>\n",
       "      <td>For the trip</td>\n",
       "      <td>Group</td>\n",
       "      <td>Good Facility</td>\n",
       "      <td>Yes</td>\n",
       "      <td>Yes</td>\n",
       "      <td>Excellent</td>\n",
       "      <td>Very Good</td>\n",
       "      <td>May be</td>\n",
       "      <td>Satisfied</td>\n",
       "      <td>No</td>\n",
       "      <td>Very good</td>\n",
       "    </tr>\n",
       "    <tr>\n",
       "      <th>3</th>\n",
       "      <td>20/02/2021 13:46:08</td>\n",
       "      <td>Resort hotel</td>\n",
       "      <td>Facility, Good Environment</td>\n",
       "      <td>Sanitization, Temperature Checking, Mask</td>\n",
       "      <td>Yes</td>\n",
       "      <td>For the trip</td>\n",
       "      <td>Group</td>\n",
       "      <td>Good Facility</td>\n",
       "      <td>Yes</td>\n",
       "      <td>Yes</td>\n",
       "      <td>Excellent</td>\n",
       "      <td>Very Good</td>\n",
       "      <td>May be</td>\n",
       "      <td>Satisfied</td>\n",
       "      <td>No</td>\n",
       "      <td>Very good</td>\n",
       "    </tr>\n",
       "    <tr>\n",
       "      <th>4</th>\n",
       "      <td>20/02/2021 13:57:17</td>\n",
       "      <td>City hotel</td>\n",
       "      <td>Good Environment</td>\n",
       "      <td>Sanitization, Temperature Checking</td>\n",
       "      <td>No</td>\n",
       "      <td>For the trip</td>\n",
       "      <td>Group</td>\n",
       "      <td>Good Facility, Acessibility, Dinning Option, S...</td>\n",
       "      <td>Yes</td>\n",
       "      <td>Yes</td>\n",
       "      <td>Good</td>\n",
       "      <td>Generally Satisfactory</td>\n",
       "      <td>May be</td>\n",
       "      <td>Satisfied</td>\n",
       "      <td>Yes</td>\n",
       "      <td>Yes I will recommend this hotel</td>\n",
       "    </tr>\n",
       "    <tr>\n",
       "      <th>...</th>\n",
       "      <td>...</td>\n",
       "      <td>...</td>\n",
       "      <td>...</td>\n",
       "      <td>...</td>\n",
       "      <td>...</td>\n",
       "      <td>...</td>\n",
       "      <td>...</td>\n",
       "      <td>...</td>\n",
       "      <td>...</td>\n",
       "      <td>...</td>\n",
       "      <td>...</td>\n",
       "      <td>...</td>\n",
       "      <td>...</td>\n",
       "      <td>...</td>\n",
       "      <td>...</td>\n",
       "      <td>...</td>\n",
       "    </tr>\n",
       "    <tr>\n",
       "      <th>196</th>\n",
       "      <td>22/04/2021 19:41:57</td>\n",
       "      <td>City hotel</td>\n",
       "      <td>Affordable</td>\n",
       "      <td>Sanitization</td>\n",
       "      <td>Yes</td>\n",
       "      <td>For the trip</td>\n",
       "      <td>Alone</td>\n",
       "      <td>Hotel Loyalty</td>\n",
       "      <td>Yes</td>\n",
       "      <td>Yes</td>\n",
       "      <td>Good</td>\n",
       "      <td>Very Good</td>\n",
       "      <td>Yes</td>\n",
       "      <td>Satisfied</td>\n",
       "      <td>Yes</td>\n",
       "      <td>8/10</td>\n",
       "    </tr>\n",
       "    <tr>\n",
       "      <th>197</th>\n",
       "      <td>22/04/2021 19:42:25</td>\n",
       "      <td>Resort hotel</td>\n",
       "      <td>Affordable</td>\n",
       "      <td>Temperature Checking</td>\n",
       "      <td>Yes</td>\n",
       "      <td>Affordable</td>\n",
       "      <td>Group</td>\n",
       "      <td>Hotel Loyalty</td>\n",
       "      <td>Yes</td>\n",
       "      <td>Yes</td>\n",
       "      <td>Very Good</td>\n",
       "      <td>Very Good</td>\n",
       "      <td>Yes</td>\n",
       "      <td>Satisfied</td>\n",
       "      <td>Yes</td>\n",
       "      <td>8/10</td>\n",
       "    </tr>\n",
       "    <tr>\n",
       "      <th>198</th>\n",
       "      <td>22/04/2021 19:44:23</td>\n",
       "      <td>City hotel</td>\n",
       "      <td>Affordable</td>\n",
       "      <td>Temperature Checking</td>\n",
       "      <td>Yes</td>\n",
       "      <td>Affordable</td>\n",
       "      <td>Alone</td>\n",
       "      <td>Good Facility</td>\n",
       "      <td>Yes</td>\n",
       "      <td>Yes</td>\n",
       "      <td>Very Good</td>\n",
       "      <td>Very Good</td>\n",
       "      <td>Yes</td>\n",
       "      <td>Satisfied</td>\n",
       "      <td>Yes</td>\n",
       "      <td>7/10</td>\n",
       "    </tr>\n",
       "    <tr>\n",
       "      <th>199</th>\n",
       "      <td>22/04/2021 19:44:46</td>\n",
       "      <td>Resort hotel</td>\n",
       "      <td>Good Environment</td>\n",
       "      <td>Temperature Checking</td>\n",
       "      <td>Yes</td>\n",
       "      <td>Affordable</td>\n",
       "      <td>Alone</td>\n",
       "      <td>Acessibility</td>\n",
       "      <td>Yes</td>\n",
       "      <td>Yes</td>\n",
       "      <td>Very Good</td>\n",
       "      <td>Very Good</td>\n",
       "      <td>Yes</td>\n",
       "      <td>Satisfied</td>\n",
       "      <td>Yes</td>\n",
       "      <td>8/10</td>\n",
       "    </tr>\n",
       "    <tr>\n",
       "      <th>200</th>\n",
       "      <td>22/04/2021 19:45:10</td>\n",
       "      <td>Resort hotel</td>\n",
       "      <td>Affordable</td>\n",
       "      <td>Temperature Checking</td>\n",
       "      <td>Yes</td>\n",
       "      <td>For the trip</td>\n",
       "      <td>Group</td>\n",
       "      <td>Good Facility</td>\n",
       "      <td>Yes</td>\n",
       "      <td>Yes</td>\n",
       "      <td>Excellent</td>\n",
       "      <td>Excellent</td>\n",
       "      <td>Yes</td>\n",
       "      <td>Satisfied</td>\n",
       "      <td>Yes</td>\n",
       "      <td>10/10</td>\n",
       "    </tr>\n",
       "  </tbody>\n",
       "</table>\n",
       "<p>201 rows × 16 columns</p>\n",
       "</div>"
      ],
      "text/plain": [
       "               Timestamp    Hotel Type  \\\n",
       "0    20/02/2021 13:13:48  Resort hotel   \n",
       "1    20/02/2021 13:16:53  Resort hotel   \n",
       "2    20/02/2021 13:46:01  Resort hotel   \n",
       "3    20/02/2021 13:46:08  Resort hotel   \n",
       "4    20/02/2021 13:57:17    City hotel   \n",
       "..                   ...           ...   \n",
       "196  22/04/2021 19:41:57    City hotel   \n",
       "197  22/04/2021 19:42:25  Resort hotel   \n",
       "198  22/04/2021 19:44:23    City hotel   \n",
       "199  22/04/2021 19:44:46  Resort hotel   \n",
       "200  22/04/2021 19:45:10  Resort hotel   \n",
       "\n",
       "                                               Hangout  \\\n",
       "0                                     Good Environment   \n",
       "1    Facility, Good Environment, Affordable, Food a...   \n",
       "2                           Facility, Good Environment   \n",
       "3                           Facility, Good Environment   \n",
       "4                                     Good Environment   \n",
       "..                                                 ...   \n",
       "196                                         Affordable   \n",
       "197                                         Affordable   \n",
       "198                                         Affordable   \n",
       "199                                   Good Environment   \n",
       "200                                         Affordable   \n",
       "\n",
       "                           COVID-19 Situation satisfied           Reason  \\\n",
       "0                                Sanitization       Yes  Budget friendly   \n",
       "1    Sanitization, Temperature Checking, Mask       Yes     For the trip   \n",
       "2    Sanitization, Temperature Checking, Mask       Yes     For the trip   \n",
       "3    Sanitization, Temperature Checking, Mask       Yes     For the trip   \n",
       "4          Sanitization, Temperature Checking        No     For the trip   \n",
       "..                                        ...       ...              ...   \n",
       "196                              Sanitization       Yes     For the trip   \n",
       "197                      Temperature Checking       Yes       Affordable   \n",
       "198                      Temperature Checking       Yes       Affordable   \n",
       "199                      Temperature Checking       Yes       Affordable   \n",
       "200                      Temperature Checking       Yes     For the trip   \n",
       "\n",
       "    Visit Types                                       Choose Hotel  \\\n",
       "0         Group                                      Good Facility   \n",
       "1         Group                                      Good Facility   \n",
       "2         Group                                      Good Facility   \n",
       "3         Group                                      Good Facility   \n",
       "4         Group  Good Facility, Acessibility, Dinning Option, S...   \n",
       "..          ...                                                ...   \n",
       "196       Alone                                      Hotel Loyalty   \n",
       "197       Group                                      Hotel Loyalty   \n",
       "198       Alone                                      Good Facility   \n",
       "199       Alone                                       Acessibility   \n",
       "200       Group                                      Good Facility   \n",
       "\n",
       "    staff friendly and helpful eat at the hotel     Rating  \\\n",
       "0                          Yes              Yes  Excellent   \n",
       "1                          Yes              Yes       Good   \n",
       "2                          Yes              Yes  Excellent   \n",
       "3                          Yes              Yes  Excellent   \n",
       "4                          Yes              Yes       Good   \n",
       "..                         ...              ...        ...   \n",
       "196                        Yes              Yes       Good   \n",
       "197                        Yes              Yes  Very Good   \n",
       "198                        Yes              Yes  Very Good   \n",
       "199                        Yes              Yes  Very Good   \n",
       "200                        Yes              Yes  Excellent   \n",
       "\n",
       "       Food Hygiene rating. stay hotel again    Overall Suggestion  \\\n",
       "0                 Excellent              Yes  Satisfied         No   \n",
       "1    Generally Satisfactory           May be  Satisfied        Yes   \n",
       "2                 Very Good           May be  Satisfied         No   \n",
       "3                 Very Good           May be  Satisfied         No   \n",
       "4    Generally Satisfactory           May be  Satisfied        Yes   \n",
       "..                      ...              ...        ...        ...   \n",
       "196               Very Good              Yes  Satisfied        Yes   \n",
       "197               Very Good              Yes  Satisfied        Yes   \n",
       "198               Very Good              Yes  Satisfied        Yes   \n",
       "199               Very Good              Yes  Satisfied        Yes   \n",
       "200               Excellent              Yes  Satisfied        Yes   \n",
       "\n",
       "                           Recommend  \n",
       "0                          Very Nice  \n",
       "1                              good   \n",
       "2                          Very good  \n",
       "3                          Very good  \n",
       "4    Yes I will recommend this hotel  \n",
       "..                               ...  \n",
       "196                             8/10  \n",
       "197                             8/10  \n",
       "198                             7/10  \n",
       "199                             8/10  \n",
       "200                            10/10  \n",
       "\n",
       "[201 rows x 16 columns]"
      ]
     },
     "execution_count": 11,
     "metadata": {},
     "output_type": "execute_result"
    }
   ],
   "source": [
    "df"
   ]
  },
  {
   "cell_type": "code",
   "execution_count": 12,
   "metadata": {},
   "outputs": [],
   "source": [
    "df['Visit Types'] = df['Visit Types'].replace({'Alone':0,'Group':1})"
   ]
  },
  {
   "cell_type": "code",
   "execution_count": 13,
   "metadata": {},
   "outputs": [],
   "source": [
    "df['Reason'] = df['Reason'].replace({'Budget friendly':0, 'For the trip':1, 'Affordable':2, 'Facility':3, 'other':4})"
   ]
  },
  {
   "cell_type": "code",
   "execution_count": 14,
   "metadata": {},
   "outputs": [
    {
     "data": {
      "text/plain": [
       "array([0, 1, 2, 3, 4], dtype=int64)"
      ]
     },
     "execution_count": 14,
     "metadata": {},
     "output_type": "execute_result"
    }
   ],
   "source": [
    "features=df.Reason.unique()\n",
    "features"
   ]
  },
  {
   "cell_type": "code",
   "execution_count": 15,
   "metadata": {},
   "outputs": [
    {
     "data": {
      "text/html": [
       "<div>\n",
       "<style scoped>\n",
       "    .dataframe tbody tr th:only-of-type {\n",
       "        vertical-align: middle;\n",
       "    }\n",
       "\n",
       "    .dataframe tbody tr th {\n",
       "        vertical-align: top;\n",
       "    }\n",
       "\n",
       "    .dataframe thead th {\n",
       "        text-align: right;\n",
       "    }\n",
       "</style>\n",
       "<table border=\"1\" class=\"dataframe\">\n",
       "  <thead>\n",
       "    <tr style=\"text-align: right;\">\n",
       "      <th></th>\n",
       "      <th>Timestamp</th>\n",
       "      <th>Hotel Type</th>\n",
       "      <th>Hangout</th>\n",
       "      <th>COVID-19 Situation</th>\n",
       "      <th>satisfied</th>\n",
       "      <th>Reason</th>\n",
       "      <th>Visit Types</th>\n",
       "      <th>Choose Hotel</th>\n",
       "      <th>staff friendly and helpful</th>\n",
       "      <th>eat at the hotel</th>\n",
       "      <th>Rating</th>\n",
       "      <th>Food Hygiene rating.</th>\n",
       "      <th>stay hotel again</th>\n",
       "      <th>Overall</th>\n",
       "      <th>Suggestion</th>\n",
       "      <th>Recommend</th>\n",
       "    </tr>\n",
       "  </thead>\n",
       "  <tbody>\n",
       "    <tr>\n",
       "      <th>0</th>\n",
       "      <td>20/02/2021 13:13:48</td>\n",
       "      <td>Resort hotel</td>\n",
       "      <td>Good Environment</td>\n",
       "      <td>Sanitization</td>\n",
       "      <td>Yes</td>\n",
       "      <td>0</td>\n",
       "      <td>1</td>\n",
       "      <td>Good Facility</td>\n",
       "      <td>Yes</td>\n",
       "      <td>Yes</td>\n",
       "      <td>Excellent</td>\n",
       "      <td>Excellent</td>\n",
       "      <td>Yes</td>\n",
       "      <td>Satisfied</td>\n",
       "      <td>No</td>\n",
       "      <td>Very Nice</td>\n",
       "    </tr>\n",
       "    <tr>\n",
       "      <th>1</th>\n",
       "      <td>20/02/2021 13:16:53</td>\n",
       "      <td>Resort hotel</td>\n",
       "      <td>Facility, Good Environment, Affordable, Food a...</td>\n",
       "      <td>Sanitization, Temperature Checking, Mask</td>\n",
       "      <td>Yes</td>\n",
       "      <td>1</td>\n",
       "      <td>1</td>\n",
       "      <td>Good Facility</td>\n",
       "      <td>Yes</td>\n",
       "      <td>Yes</td>\n",
       "      <td>Good</td>\n",
       "      <td>Generally Satisfactory</td>\n",
       "      <td>May be</td>\n",
       "      <td>Satisfied</td>\n",
       "      <td>Yes</td>\n",
       "      <td>good</td>\n",
       "    </tr>\n",
       "    <tr>\n",
       "      <th>2</th>\n",
       "      <td>20/02/2021 13:46:01</td>\n",
       "      <td>Resort hotel</td>\n",
       "      <td>Facility, Good Environment</td>\n",
       "      <td>Sanitization, Temperature Checking, Mask</td>\n",
       "      <td>Yes</td>\n",
       "      <td>1</td>\n",
       "      <td>1</td>\n",
       "      <td>Good Facility</td>\n",
       "      <td>Yes</td>\n",
       "      <td>Yes</td>\n",
       "      <td>Excellent</td>\n",
       "      <td>Very Good</td>\n",
       "      <td>May be</td>\n",
       "      <td>Satisfied</td>\n",
       "      <td>No</td>\n",
       "      <td>Very good</td>\n",
       "    </tr>\n",
       "    <tr>\n",
       "      <th>3</th>\n",
       "      <td>20/02/2021 13:46:08</td>\n",
       "      <td>Resort hotel</td>\n",
       "      <td>Facility, Good Environment</td>\n",
       "      <td>Sanitization, Temperature Checking, Mask</td>\n",
       "      <td>Yes</td>\n",
       "      <td>1</td>\n",
       "      <td>1</td>\n",
       "      <td>Good Facility</td>\n",
       "      <td>Yes</td>\n",
       "      <td>Yes</td>\n",
       "      <td>Excellent</td>\n",
       "      <td>Very Good</td>\n",
       "      <td>May be</td>\n",
       "      <td>Satisfied</td>\n",
       "      <td>No</td>\n",
       "      <td>Very good</td>\n",
       "    </tr>\n",
       "    <tr>\n",
       "      <th>4</th>\n",
       "      <td>20/02/2021 13:57:17</td>\n",
       "      <td>City hotel</td>\n",
       "      <td>Good Environment</td>\n",
       "      <td>Sanitization, Temperature Checking</td>\n",
       "      <td>No</td>\n",
       "      <td>1</td>\n",
       "      <td>1</td>\n",
       "      <td>Good Facility, Acessibility, Dinning Option, S...</td>\n",
       "      <td>Yes</td>\n",
       "      <td>Yes</td>\n",
       "      <td>Good</td>\n",
       "      <td>Generally Satisfactory</td>\n",
       "      <td>May be</td>\n",
       "      <td>Satisfied</td>\n",
       "      <td>Yes</td>\n",
       "      <td>Yes I will recommend this hotel</td>\n",
       "    </tr>\n",
       "  </tbody>\n",
       "</table>\n",
       "</div>"
      ],
      "text/plain": [
       "             Timestamp    Hotel Type  \\\n",
       "0  20/02/2021 13:13:48  Resort hotel   \n",
       "1  20/02/2021 13:16:53  Resort hotel   \n",
       "2  20/02/2021 13:46:01  Resort hotel   \n",
       "3  20/02/2021 13:46:08  Resort hotel   \n",
       "4  20/02/2021 13:57:17    City hotel   \n",
       "\n",
       "                                             Hangout  \\\n",
       "0                                   Good Environment   \n",
       "1  Facility, Good Environment, Affordable, Food a...   \n",
       "2                         Facility, Good Environment   \n",
       "3                         Facility, Good Environment   \n",
       "4                                   Good Environment   \n",
       "\n",
       "                         COVID-19 Situation satisfied  Reason  Visit Types  \\\n",
       "0                              Sanitization       Yes       0            1   \n",
       "1  Sanitization, Temperature Checking, Mask       Yes       1            1   \n",
       "2  Sanitization, Temperature Checking, Mask       Yes       1            1   \n",
       "3  Sanitization, Temperature Checking, Mask       Yes       1            1   \n",
       "4        Sanitization, Temperature Checking        No       1            1   \n",
       "\n",
       "                                        Choose Hotel  \\\n",
       "0                                      Good Facility   \n",
       "1                                      Good Facility   \n",
       "2                                      Good Facility   \n",
       "3                                      Good Facility   \n",
       "4  Good Facility, Acessibility, Dinning Option, S...   \n",
       "\n",
       "  staff friendly and helpful eat at the hotel     Rating  \\\n",
       "0                        Yes              Yes  Excellent   \n",
       "1                        Yes              Yes       Good   \n",
       "2                        Yes              Yes  Excellent   \n",
       "3                        Yes              Yes  Excellent   \n",
       "4                        Yes              Yes       Good   \n",
       "\n",
       "     Food Hygiene rating. stay hotel again    Overall Suggestion  \\\n",
       "0               Excellent              Yes  Satisfied         No   \n",
       "1  Generally Satisfactory           May be  Satisfied        Yes   \n",
       "2               Very Good           May be  Satisfied         No   \n",
       "3               Very Good           May be  Satisfied         No   \n",
       "4  Generally Satisfactory           May be  Satisfied        Yes   \n",
       "\n",
       "                         Recommend  \n",
       "0                        Very Nice  \n",
       "1                            good   \n",
       "2                        Very good  \n",
       "3                        Very good  \n",
       "4  Yes I will recommend this hotel  "
      ]
     },
     "execution_count": 15,
     "metadata": {},
     "output_type": "execute_result"
    }
   ],
   "source": [
    "df.head()"
   ]
  },
  {
   "cell_type": "code",
   "execution_count": null,
   "metadata": {},
   "outputs": [],
   "source": []
  },
  {
   "cell_type": "code",
   "execution_count": 16,
   "metadata": {},
   "outputs": [],
   "source": [
    "df['Hotel Type'] = df['Hotel Type'].replace({'City hotel':0,'Resort hotel':1})\n"
   ]
  },
  {
   "cell_type": "code",
   "execution_count": 17,
   "metadata": {},
   "outputs": [
    {
     "data": {
      "text/html": [
       "<div>\n",
       "<style scoped>\n",
       "    .dataframe tbody tr th:only-of-type {\n",
       "        vertical-align: middle;\n",
       "    }\n",
       "\n",
       "    .dataframe tbody tr th {\n",
       "        vertical-align: top;\n",
       "    }\n",
       "\n",
       "    .dataframe thead th {\n",
       "        text-align: right;\n",
       "    }\n",
       "</style>\n",
       "<table border=\"1\" class=\"dataframe\">\n",
       "  <thead>\n",
       "    <tr style=\"text-align: right;\">\n",
       "      <th></th>\n",
       "      <th>Timestamp</th>\n",
       "      <th>Hotel Type</th>\n",
       "      <th>Hangout</th>\n",
       "      <th>COVID-19 Situation</th>\n",
       "      <th>satisfied</th>\n",
       "      <th>Reason</th>\n",
       "      <th>Visit Types</th>\n",
       "      <th>Choose Hotel</th>\n",
       "      <th>staff friendly and helpful</th>\n",
       "      <th>eat at the hotel</th>\n",
       "      <th>Rating</th>\n",
       "      <th>Food Hygiene rating.</th>\n",
       "      <th>stay hotel again</th>\n",
       "      <th>Overall</th>\n",
       "      <th>Suggestion</th>\n",
       "      <th>Recommend</th>\n",
       "    </tr>\n",
       "  </thead>\n",
       "  <tbody>\n",
       "    <tr>\n",
       "      <th>0</th>\n",
       "      <td>20/02/2021 13:13:48</td>\n",
       "      <td>1</td>\n",
       "      <td>Good Environment</td>\n",
       "      <td>Sanitization</td>\n",
       "      <td>Yes</td>\n",
       "      <td>0</td>\n",
       "      <td>1</td>\n",
       "      <td>Good Facility</td>\n",
       "      <td>Yes</td>\n",
       "      <td>Yes</td>\n",
       "      <td>Excellent</td>\n",
       "      <td>Excellent</td>\n",
       "      <td>Yes</td>\n",
       "      <td>Satisfied</td>\n",
       "      <td>No</td>\n",
       "      <td>Very Nice</td>\n",
       "    </tr>\n",
       "    <tr>\n",
       "      <th>1</th>\n",
       "      <td>20/02/2021 13:16:53</td>\n",
       "      <td>1</td>\n",
       "      <td>Facility, Good Environment, Affordable, Food a...</td>\n",
       "      <td>Sanitization, Temperature Checking, Mask</td>\n",
       "      <td>Yes</td>\n",
       "      <td>1</td>\n",
       "      <td>1</td>\n",
       "      <td>Good Facility</td>\n",
       "      <td>Yes</td>\n",
       "      <td>Yes</td>\n",
       "      <td>Good</td>\n",
       "      <td>Generally Satisfactory</td>\n",
       "      <td>May be</td>\n",
       "      <td>Satisfied</td>\n",
       "      <td>Yes</td>\n",
       "      <td>good</td>\n",
       "    </tr>\n",
       "    <tr>\n",
       "      <th>2</th>\n",
       "      <td>20/02/2021 13:46:01</td>\n",
       "      <td>1</td>\n",
       "      <td>Facility, Good Environment</td>\n",
       "      <td>Sanitization, Temperature Checking, Mask</td>\n",
       "      <td>Yes</td>\n",
       "      <td>1</td>\n",
       "      <td>1</td>\n",
       "      <td>Good Facility</td>\n",
       "      <td>Yes</td>\n",
       "      <td>Yes</td>\n",
       "      <td>Excellent</td>\n",
       "      <td>Very Good</td>\n",
       "      <td>May be</td>\n",
       "      <td>Satisfied</td>\n",
       "      <td>No</td>\n",
       "      <td>Very good</td>\n",
       "    </tr>\n",
       "    <tr>\n",
       "      <th>3</th>\n",
       "      <td>20/02/2021 13:46:08</td>\n",
       "      <td>1</td>\n",
       "      <td>Facility, Good Environment</td>\n",
       "      <td>Sanitization, Temperature Checking, Mask</td>\n",
       "      <td>Yes</td>\n",
       "      <td>1</td>\n",
       "      <td>1</td>\n",
       "      <td>Good Facility</td>\n",
       "      <td>Yes</td>\n",
       "      <td>Yes</td>\n",
       "      <td>Excellent</td>\n",
       "      <td>Very Good</td>\n",
       "      <td>May be</td>\n",
       "      <td>Satisfied</td>\n",
       "      <td>No</td>\n",
       "      <td>Very good</td>\n",
       "    </tr>\n",
       "    <tr>\n",
       "      <th>4</th>\n",
       "      <td>20/02/2021 13:57:17</td>\n",
       "      <td>0</td>\n",
       "      <td>Good Environment</td>\n",
       "      <td>Sanitization, Temperature Checking</td>\n",
       "      <td>No</td>\n",
       "      <td>1</td>\n",
       "      <td>1</td>\n",
       "      <td>Good Facility, Acessibility, Dinning Option, S...</td>\n",
       "      <td>Yes</td>\n",
       "      <td>Yes</td>\n",
       "      <td>Good</td>\n",
       "      <td>Generally Satisfactory</td>\n",
       "      <td>May be</td>\n",
       "      <td>Satisfied</td>\n",
       "      <td>Yes</td>\n",
       "      <td>Yes I will recommend this hotel</td>\n",
       "    </tr>\n",
       "  </tbody>\n",
       "</table>\n",
       "</div>"
      ],
      "text/plain": [
       "             Timestamp  Hotel Type  \\\n",
       "0  20/02/2021 13:13:48           1   \n",
       "1  20/02/2021 13:16:53           1   \n",
       "2  20/02/2021 13:46:01           1   \n",
       "3  20/02/2021 13:46:08           1   \n",
       "4  20/02/2021 13:57:17           0   \n",
       "\n",
       "                                             Hangout  \\\n",
       "0                                   Good Environment   \n",
       "1  Facility, Good Environment, Affordable, Food a...   \n",
       "2                         Facility, Good Environment   \n",
       "3                         Facility, Good Environment   \n",
       "4                                   Good Environment   \n",
       "\n",
       "                         COVID-19 Situation satisfied  Reason  Visit Types  \\\n",
       "0                              Sanitization       Yes       0            1   \n",
       "1  Sanitization, Temperature Checking, Mask       Yes       1            1   \n",
       "2  Sanitization, Temperature Checking, Mask       Yes       1            1   \n",
       "3  Sanitization, Temperature Checking, Mask       Yes       1            1   \n",
       "4        Sanitization, Temperature Checking        No       1            1   \n",
       "\n",
       "                                        Choose Hotel  \\\n",
       "0                                      Good Facility   \n",
       "1                                      Good Facility   \n",
       "2                                      Good Facility   \n",
       "3                                      Good Facility   \n",
       "4  Good Facility, Acessibility, Dinning Option, S...   \n",
       "\n",
       "  staff friendly and helpful eat at the hotel     Rating  \\\n",
       "0                        Yes              Yes  Excellent   \n",
       "1                        Yes              Yes       Good   \n",
       "2                        Yes              Yes  Excellent   \n",
       "3                        Yes              Yes  Excellent   \n",
       "4                        Yes              Yes       Good   \n",
       "\n",
       "     Food Hygiene rating. stay hotel again    Overall Suggestion  \\\n",
       "0               Excellent              Yes  Satisfied         No   \n",
       "1  Generally Satisfactory           May be  Satisfied        Yes   \n",
       "2               Very Good           May be  Satisfied         No   \n",
       "3               Very Good           May be  Satisfied         No   \n",
       "4  Generally Satisfactory           May be  Satisfied        Yes   \n",
       "\n",
       "                         Recommend  \n",
       "0                        Very Nice  \n",
       "1                            good   \n",
       "2                        Very good  \n",
       "3                        Very good  \n",
       "4  Yes I will recommend this hotel  "
      ]
     },
     "execution_count": 17,
     "metadata": {},
     "output_type": "execute_result"
    }
   ],
   "source": [
    "df.head()"
   ]
  },
  {
   "cell_type": "code",
   "execution_count": 18,
   "metadata": {},
   "outputs": [],
   "source": [
    "#df['Hangout'] = df['Hangout'].replace({'Facility':0,'Good Environment':1,'Affordable':2,'Food and Traditional Dish':3,'Facility, Good Environment, Affordable, Food and Traditional Dish':4,'Good Environment, Affordable, Food and Traditional Dish':5,'Facility, Good Environment, Food and Traditional Dish':6,'Facility, Good Environment, Affordable':7, 'Facility, Affordable':8,'Facility, Food and Traditional Dish':9,'Good Environment, Food and Traditional Dish':10,'Facility, Affordable, Food and Traditional Dish':11,'Facility, Good Environment':12,'Good Environment, Affordable':13,'Affordable, Food and Traditional Dish':14})"
   ]
  },
  {
   "cell_type": "code",
   "execution_count": 19,
   "metadata": {},
   "outputs": [
    {
     "data": {
      "text/plain": [
       "array(['Good Environment',\n",
       "       'Facility, Good Environment, Affordable, Food and Traditional Dish',\n",
       "       'Facility, Good Environment', 'Affordable',\n",
       "       'Good Environment, Affordable, Food and Traditional Dish',\n",
       "       'Good Environment, Affordable', 'Facility',\n",
       "       'Facility, Good Environment, Food and Traditional Dish',\n",
       "       'Affordable, Food and Traditional Dish',\n",
       "       'Food and Traditional Dish',\n",
       "       'Facility, Good Environment, Affordable', 'Facility, Affordable',\n",
       "       'Facility, Food and Traditional Dish',\n",
       "       'Good Environment, Food and Traditional Dish',\n",
       "       'Facility, Affordable, Food and Traditional Dish'], dtype=object)"
      ]
     },
     "execution_count": 19,
     "metadata": {},
     "output_type": "execute_result"
    }
   ],
   "source": [
    "h=df.Hangout.unique()\n",
    "h"
   ]
  },
  {
   "cell_type": "code",
   "execution_count": 20,
   "metadata": {},
   "outputs": [
    {
     "data": {
      "text/html": [
       "<div>\n",
       "<style scoped>\n",
       "    .dataframe tbody tr th:only-of-type {\n",
       "        vertical-align: middle;\n",
       "    }\n",
       "\n",
       "    .dataframe tbody tr th {\n",
       "        vertical-align: top;\n",
       "    }\n",
       "\n",
       "    .dataframe thead th {\n",
       "        text-align: right;\n",
       "    }\n",
       "</style>\n",
       "<table border=\"1\" class=\"dataframe\">\n",
       "  <thead>\n",
       "    <tr style=\"text-align: right;\">\n",
       "      <th></th>\n",
       "      <th>Timestamp</th>\n",
       "      <th>Hotel Type</th>\n",
       "      <th>Hangout</th>\n",
       "      <th>COVID-19 Situation</th>\n",
       "      <th>satisfied</th>\n",
       "      <th>Reason</th>\n",
       "      <th>Visit Types</th>\n",
       "      <th>Choose Hotel</th>\n",
       "      <th>staff friendly and helpful</th>\n",
       "      <th>eat at the hotel</th>\n",
       "      <th>Rating</th>\n",
       "      <th>Food Hygiene rating.</th>\n",
       "      <th>stay hotel again</th>\n",
       "      <th>Overall</th>\n",
       "      <th>Suggestion</th>\n",
       "      <th>Recommend</th>\n",
       "    </tr>\n",
       "  </thead>\n",
       "  <tbody>\n",
       "    <tr>\n",
       "      <th>0</th>\n",
       "      <td>20/02/2021 13:13:48</td>\n",
       "      <td>1</td>\n",
       "      <td>Good Environment</td>\n",
       "      <td>Sanitization</td>\n",
       "      <td>Yes</td>\n",
       "      <td>0</td>\n",
       "      <td>1</td>\n",
       "      <td>Good Facility</td>\n",
       "      <td>Yes</td>\n",
       "      <td>Yes</td>\n",
       "      <td>Excellent</td>\n",
       "      <td>Excellent</td>\n",
       "      <td>Yes</td>\n",
       "      <td>Satisfied</td>\n",
       "      <td>No</td>\n",
       "      <td>Very Nice</td>\n",
       "    </tr>\n",
       "    <tr>\n",
       "      <th>1</th>\n",
       "      <td>20/02/2021 13:16:53</td>\n",
       "      <td>1</td>\n",
       "      <td>Facility, Good Environment, Affordable, Food a...</td>\n",
       "      <td>Sanitization, Temperature Checking, Mask</td>\n",
       "      <td>Yes</td>\n",
       "      <td>1</td>\n",
       "      <td>1</td>\n",
       "      <td>Good Facility</td>\n",
       "      <td>Yes</td>\n",
       "      <td>Yes</td>\n",
       "      <td>Good</td>\n",
       "      <td>Generally Satisfactory</td>\n",
       "      <td>May be</td>\n",
       "      <td>Satisfied</td>\n",
       "      <td>Yes</td>\n",
       "      <td>good</td>\n",
       "    </tr>\n",
       "    <tr>\n",
       "      <th>2</th>\n",
       "      <td>20/02/2021 13:46:01</td>\n",
       "      <td>1</td>\n",
       "      <td>Facility, Good Environment</td>\n",
       "      <td>Sanitization, Temperature Checking, Mask</td>\n",
       "      <td>Yes</td>\n",
       "      <td>1</td>\n",
       "      <td>1</td>\n",
       "      <td>Good Facility</td>\n",
       "      <td>Yes</td>\n",
       "      <td>Yes</td>\n",
       "      <td>Excellent</td>\n",
       "      <td>Very Good</td>\n",
       "      <td>May be</td>\n",
       "      <td>Satisfied</td>\n",
       "      <td>No</td>\n",
       "      <td>Very good</td>\n",
       "    </tr>\n",
       "    <tr>\n",
       "      <th>3</th>\n",
       "      <td>20/02/2021 13:46:08</td>\n",
       "      <td>1</td>\n",
       "      <td>Facility, Good Environment</td>\n",
       "      <td>Sanitization, Temperature Checking, Mask</td>\n",
       "      <td>Yes</td>\n",
       "      <td>1</td>\n",
       "      <td>1</td>\n",
       "      <td>Good Facility</td>\n",
       "      <td>Yes</td>\n",
       "      <td>Yes</td>\n",
       "      <td>Excellent</td>\n",
       "      <td>Very Good</td>\n",
       "      <td>May be</td>\n",
       "      <td>Satisfied</td>\n",
       "      <td>No</td>\n",
       "      <td>Very good</td>\n",
       "    </tr>\n",
       "    <tr>\n",
       "      <th>4</th>\n",
       "      <td>20/02/2021 13:57:17</td>\n",
       "      <td>0</td>\n",
       "      <td>Good Environment</td>\n",
       "      <td>Sanitization, Temperature Checking</td>\n",
       "      <td>No</td>\n",
       "      <td>1</td>\n",
       "      <td>1</td>\n",
       "      <td>Good Facility, Acessibility, Dinning Option, S...</td>\n",
       "      <td>Yes</td>\n",
       "      <td>Yes</td>\n",
       "      <td>Good</td>\n",
       "      <td>Generally Satisfactory</td>\n",
       "      <td>May be</td>\n",
       "      <td>Satisfied</td>\n",
       "      <td>Yes</td>\n",
       "      <td>Yes I will recommend this hotel</td>\n",
       "    </tr>\n",
       "  </tbody>\n",
       "</table>\n",
       "</div>"
      ],
      "text/plain": [
       "             Timestamp  Hotel Type  \\\n",
       "0  20/02/2021 13:13:48           1   \n",
       "1  20/02/2021 13:16:53           1   \n",
       "2  20/02/2021 13:46:01           1   \n",
       "3  20/02/2021 13:46:08           1   \n",
       "4  20/02/2021 13:57:17           0   \n",
       "\n",
       "                                             Hangout  \\\n",
       "0                                   Good Environment   \n",
       "1  Facility, Good Environment, Affordable, Food a...   \n",
       "2                         Facility, Good Environment   \n",
       "3                         Facility, Good Environment   \n",
       "4                                   Good Environment   \n",
       "\n",
       "                         COVID-19 Situation satisfied  Reason  Visit Types  \\\n",
       "0                              Sanitization       Yes       0            1   \n",
       "1  Sanitization, Temperature Checking, Mask       Yes       1            1   \n",
       "2  Sanitization, Temperature Checking, Mask       Yes       1            1   \n",
       "3  Sanitization, Temperature Checking, Mask       Yes       1            1   \n",
       "4        Sanitization, Temperature Checking        No       1            1   \n",
       "\n",
       "                                        Choose Hotel  \\\n",
       "0                                      Good Facility   \n",
       "1                                      Good Facility   \n",
       "2                                      Good Facility   \n",
       "3                                      Good Facility   \n",
       "4  Good Facility, Acessibility, Dinning Option, S...   \n",
       "\n",
       "  staff friendly and helpful eat at the hotel     Rating  \\\n",
       "0                        Yes              Yes  Excellent   \n",
       "1                        Yes              Yes       Good   \n",
       "2                        Yes              Yes  Excellent   \n",
       "3                        Yes              Yes  Excellent   \n",
       "4                        Yes              Yes       Good   \n",
       "\n",
       "     Food Hygiene rating. stay hotel again    Overall Suggestion  \\\n",
       "0               Excellent              Yes  Satisfied         No   \n",
       "1  Generally Satisfactory           May be  Satisfied        Yes   \n",
       "2               Very Good           May be  Satisfied         No   \n",
       "3               Very Good           May be  Satisfied         No   \n",
       "4  Generally Satisfactory           May be  Satisfied        Yes   \n",
       "\n",
       "                         Recommend  \n",
       "0                        Very Nice  \n",
       "1                            good   \n",
       "2                        Very good  \n",
       "3                        Very good  \n",
       "4  Yes I will recommend this hotel  "
      ]
     },
     "execution_count": 20,
     "metadata": {},
     "output_type": "execute_result"
    }
   ],
   "source": [
    "df.head()"
   ]
  },
  {
   "cell_type": "code",
   "execution_count": 21,
   "metadata": {},
   "outputs": [
    {
     "data": {
      "text/html": [
       "<div>\n",
       "<style scoped>\n",
       "    .dataframe tbody tr th:only-of-type {\n",
       "        vertical-align: middle;\n",
       "    }\n",
       "\n",
       "    .dataframe tbody tr th {\n",
       "        vertical-align: top;\n",
       "    }\n",
       "\n",
       "    .dataframe thead th {\n",
       "        text-align: right;\n",
       "    }\n",
       "</style>\n",
       "<table border=\"1\" class=\"dataframe\">\n",
       "  <thead>\n",
       "    <tr style=\"text-align: right;\">\n",
       "      <th></th>\n",
       "      <th>Timestamp</th>\n",
       "      <th>Hotel Type</th>\n",
       "      <th>Hangout</th>\n",
       "      <th>COVID-19 Situation</th>\n",
       "      <th>satisfied</th>\n",
       "      <th>Reason</th>\n",
       "      <th>Visit Types</th>\n",
       "      <th>Choose Hotel</th>\n",
       "      <th>staff friendly and helpful</th>\n",
       "      <th>eat at the hotel</th>\n",
       "      <th>Rating</th>\n",
       "      <th>Food Hygiene rating.</th>\n",
       "      <th>stay hotel again</th>\n",
       "      <th>Overall</th>\n",
       "      <th>Suggestion</th>\n",
       "      <th>Recommend</th>\n",
       "    </tr>\n",
       "  </thead>\n",
       "  <tbody>\n",
       "    <tr>\n",
       "      <th>0</th>\n",
       "      <td>20/02/2021 13:13:48</td>\n",
       "      <td>1</td>\n",
       "      <td>Good Environment</td>\n",
       "      <td>Sanitization</td>\n",
       "      <td>Yes</td>\n",
       "      <td>0</td>\n",
       "      <td>1</td>\n",
       "      <td>Good Facility</td>\n",
       "      <td>Yes</td>\n",
       "      <td>Yes</td>\n",
       "      <td>Excellent</td>\n",
       "      <td>Excellent</td>\n",
       "      <td>Yes</td>\n",
       "      <td>Satisfied</td>\n",
       "      <td>No</td>\n",
       "      <td>Very Nice</td>\n",
       "    </tr>\n",
       "    <tr>\n",
       "      <th>1</th>\n",
       "      <td>20/02/2021 13:16:53</td>\n",
       "      <td>1</td>\n",
       "      <td>Facility, Good Environment, Affordable, Food a...</td>\n",
       "      <td>Sanitization, Temperature Checking, Mask</td>\n",
       "      <td>Yes</td>\n",
       "      <td>1</td>\n",
       "      <td>1</td>\n",
       "      <td>Good Facility</td>\n",
       "      <td>Yes</td>\n",
       "      <td>Yes</td>\n",
       "      <td>Good</td>\n",
       "      <td>Generally Satisfactory</td>\n",
       "      <td>May be</td>\n",
       "      <td>Satisfied</td>\n",
       "      <td>Yes</td>\n",
       "      <td>good</td>\n",
       "    </tr>\n",
       "    <tr>\n",
       "      <th>2</th>\n",
       "      <td>20/02/2021 13:46:01</td>\n",
       "      <td>1</td>\n",
       "      <td>Facility, Good Environment</td>\n",
       "      <td>Sanitization, Temperature Checking, Mask</td>\n",
       "      <td>Yes</td>\n",
       "      <td>1</td>\n",
       "      <td>1</td>\n",
       "      <td>Good Facility</td>\n",
       "      <td>Yes</td>\n",
       "      <td>Yes</td>\n",
       "      <td>Excellent</td>\n",
       "      <td>Very Good</td>\n",
       "      <td>May be</td>\n",
       "      <td>Satisfied</td>\n",
       "      <td>No</td>\n",
       "      <td>Very good</td>\n",
       "    </tr>\n",
       "    <tr>\n",
       "      <th>3</th>\n",
       "      <td>20/02/2021 13:46:08</td>\n",
       "      <td>1</td>\n",
       "      <td>Facility, Good Environment</td>\n",
       "      <td>Sanitization, Temperature Checking, Mask</td>\n",
       "      <td>Yes</td>\n",
       "      <td>1</td>\n",
       "      <td>1</td>\n",
       "      <td>Good Facility</td>\n",
       "      <td>Yes</td>\n",
       "      <td>Yes</td>\n",
       "      <td>Excellent</td>\n",
       "      <td>Very Good</td>\n",
       "      <td>May be</td>\n",
       "      <td>Satisfied</td>\n",
       "      <td>No</td>\n",
       "      <td>Very good</td>\n",
       "    </tr>\n",
       "    <tr>\n",
       "      <th>4</th>\n",
       "      <td>20/02/2021 13:57:17</td>\n",
       "      <td>0</td>\n",
       "      <td>Good Environment</td>\n",
       "      <td>Sanitization, Temperature Checking</td>\n",
       "      <td>No</td>\n",
       "      <td>1</td>\n",
       "      <td>1</td>\n",
       "      <td>Good Facility, Acessibility, Dinning Option, S...</td>\n",
       "      <td>Yes</td>\n",
       "      <td>Yes</td>\n",
       "      <td>Good</td>\n",
       "      <td>Generally Satisfactory</td>\n",
       "      <td>May be</td>\n",
       "      <td>Satisfied</td>\n",
       "      <td>Yes</td>\n",
       "      <td>Yes I will recommend this hotel</td>\n",
       "    </tr>\n",
       "    <tr>\n",
       "      <th>...</th>\n",
       "      <td>...</td>\n",
       "      <td>...</td>\n",
       "      <td>...</td>\n",
       "      <td>...</td>\n",
       "      <td>...</td>\n",
       "      <td>...</td>\n",
       "      <td>...</td>\n",
       "      <td>...</td>\n",
       "      <td>...</td>\n",
       "      <td>...</td>\n",
       "      <td>...</td>\n",
       "      <td>...</td>\n",
       "      <td>...</td>\n",
       "      <td>...</td>\n",
       "      <td>...</td>\n",
       "      <td>...</td>\n",
       "    </tr>\n",
       "    <tr>\n",
       "      <th>196</th>\n",
       "      <td>22/04/2021 19:41:57</td>\n",
       "      <td>0</td>\n",
       "      <td>Affordable</td>\n",
       "      <td>Sanitization</td>\n",
       "      <td>Yes</td>\n",
       "      <td>1</td>\n",
       "      <td>0</td>\n",
       "      <td>Hotel Loyalty</td>\n",
       "      <td>Yes</td>\n",
       "      <td>Yes</td>\n",
       "      <td>Good</td>\n",
       "      <td>Very Good</td>\n",
       "      <td>Yes</td>\n",
       "      <td>Satisfied</td>\n",
       "      <td>Yes</td>\n",
       "      <td>8/10</td>\n",
       "    </tr>\n",
       "    <tr>\n",
       "      <th>197</th>\n",
       "      <td>22/04/2021 19:42:25</td>\n",
       "      <td>1</td>\n",
       "      <td>Affordable</td>\n",
       "      <td>Temperature Checking</td>\n",
       "      <td>Yes</td>\n",
       "      <td>2</td>\n",
       "      <td>1</td>\n",
       "      <td>Hotel Loyalty</td>\n",
       "      <td>Yes</td>\n",
       "      <td>Yes</td>\n",
       "      <td>Very Good</td>\n",
       "      <td>Very Good</td>\n",
       "      <td>Yes</td>\n",
       "      <td>Satisfied</td>\n",
       "      <td>Yes</td>\n",
       "      <td>8/10</td>\n",
       "    </tr>\n",
       "    <tr>\n",
       "      <th>198</th>\n",
       "      <td>22/04/2021 19:44:23</td>\n",
       "      <td>0</td>\n",
       "      <td>Affordable</td>\n",
       "      <td>Temperature Checking</td>\n",
       "      <td>Yes</td>\n",
       "      <td>2</td>\n",
       "      <td>0</td>\n",
       "      <td>Good Facility</td>\n",
       "      <td>Yes</td>\n",
       "      <td>Yes</td>\n",
       "      <td>Very Good</td>\n",
       "      <td>Very Good</td>\n",
       "      <td>Yes</td>\n",
       "      <td>Satisfied</td>\n",
       "      <td>Yes</td>\n",
       "      <td>7/10</td>\n",
       "    </tr>\n",
       "    <tr>\n",
       "      <th>199</th>\n",
       "      <td>22/04/2021 19:44:46</td>\n",
       "      <td>1</td>\n",
       "      <td>Good Environment</td>\n",
       "      <td>Temperature Checking</td>\n",
       "      <td>Yes</td>\n",
       "      <td>2</td>\n",
       "      <td>0</td>\n",
       "      <td>Acessibility</td>\n",
       "      <td>Yes</td>\n",
       "      <td>Yes</td>\n",
       "      <td>Very Good</td>\n",
       "      <td>Very Good</td>\n",
       "      <td>Yes</td>\n",
       "      <td>Satisfied</td>\n",
       "      <td>Yes</td>\n",
       "      <td>8/10</td>\n",
       "    </tr>\n",
       "    <tr>\n",
       "      <th>200</th>\n",
       "      <td>22/04/2021 19:45:10</td>\n",
       "      <td>1</td>\n",
       "      <td>Affordable</td>\n",
       "      <td>Temperature Checking</td>\n",
       "      <td>Yes</td>\n",
       "      <td>1</td>\n",
       "      <td>1</td>\n",
       "      <td>Good Facility</td>\n",
       "      <td>Yes</td>\n",
       "      <td>Yes</td>\n",
       "      <td>Excellent</td>\n",
       "      <td>Excellent</td>\n",
       "      <td>Yes</td>\n",
       "      <td>Satisfied</td>\n",
       "      <td>Yes</td>\n",
       "      <td>10/10</td>\n",
       "    </tr>\n",
       "  </tbody>\n",
       "</table>\n",
       "<p>201 rows × 16 columns</p>\n",
       "</div>"
      ],
      "text/plain": [
       "               Timestamp  Hotel Type  \\\n",
       "0    20/02/2021 13:13:48           1   \n",
       "1    20/02/2021 13:16:53           1   \n",
       "2    20/02/2021 13:46:01           1   \n",
       "3    20/02/2021 13:46:08           1   \n",
       "4    20/02/2021 13:57:17           0   \n",
       "..                   ...         ...   \n",
       "196  22/04/2021 19:41:57           0   \n",
       "197  22/04/2021 19:42:25           1   \n",
       "198  22/04/2021 19:44:23           0   \n",
       "199  22/04/2021 19:44:46           1   \n",
       "200  22/04/2021 19:45:10           1   \n",
       "\n",
       "                                               Hangout  \\\n",
       "0                                     Good Environment   \n",
       "1    Facility, Good Environment, Affordable, Food a...   \n",
       "2                           Facility, Good Environment   \n",
       "3                           Facility, Good Environment   \n",
       "4                                     Good Environment   \n",
       "..                                                 ...   \n",
       "196                                         Affordable   \n",
       "197                                         Affordable   \n",
       "198                                         Affordable   \n",
       "199                                   Good Environment   \n",
       "200                                         Affordable   \n",
       "\n",
       "                           COVID-19 Situation satisfied  Reason  Visit Types  \\\n",
       "0                                Sanitization       Yes       0            1   \n",
       "1    Sanitization, Temperature Checking, Mask       Yes       1            1   \n",
       "2    Sanitization, Temperature Checking, Mask       Yes       1            1   \n",
       "3    Sanitization, Temperature Checking, Mask       Yes       1            1   \n",
       "4          Sanitization, Temperature Checking        No       1            1   \n",
       "..                                        ...       ...     ...          ...   \n",
       "196                              Sanitization       Yes       1            0   \n",
       "197                      Temperature Checking       Yes       2            1   \n",
       "198                      Temperature Checking       Yes       2            0   \n",
       "199                      Temperature Checking       Yes       2            0   \n",
       "200                      Temperature Checking       Yes       1            1   \n",
       "\n",
       "                                          Choose Hotel  \\\n",
       "0                                        Good Facility   \n",
       "1                                        Good Facility   \n",
       "2                                        Good Facility   \n",
       "3                                        Good Facility   \n",
       "4    Good Facility, Acessibility, Dinning Option, S...   \n",
       "..                                                 ...   \n",
       "196                                      Hotel Loyalty   \n",
       "197                                      Hotel Loyalty   \n",
       "198                                      Good Facility   \n",
       "199                                       Acessibility   \n",
       "200                                      Good Facility   \n",
       "\n",
       "    staff friendly and helpful eat at the hotel     Rating  \\\n",
       "0                          Yes              Yes  Excellent   \n",
       "1                          Yes              Yes       Good   \n",
       "2                          Yes              Yes  Excellent   \n",
       "3                          Yes              Yes  Excellent   \n",
       "4                          Yes              Yes       Good   \n",
       "..                         ...              ...        ...   \n",
       "196                        Yes              Yes       Good   \n",
       "197                        Yes              Yes  Very Good   \n",
       "198                        Yes              Yes  Very Good   \n",
       "199                        Yes              Yes  Very Good   \n",
       "200                        Yes              Yes  Excellent   \n",
       "\n",
       "       Food Hygiene rating. stay hotel again    Overall Suggestion  \\\n",
       "0                 Excellent              Yes  Satisfied         No   \n",
       "1    Generally Satisfactory           May be  Satisfied        Yes   \n",
       "2                 Very Good           May be  Satisfied         No   \n",
       "3                 Very Good           May be  Satisfied         No   \n",
       "4    Generally Satisfactory           May be  Satisfied        Yes   \n",
       "..                      ...              ...        ...        ...   \n",
       "196               Very Good              Yes  Satisfied        Yes   \n",
       "197               Very Good              Yes  Satisfied        Yes   \n",
       "198               Very Good              Yes  Satisfied        Yes   \n",
       "199               Very Good              Yes  Satisfied        Yes   \n",
       "200               Excellent              Yes  Satisfied        Yes   \n",
       "\n",
       "                           Recommend  \n",
       "0                          Very Nice  \n",
       "1                              good   \n",
       "2                          Very good  \n",
       "3                          Very good  \n",
       "4    Yes I will recommend this hotel  \n",
       "..                               ...  \n",
       "196                             8/10  \n",
       "197                             8/10  \n",
       "198                             7/10  \n",
       "199                             8/10  \n",
       "200                            10/10  \n",
       "\n",
       "[201 rows x 16 columns]"
      ]
     },
     "execution_count": 21,
     "metadata": {},
     "output_type": "execute_result"
    }
   ],
   "source": [
    "df.rename(columns={'What do you like to prefer more?':'Hotel Type', })"
   ]
  },
  {
   "cell_type": "code",
   "execution_count": 22,
   "metadata": {},
   "outputs": [
    {
     "data": {
      "text/plain": [
       "0"
      ]
     },
     "execution_count": 22,
     "metadata": {},
     "output_type": "execute_result"
    }
   ],
   "source": [
    "df.duplicated().sum()"
   ]
  },
  {
   "cell_type": "code",
   "execution_count": 23,
   "metadata": {},
   "outputs": [
    {
     "data": {
      "text/html": [
       "<div>\n",
       "<style scoped>\n",
       "    .dataframe tbody tr th:only-of-type {\n",
       "        vertical-align: middle;\n",
       "    }\n",
       "\n",
       "    .dataframe tbody tr th {\n",
       "        vertical-align: top;\n",
       "    }\n",
       "\n",
       "    .dataframe thead th {\n",
       "        text-align: right;\n",
       "    }\n",
       "</style>\n",
       "<table border=\"1\" class=\"dataframe\">\n",
       "  <thead>\n",
       "    <tr style=\"text-align: right;\">\n",
       "      <th></th>\n",
       "      <th>Timestamp</th>\n",
       "      <th>Hotel Type</th>\n",
       "      <th>Hangout</th>\n",
       "      <th>COVID-19 Situation</th>\n",
       "      <th>satisfied</th>\n",
       "      <th>Reason</th>\n",
       "      <th>Visit Types</th>\n",
       "      <th>Choose Hotel</th>\n",
       "      <th>staff friendly and helpful</th>\n",
       "      <th>eat at the hotel</th>\n",
       "      <th>Rating</th>\n",
       "      <th>Food Hygiene rating.</th>\n",
       "      <th>stay hotel again</th>\n",
       "      <th>Overall</th>\n",
       "      <th>Suggestion</th>\n",
       "      <th>Recommend</th>\n",
       "    </tr>\n",
       "  </thead>\n",
       "  <tbody>\n",
       "  </tbody>\n",
       "</table>\n",
       "</div>"
      ],
      "text/plain": [
       "Empty DataFrame\n",
       "Columns: [Timestamp, Hotel Type, Hangout, COVID-19 Situation, satisfied, Reason, Visit Types, Choose Hotel, staff friendly and helpful, eat at the hotel, Rating, Food Hygiene rating., stay hotel again, Overall, Suggestion, Recommend]\n",
       "Index: []"
      ]
     },
     "execution_count": 23,
     "metadata": {},
     "output_type": "execute_result"
    }
   ],
   "source": [
    "duplicate = df[df.duplicated()]\n",
    "duplicate"
   ]
  },
  {
   "cell_type": "code",
   "execution_count": 24,
   "metadata": {},
   "outputs": [],
   "source": [
    "df_New=pd.DataFrame.drop_duplicates(df)"
   ]
  },
  {
   "cell_type": "code",
   "execution_count": 25,
   "metadata": {},
   "outputs": [
    {
     "data": {
      "text/plain": [
       "0"
      ]
     },
     "execution_count": 25,
     "metadata": {},
     "output_type": "execute_result"
    }
   ],
   "source": [
    "df_New.duplicated().sum()"
   ]
  },
  {
   "cell_type": "code",
   "execution_count": 26,
   "metadata": {},
   "outputs": [
    {
     "data": {
      "text/plain": [
       "Timestamp                     0\n",
       "Hotel Type                    0\n",
       "Hangout                       0\n",
       "COVID-19 Situation            0\n",
       "satisfied                     0\n",
       "Reason                        0\n",
       "Visit Types                   0\n",
       "Choose Hotel                  0\n",
       "staff friendly and helpful    0\n",
       "eat at the hotel              0\n",
       "Rating                        0\n",
       "Food Hygiene rating.          0\n",
       "stay hotel again              0\n",
       "Overall                       0\n",
       "Suggestion                    0\n",
       "Recommend                     0\n",
       "dtype: int64"
      ]
     },
     "execution_count": 26,
     "metadata": {},
     "output_type": "execute_result"
    }
   ],
   "source": [
    "df.isnull().sum()"
   ]
  },
  {
   "cell_type": "code",
   "execution_count": 27,
   "metadata": {},
   "outputs": [
    {
     "name": "stdout",
     "output_type": "stream",
     "text": [
      "<class 'pandas.core.frame.DataFrame'>\n",
      "RangeIndex: 201 entries, 0 to 200\n",
      "Data columns (total 16 columns):\n",
      " #   Column                      Non-Null Count  Dtype \n",
      "---  ------                      --------------  ----- \n",
      " 0   Timestamp                   201 non-null    object\n",
      " 1   Hotel Type                  201 non-null    int64 \n",
      " 2   Hangout                     201 non-null    object\n",
      " 3   COVID-19 Situation          201 non-null    object\n",
      " 4   satisfied                   201 non-null    object\n",
      " 5   Reason                      201 non-null    int64 \n",
      " 6   Visit Types                 201 non-null    int64 \n",
      " 7   Choose Hotel                201 non-null    object\n",
      " 8   staff friendly and helpful  201 non-null    object\n",
      " 9   eat at the hotel            201 non-null    object\n",
      " 10  Rating                      201 non-null    object\n",
      " 11  Food Hygiene rating.        201 non-null    object\n",
      " 12  stay hotel again            201 non-null    object\n",
      " 13  Overall                     201 non-null    object\n",
      " 14  Suggestion                  201 non-null    object\n",
      " 15  Recommend                   201 non-null    object\n",
      "dtypes: int64(3), object(13)\n",
      "memory usage: 25.2+ KB\n"
     ]
    }
   ],
   "source": [
    "df.info()"
   ]
  },
  {
   "cell_type": "code",
   "execution_count": 28,
   "metadata": {},
   "outputs": [
    {
     "data": {
      "text/html": [
       "<div>\n",
       "<style scoped>\n",
       "    .dataframe tbody tr th:only-of-type {\n",
       "        vertical-align: middle;\n",
       "    }\n",
       "\n",
       "    .dataframe tbody tr th {\n",
       "        vertical-align: top;\n",
       "    }\n",
       "\n",
       "    .dataframe thead th {\n",
       "        text-align: right;\n",
       "    }\n",
       "</style>\n",
       "<table border=\"1\" class=\"dataframe\">\n",
       "  <thead>\n",
       "    <tr style=\"text-align: right;\">\n",
       "      <th></th>\n",
       "      <th>Missing</th>\n",
       "    </tr>\n",
       "  </thead>\n",
       "  <tbody>\n",
       "    <tr>\n",
       "      <th>Timestamp</th>\n",
       "      <td>0.0</td>\n",
       "    </tr>\n",
       "    <tr>\n",
       "      <th>Hotel Type</th>\n",
       "      <td>0.0</td>\n",
       "    </tr>\n",
       "    <tr>\n",
       "      <th>Hangout</th>\n",
       "      <td>0.0</td>\n",
       "    </tr>\n",
       "    <tr>\n",
       "      <th>COVID-19 Situation</th>\n",
       "      <td>0.0</td>\n",
       "    </tr>\n",
       "    <tr>\n",
       "      <th>satisfied</th>\n",
       "      <td>0.0</td>\n",
       "    </tr>\n",
       "    <tr>\n",
       "      <th>Reason</th>\n",
       "      <td>0.0</td>\n",
       "    </tr>\n",
       "    <tr>\n",
       "      <th>Visit Types</th>\n",
       "      <td>0.0</td>\n",
       "    </tr>\n",
       "    <tr>\n",
       "      <th>Choose Hotel</th>\n",
       "      <td>0.0</td>\n",
       "    </tr>\n",
       "    <tr>\n",
       "      <th>staff friendly and helpful</th>\n",
       "      <td>0.0</td>\n",
       "    </tr>\n",
       "    <tr>\n",
       "      <th>eat at the hotel</th>\n",
       "      <td>0.0</td>\n",
       "    </tr>\n",
       "    <tr>\n",
       "      <th>Rating</th>\n",
       "      <td>0.0</td>\n",
       "    </tr>\n",
       "    <tr>\n",
       "      <th>Food Hygiene rating.</th>\n",
       "      <td>0.0</td>\n",
       "    </tr>\n",
       "    <tr>\n",
       "      <th>stay hotel again</th>\n",
       "      <td>0.0</td>\n",
       "    </tr>\n",
       "    <tr>\n",
       "      <th>Overall</th>\n",
       "      <td>0.0</td>\n",
       "    </tr>\n",
       "    <tr>\n",
       "      <th>Suggestion</th>\n",
       "      <td>0.0</td>\n",
       "    </tr>\n",
       "    <tr>\n",
       "      <th>Recommend</th>\n",
       "      <td>0.0</td>\n",
       "    </tr>\n",
       "  </tbody>\n",
       "</table>\n",
       "</div>"
      ],
      "text/plain": [
       "                            Missing\n",
       "Timestamp                       0.0\n",
       "Hotel Type                      0.0\n",
       "Hangout                         0.0\n",
       "COVID-19 Situation              0.0\n",
       "satisfied                       0.0\n",
       "Reason                          0.0\n",
       "Visit Types                     0.0\n",
       "Choose Hotel                    0.0\n",
       "staff friendly and helpful      0.0\n",
       "eat at the hotel                0.0\n",
       "Rating                          0.0\n",
       "Food Hygiene rating.            0.0\n",
       "stay hotel again                0.0\n",
       "Overall                         0.0\n",
       "Suggestion                      0.0\n",
       "Recommend                       0.0"
      ]
     },
     "execution_count": 28,
     "metadata": {},
     "output_type": "execute_result"
    }
   ],
   "source": [
    "pd.DataFrame(round(df.isnull().sum()/df.shape[0]*100,3),columns=[\"Missing\"])"
   ]
  },
  {
   "cell_type": "code",
   "execution_count": 29,
   "metadata": {},
   "outputs": [
    {
     "data": {
      "text/html": [
       "<div>\n",
       "<style scoped>\n",
       "    .dataframe tbody tr th:only-of-type {\n",
       "        vertical-align: middle;\n",
       "    }\n",
       "\n",
       "    .dataframe tbody tr th {\n",
       "        vertical-align: top;\n",
       "    }\n",
       "\n",
       "    .dataframe thead th {\n",
       "        text-align: right;\n",
       "    }\n",
       "</style>\n",
       "<table border=\"1\" class=\"dataframe\">\n",
       "  <thead>\n",
       "    <tr style=\"text-align: right;\">\n",
       "      <th></th>\n",
       "      <th>Timestamp</th>\n",
       "      <th>Hotel Type</th>\n",
       "      <th>Hangout</th>\n",
       "      <th>COVID-19 Situation</th>\n",
       "      <th>satisfied</th>\n",
       "      <th>Reason</th>\n",
       "      <th>Visit Types</th>\n",
       "      <th>Choose Hotel</th>\n",
       "      <th>staff friendly and helpful</th>\n",
       "      <th>eat at the hotel</th>\n",
       "      <th>Rating</th>\n",
       "      <th>Food Hygiene rating.</th>\n",
       "      <th>stay hotel again</th>\n",
       "      <th>Overall</th>\n",
       "      <th>Suggestion</th>\n",
       "      <th>Recommend</th>\n",
       "    </tr>\n",
       "  </thead>\n",
       "  <tbody>\n",
       "    <tr>\n",
       "      <th>0</th>\n",
       "      <td>20/02/2021 13:13:48</td>\n",
       "      <td>1</td>\n",
       "      <td>Good Environment</td>\n",
       "      <td>Sanitization</td>\n",
       "      <td>Yes</td>\n",
       "      <td>0</td>\n",
       "      <td>1</td>\n",
       "      <td>Good Facility</td>\n",
       "      <td>Yes</td>\n",
       "      <td>Yes</td>\n",
       "      <td>Excellent</td>\n",
       "      <td>Excellent</td>\n",
       "      <td>Yes</td>\n",
       "      <td>Satisfied</td>\n",
       "      <td>No</td>\n",
       "      <td>Very Nice</td>\n",
       "    </tr>\n",
       "    <tr>\n",
       "      <th>1</th>\n",
       "      <td>20/02/2021 13:16:53</td>\n",
       "      <td>1</td>\n",
       "      <td>Facility, Good Environment, Affordable, Food a...</td>\n",
       "      <td>Sanitization, Temperature Checking, Mask</td>\n",
       "      <td>Yes</td>\n",
       "      <td>1</td>\n",
       "      <td>1</td>\n",
       "      <td>Good Facility</td>\n",
       "      <td>Yes</td>\n",
       "      <td>Yes</td>\n",
       "      <td>Good</td>\n",
       "      <td>Generally Satisfactory</td>\n",
       "      <td>May be</td>\n",
       "      <td>Satisfied</td>\n",
       "      <td>Yes</td>\n",
       "      <td>good</td>\n",
       "    </tr>\n",
       "    <tr>\n",
       "      <th>2</th>\n",
       "      <td>20/02/2021 13:46:01</td>\n",
       "      <td>1</td>\n",
       "      <td>Facility, Good Environment</td>\n",
       "      <td>Sanitization, Temperature Checking, Mask</td>\n",
       "      <td>Yes</td>\n",
       "      <td>1</td>\n",
       "      <td>1</td>\n",
       "      <td>Good Facility</td>\n",
       "      <td>Yes</td>\n",
       "      <td>Yes</td>\n",
       "      <td>Excellent</td>\n",
       "      <td>Very Good</td>\n",
       "      <td>May be</td>\n",
       "      <td>Satisfied</td>\n",
       "      <td>No</td>\n",
       "      <td>Very good</td>\n",
       "    </tr>\n",
       "    <tr>\n",
       "      <th>3</th>\n",
       "      <td>20/02/2021 13:46:08</td>\n",
       "      <td>1</td>\n",
       "      <td>Facility, Good Environment</td>\n",
       "      <td>Sanitization, Temperature Checking, Mask</td>\n",
       "      <td>Yes</td>\n",
       "      <td>1</td>\n",
       "      <td>1</td>\n",
       "      <td>Good Facility</td>\n",
       "      <td>Yes</td>\n",
       "      <td>Yes</td>\n",
       "      <td>Excellent</td>\n",
       "      <td>Very Good</td>\n",
       "      <td>May be</td>\n",
       "      <td>Satisfied</td>\n",
       "      <td>No</td>\n",
       "      <td>Very good</td>\n",
       "    </tr>\n",
       "    <tr>\n",
       "      <th>4</th>\n",
       "      <td>20/02/2021 13:57:17</td>\n",
       "      <td>0</td>\n",
       "      <td>Good Environment</td>\n",
       "      <td>Sanitization, Temperature Checking</td>\n",
       "      <td>No</td>\n",
       "      <td>1</td>\n",
       "      <td>1</td>\n",
       "      <td>Good Facility, Acessibility, Dinning Option, S...</td>\n",
       "      <td>Yes</td>\n",
       "      <td>Yes</td>\n",
       "      <td>Good</td>\n",
       "      <td>Generally Satisfactory</td>\n",
       "      <td>May be</td>\n",
       "      <td>Satisfied</td>\n",
       "      <td>Yes</td>\n",
       "      <td>Yes I will recommend this hotel</td>\n",
       "    </tr>\n",
       "    <tr>\n",
       "      <th>...</th>\n",
       "      <td>...</td>\n",
       "      <td>...</td>\n",
       "      <td>...</td>\n",
       "      <td>...</td>\n",
       "      <td>...</td>\n",
       "      <td>...</td>\n",
       "      <td>...</td>\n",
       "      <td>...</td>\n",
       "      <td>...</td>\n",
       "      <td>...</td>\n",
       "      <td>...</td>\n",
       "      <td>...</td>\n",
       "      <td>...</td>\n",
       "      <td>...</td>\n",
       "      <td>...</td>\n",
       "      <td>...</td>\n",
       "    </tr>\n",
       "    <tr>\n",
       "      <th>196</th>\n",
       "      <td>22/04/2021 19:41:57</td>\n",
       "      <td>0</td>\n",
       "      <td>Affordable</td>\n",
       "      <td>Sanitization</td>\n",
       "      <td>Yes</td>\n",
       "      <td>1</td>\n",
       "      <td>0</td>\n",
       "      <td>Hotel Loyalty</td>\n",
       "      <td>Yes</td>\n",
       "      <td>Yes</td>\n",
       "      <td>Good</td>\n",
       "      <td>Very Good</td>\n",
       "      <td>Yes</td>\n",
       "      <td>Satisfied</td>\n",
       "      <td>Yes</td>\n",
       "      <td>8/10</td>\n",
       "    </tr>\n",
       "    <tr>\n",
       "      <th>197</th>\n",
       "      <td>22/04/2021 19:42:25</td>\n",
       "      <td>1</td>\n",
       "      <td>Affordable</td>\n",
       "      <td>Temperature Checking</td>\n",
       "      <td>Yes</td>\n",
       "      <td>2</td>\n",
       "      <td>1</td>\n",
       "      <td>Hotel Loyalty</td>\n",
       "      <td>Yes</td>\n",
       "      <td>Yes</td>\n",
       "      <td>Very Good</td>\n",
       "      <td>Very Good</td>\n",
       "      <td>Yes</td>\n",
       "      <td>Satisfied</td>\n",
       "      <td>Yes</td>\n",
       "      <td>8/10</td>\n",
       "    </tr>\n",
       "    <tr>\n",
       "      <th>198</th>\n",
       "      <td>22/04/2021 19:44:23</td>\n",
       "      <td>0</td>\n",
       "      <td>Affordable</td>\n",
       "      <td>Temperature Checking</td>\n",
       "      <td>Yes</td>\n",
       "      <td>2</td>\n",
       "      <td>0</td>\n",
       "      <td>Good Facility</td>\n",
       "      <td>Yes</td>\n",
       "      <td>Yes</td>\n",
       "      <td>Very Good</td>\n",
       "      <td>Very Good</td>\n",
       "      <td>Yes</td>\n",
       "      <td>Satisfied</td>\n",
       "      <td>Yes</td>\n",
       "      <td>7/10</td>\n",
       "    </tr>\n",
       "    <tr>\n",
       "      <th>199</th>\n",
       "      <td>22/04/2021 19:44:46</td>\n",
       "      <td>1</td>\n",
       "      <td>Good Environment</td>\n",
       "      <td>Temperature Checking</td>\n",
       "      <td>Yes</td>\n",
       "      <td>2</td>\n",
       "      <td>0</td>\n",
       "      <td>Acessibility</td>\n",
       "      <td>Yes</td>\n",
       "      <td>Yes</td>\n",
       "      <td>Very Good</td>\n",
       "      <td>Very Good</td>\n",
       "      <td>Yes</td>\n",
       "      <td>Satisfied</td>\n",
       "      <td>Yes</td>\n",
       "      <td>8/10</td>\n",
       "    </tr>\n",
       "    <tr>\n",
       "      <th>200</th>\n",
       "      <td>22/04/2021 19:45:10</td>\n",
       "      <td>1</td>\n",
       "      <td>Affordable</td>\n",
       "      <td>Temperature Checking</td>\n",
       "      <td>Yes</td>\n",
       "      <td>1</td>\n",
       "      <td>1</td>\n",
       "      <td>Good Facility</td>\n",
       "      <td>Yes</td>\n",
       "      <td>Yes</td>\n",
       "      <td>Excellent</td>\n",
       "      <td>Excellent</td>\n",
       "      <td>Yes</td>\n",
       "      <td>Satisfied</td>\n",
       "      <td>Yes</td>\n",
       "      <td>10/10</td>\n",
       "    </tr>\n",
       "  </tbody>\n",
       "</table>\n",
       "<p>201 rows × 16 columns</p>\n",
       "</div>"
      ],
      "text/plain": [
       "               Timestamp  Hotel Type  \\\n",
       "0    20/02/2021 13:13:48           1   \n",
       "1    20/02/2021 13:16:53           1   \n",
       "2    20/02/2021 13:46:01           1   \n",
       "3    20/02/2021 13:46:08           1   \n",
       "4    20/02/2021 13:57:17           0   \n",
       "..                   ...         ...   \n",
       "196  22/04/2021 19:41:57           0   \n",
       "197  22/04/2021 19:42:25           1   \n",
       "198  22/04/2021 19:44:23           0   \n",
       "199  22/04/2021 19:44:46           1   \n",
       "200  22/04/2021 19:45:10           1   \n",
       "\n",
       "                                               Hangout  \\\n",
       "0                                     Good Environment   \n",
       "1    Facility, Good Environment, Affordable, Food a...   \n",
       "2                           Facility, Good Environment   \n",
       "3                           Facility, Good Environment   \n",
       "4                                     Good Environment   \n",
       "..                                                 ...   \n",
       "196                                         Affordable   \n",
       "197                                         Affordable   \n",
       "198                                         Affordable   \n",
       "199                                   Good Environment   \n",
       "200                                         Affordable   \n",
       "\n",
       "                           COVID-19 Situation satisfied  Reason  Visit Types  \\\n",
       "0                                Sanitization       Yes       0            1   \n",
       "1    Sanitization, Temperature Checking, Mask       Yes       1            1   \n",
       "2    Sanitization, Temperature Checking, Mask       Yes       1            1   \n",
       "3    Sanitization, Temperature Checking, Mask       Yes       1            1   \n",
       "4          Sanitization, Temperature Checking        No       1            1   \n",
       "..                                        ...       ...     ...          ...   \n",
       "196                              Sanitization       Yes       1            0   \n",
       "197                      Temperature Checking       Yes       2            1   \n",
       "198                      Temperature Checking       Yes       2            0   \n",
       "199                      Temperature Checking       Yes       2            0   \n",
       "200                      Temperature Checking       Yes       1            1   \n",
       "\n",
       "                                          Choose Hotel  \\\n",
       "0                                        Good Facility   \n",
       "1                                        Good Facility   \n",
       "2                                        Good Facility   \n",
       "3                                        Good Facility   \n",
       "4    Good Facility, Acessibility, Dinning Option, S...   \n",
       "..                                                 ...   \n",
       "196                                      Hotel Loyalty   \n",
       "197                                      Hotel Loyalty   \n",
       "198                                      Good Facility   \n",
       "199                                       Acessibility   \n",
       "200                                      Good Facility   \n",
       "\n",
       "    staff friendly and helpful eat at the hotel     Rating  \\\n",
       "0                          Yes              Yes  Excellent   \n",
       "1                          Yes              Yes       Good   \n",
       "2                          Yes              Yes  Excellent   \n",
       "3                          Yes              Yes  Excellent   \n",
       "4                          Yes              Yes       Good   \n",
       "..                         ...              ...        ...   \n",
       "196                        Yes              Yes       Good   \n",
       "197                        Yes              Yes  Very Good   \n",
       "198                        Yes              Yes  Very Good   \n",
       "199                        Yes              Yes  Very Good   \n",
       "200                        Yes              Yes  Excellent   \n",
       "\n",
       "       Food Hygiene rating. stay hotel again    Overall Suggestion  \\\n",
       "0                 Excellent              Yes  Satisfied         No   \n",
       "1    Generally Satisfactory           May be  Satisfied        Yes   \n",
       "2                 Very Good           May be  Satisfied         No   \n",
       "3                 Very Good           May be  Satisfied         No   \n",
       "4    Generally Satisfactory           May be  Satisfied        Yes   \n",
       "..                      ...              ...        ...        ...   \n",
       "196               Very Good              Yes  Satisfied        Yes   \n",
       "197               Very Good              Yes  Satisfied        Yes   \n",
       "198               Very Good              Yes  Satisfied        Yes   \n",
       "199               Very Good              Yes  Satisfied        Yes   \n",
       "200               Excellent              Yes  Satisfied        Yes   \n",
       "\n",
       "                           Recommend  \n",
       "0                          Very Nice  \n",
       "1                              good   \n",
       "2                          Very good  \n",
       "3                          Very good  \n",
       "4    Yes I will recommend this hotel  \n",
       "..                               ...  \n",
       "196                             8/10  \n",
       "197                             8/10  \n",
       "198                             7/10  \n",
       "199                             8/10  \n",
       "200                            10/10  \n",
       "\n",
       "[201 rows x 16 columns]"
      ]
     },
     "execution_count": 29,
     "metadata": {},
     "output_type": "execute_result"
    }
   ],
   "source": [
    "df.drop(columns=\"Recommend\", inplace= True)\n",
    "df_New"
   ]
  },
  {
   "cell_type": "code",
   "execution_count": 30,
   "metadata": {},
   "outputs": [
    {
     "data": {
      "text/plain": [
       "count    201.000000\n",
       "mean       0.616915\n",
       "std        0.487352\n",
       "min        0.000000\n",
       "25%        0.000000\n",
       "50%        1.000000\n",
       "75%        1.000000\n",
       "max        1.000000\n",
       "Name: Hotel Type, dtype: float64"
      ]
     },
     "execution_count": 30,
     "metadata": {},
     "output_type": "execute_result"
    }
   ],
   "source": [
    "#df['What do you like to prefer more?'].describe()\n",
    "df['Hotel Type'].describe()"
   ]
  },
  {
   "cell_type": "code",
   "execution_count": 31,
   "metadata": {},
   "outputs": [
    {
     "data": {
      "text/plain": [
       "count                  201\n",
       "unique                  15\n",
       "top       Good Environment\n",
       "freq                    51\n",
       "Name: Hangout, dtype: object"
      ]
     },
     "execution_count": 31,
     "metadata": {},
     "output_type": "execute_result"
    }
   ],
   "source": [
    "#df['Why do you like to hangout in this hotel?'].describe()\n",
    "df['Hangout'].describe()"
   ]
  },
  {
   "cell_type": "code",
   "execution_count": 32,
   "metadata": {},
   "outputs": [
    {
     "data": {
      "text/plain": [
       "count                                                  201\n",
       "unique                                                  13\n",
       "top       Sanitization, Temperature Checking, Mask, Gloves\n",
       "freq                                                    46\n",
       "Name: COVID-19 Situation, dtype: object"
      ]
     },
     "execution_count": 32,
     "metadata": {},
     "output_type": "execute_result"
    }
   ],
   "source": [
    "#df['Which kind of facilities are given in COVID-19 situation?'].describe()\n",
    "df['COVID-19 Situation'].describe()"
   ]
  },
  {
   "cell_type": "code",
   "execution_count": 33,
   "metadata": {},
   "outputs": [
    {
     "data": {
      "text/plain": [
       "count     201\n",
       "unique      2\n",
       "top       Yes\n",
       "freq      192\n",
       "Name: satisfied, dtype: object"
      ]
     },
     "execution_count": 33,
     "metadata": {},
     "output_type": "execute_result"
    }
   ],
   "source": [
    "#df['Are you satisfied with the above facilities?'].describe()\n",
    "df['satisfied'].describe()"
   ]
  },
  {
   "cell_type": "code",
   "execution_count": 34,
   "metadata": {},
   "outputs": [
    {
     "data": {
      "text/plain": [
       "count    201.000000\n",
       "mean       1.412935\n",
       "std        1.184750\n",
       "min        0.000000\n",
       "25%        1.000000\n",
       "50%        1.000000\n",
       "75%        2.000000\n",
       "max        4.000000\n",
       "Name: Reason, dtype: float64"
      ]
     },
     "execution_count": 34,
     "metadata": {},
     "output_type": "execute_result"
    }
   ],
   "source": [
    "#df['What was the reason for your visit?'].describe()\n",
    "df['Reason'].describe()"
   ]
  },
  {
   "cell_type": "code",
   "execution_count": 35,
   "metadata": {},
   "outputs": [
    {
     "data": {
      "text/plain": [
       "count    201.000000\n",
       "mean       0.746269\n",
       "std        0.436232\n",
       "min        0.000000\n",
       "25%        0.000000\n",
       "50%        1.000000\n",
       "75%        1.000000\n",
       "max        1.000000\n",
       "Name: Visit Types, dtype: float64"
      ]
     },
     "execution_count": 35,
     "metadata": {},
     "output_type": "execute_result"
    }
   ],
   "source": [
    "#df['Were you alone or in a group?'].describe()\n",
    "df['Visit Types'].describe()"
   ]
  },
  {
   "cell_type": "code",
   "execution_count": 36,
   "metadata": {},
   "outputs": [
    {
     "data": {
      "text/plain": [
       "count               201\n",
       "unique               29\n",
       "top       Good Facility\n",
       "freq                 70\n",
       "Name: Choose Hotel, dtype: object"
      ]
     },
     "execution_count": 36,
     "metadata": {},
     "output_type": "execute_result"
    }
   ],
   "source": [
    "#df['Why  did you choose this hotel?'].describe()\n",
    "df['Choose Hotel'].describe()"
   ]
  },
  {
   "cell_type": "code",
   "execution_count": 37,
   "metadata": {},
   "outputs": [
    {
     "data": {
      "text/plain": [
       "count     201\n",
       "unique      2\n",
       "top       Yes\n",
       "freq      196\n",
       "Name: staff friendly and helpful, dtype: object"
      ]
     },
     "execution_count": 37,
     "metadata": {},
     "output_type": "execute_result"
    }
   ],
   "source": [
    "#df['Were the staff friendly and helpful?'].describe()\n",
    "df['staff friendly and helpful'].describe()"
   ]
  },
  {
   "cell_type": "code",
   "execution_count": 38,
   "metadata": {},
   "outputs": [
    {
     "data": {
      "text/plain": [
       "count     201\n",
       "unique      2\n",
       "top       Yes\n",
       "freq      181\n",
       "Name: eat at the hotel, dtype: object"
      ]
     },
     "execution_count": 38,
     "metadata": {},
     "output_type": "execute_result"
    }
   ],
   "source": [
    "#df['Did you eat at the hotel?'].describe()\n",
    "df['eat at the hotel'].describe()"
   ]
  },
  {
   "cell_type": "code",
   "execution_count": 39,
   "metadata": {},
   "outputs": [
    {
     "data": {
      "text/plain": [
       "count           201\n",
       "unique            4\n",
       "top       Very Good\n",
       "freq             87\n",
       "Name: Rating, dtype: object"
      ]
     },
     "execution_count": 39,
     "metadata": {},
     "output_type": "execute_result"
    }
   ],
   "source": [
    "#df['How would you rate the hotel?'].describe()\n",
    "df['Rating'].describe()"
   ]
  },
  {
   "cell_type": "code",
   "execution_count": 40,
   "metadata": {},
   "outputs": [
    {
     "data": {
      "text/plain": [
       "count           201\n",
       "unique            7\n",
       "top       Very Good\n",
       "freq             49\n",
       "Name: Food Hygiene rating., dtype: object"
      ]
     },
     "execution_count": 40,
     "metadata": {},
     "output_type": "execute_result"
    }
   ],
   "source": [
    "#df['Food Hygiene rating.'].describe()\n",
    "df['Food Hygiene rating.'].describe()"
   ]
  },
  {
   "cell_type": "code",
   "execution_count": 41,
   "metadata": {},
   "outputs": [
    {
     "data": {
      "text/plain": [
       "count     201\n",
       "unique      3\n",
       "top       Yes\n",
       "freq      114\n",
       "Name: stay hotel again, dtype: object"
      ]
     },
     "execution_count": 41,
     "metadata": {},
     "output_type": "execute_result"
    }
   ],
   "source": [
    "#df['How Likely are you to stay at this hotel again?'].describe()\n",
    "df['stay hotel again'].describe()"
   ]
  },
  {
   "cell_type": "code",
   "execution_count": 42,
   "metadata": {},
   "outputs": [
    {
     "data": {
      "text/plain": [
       "count           201\n",
       "unique            4\n",
       "top       Satisfied\n",
       "freq            166\n",
       "Name: Overall, dtype: object"
      ]
     },
     "execution_count": 42,
     "metadata": {},
     "output_type": "execute_result"
    }
   ],
   "source": [
    "#df['Overall were you satisfied ,dissatisfied , or neither? '].describe()\n",
    "df['Overall'].describe()"
   ]
  },
  {
   "cell_type": "code",
   "execution_count": 43,
   "metadata": {},
   "outputs": [
    {
     "data": {
      "text/plain": [
       "count     201\n",
       "unique      2\n",
       "top       Yes\n",
       "freq      131\n",
       "Name: Suggestion, dtype: object"
      ]
     },
     "execution_count": 43,
     "metadata": {},
     "output_type": "execute_result"
    }
   ],
   "source": [
    "#df['Would you like to suggest them to improve their service? '].describe()\n",
    "df['Suggestion'].describe()"
   ]
  },
  {
   "cell_type": "code",
   "execution_count": 44,
   "metadata": {},
   "outputs": [
    {
     "data": {
      "image/png": "[encoded data removed]",
      "text/plain": [
       "<Figure size 576x576 with 1 Axes>"
      ]
     },
     "metadata": {},
     "output_type": "display_data"
    }
   ],
   "source": [
    "df['Hotel Type'].value_counts().plot(kind='pie',autopct='%1.2f%%',figsize=(8,8))\n",
    "plt.title(\"What do you like to prefer more?\")\n",
    "plt.show()"
   ]
  },
  {
   "cell_type": "code",
   "execution_count": 45,
   "metadata": {},
   "outputs": [
    {
     "data": {
      "image/png": "[encoded data removed]",
      "text/plain": [
       "<Figure size 720x576 with 1 Axes>"
      ]
     },
     "metadata": {
      "needs_background": "light"
     },
     "output_type": "display_data"
    }
   ],
   "source": [
    "df['Hangout'].value_counts().plot(kind='barh',figsize=(10,8))\n",
    "plt.title(\"Why do you like to hangout in this hotel?\")\n",
    "plt.show()"
   ]
  },
  {
   "cell_type": "code",
   "execution_count": 46,
   "metadata": {},
   "outputs": [
    {
     "data": {
      "image/png": "[encoded data removed]",
      "text/plain": [
       "<Figure size 720x576 with 1 Axes>"
      ]
     },
     "metadata": {
      "needs_background": "light"
     },
     "output_type": "display_data"
    }
   ],
   "source": [
    "df['Reason'].value_counts().plot(kind='bar',figsize=(10,8))\n",
    "plt.title(\"Why do you like to hangout in this hotel?\")\n",
    "plt.show()"
   ]
  },
  {
   "cell_type": "code",
   "execution_count": 47,
   "metadata": {},
   "outputs": [
    {
     "data": {
      "image/png": "[encoded data removed]",
      "text/plain": [
       "<Figure size 720x576 with 1 Axes>"
      ]
     },
     "metadata": {
      "needs_background": "light"
     },
     "output_type": "display_data"
    }
   ],
   "source": [
    "df['COVID-19 Situation'].value_counts().plot(kind='barh',figsize=(10,8))\n",
    "plt.title(\"Which kind of facilities are given in COVID-19 situation?\")\n",
    "plt.show()"
   ]
  },
  {
   "cell_type": "code",
   "execution_count": 48,
   "metadata": {},
   "outputs": [
    {
     "data": {
      "image/png": "[encoded data removed]",
      "text/plain": [
       "<Figure size 1440x720 with 1 Axes>"
      ]
     },
     "metadata": {
      "needs_background": "light"
     },
     "output_type": "display_data"
    }
   ],
   "source": [
    "df['satisfied'].value_counts().plot(kind='bar',figsize=(20,10))\n",
    "plt.title(\"Are you satisfied with the above facilities?\")\n",
    "plt.axhline(0, color=\"k\");\n"
   ]
  },
  {
   "cell_type": "code",
   "execution_count": 49,
   "metadata": {},
   "outputs": [
    {
     "data": {
      "image/png": "[encoded data removed]",
      "text/plain": [
       "<Figure size 1440x720 with 1 Axes>"
      ]
     },
     "metadata": {
      "needs_background": "light"
     },
     "output_type": "display_data"
    }
   ],
   "source": [
    "df['Reason'].value_counts().plot(kind='bar',figsize=(20,10))\n",
    "plt.title(\"What was the reason for your visit?\")\n",
    "plt.show()"
   ]
  },
  {
   "cell_type": "code",
   "execution_count": 50,
   "metadata": {},
   "outputs": [
    {
     "data": {
      "image/png": "[encoded data removed]",
      "text/plain": [
       "<Figure size 1440x720 with 1 Axes>"
      ]
     },
     "metadata": {
      "needs_background": "light"
     },
     "output_type": "display_data"
    }
   ],
   "source": [
    "df['Visit Types'].value_counts().plot(kind='bar',figsize=(20,10))\n",
    "plt.title(\"Were you alone or in a group?\")\n",
    "plt.show()"
   ]
  },
  {
   "cell_type": "code",
   "execution_count": 51,
   "metadata": {},
   "outputs": [
    {
     "data": {
      "image/png": "[encoded data removed]",
      "text/plain": [
       "<Figure size 1440x720 with 1 Axes>"
      ]
     },
     "metadata": {
      "needs_background": "light"
     },
     "output_type": "display_data"
    }
   ],
   "source": [
    "df['Choose Hotel'].value_counts().plot(kind='bar',figsize=(20,10))\n",
    "plt.title(\"Why  did you choose this hotel?\")\n",
    "plt.show()"
   ]
  },
  {
   "cell_type": "code",
   "execution_count": 52,
   "metadata": {},
   "outputs": [
    {
     "data": {
      "image/png": "[encoded data removed]",
      "text/plain": [
       "<Figure size 1440x720 with 1 Axes>"
      ]
     },
     "metadata": {
      "needs_background": "light"
     },
     "output_type": "display_data"
    }
   ],
   "source": [
    "df['staff friendly and helpful'].value_counts().plot(kind='bar',figsize=(20,10))\n",
    "plt.title(\"Were the staff friendly and helpful?\")\n",
    "plt.show()"
   ]
  },
  {
   "cell_type": "code",
   "execution_count": 53,
   "metadata": {},
   "outputs": [
    {
     "data": {
      "image/png": "[encoded data removed]",
      "text/plain": [
       "<Figure size 1440x720 with 1 Axes>"
      ]
     },
     "metadata": {
      "needs_background": "light"
     },
     "output_type": "display_data"
    }
   ],
   "source": [
    "df['eat at the hotel'].value_counts().plot(kind='bar',figsize=(20,10))\n",
    "plt.title(\"Did you eat at the hotel?\")\n",
    "plt.show()"
   ]
  },
  {
   "cell_type": "code",
   "execution_count": 54,
   "metadata": {},
   "outputs": [
    {
     "data": {
      "image/png": "[encoded data removed]",
      "text/plain": [
       "<Figure size 1440x720 with 1 Axes>"
      ]
     },
     "metadata": {
      "needs_background": "light"
     },
     "output_type": "display_data"
    }
   ],
   "source": [
    "df['Food Hygiene rating.'].value_counts().plot(kind='bar',figsize=(20,10))\n",
    "plt.title(\"Food Hygiene rating.\")\n",
    "plt.show()"
   ]
  },
  {
   "cell_type": "code",
   "execution_count": 55,
   "metadata": {},
   "outputs": [
    {
     "data": {
      "image/png": "[encoded data removed]",
      "text/plain": [
       "<Figure size 1440x720 with 1 Axes>"
      ]
     },
     "metadata": {
      "needs_background": "light"
     },
     "output_type": "display_data"
    }
   ],
   "source": [
    "df['Rating'].value_counts().plot(kind='bar',figsize=(20,10))\n",
    "plt.title(\"How would you rate the hotel?\")\n",
    "plt.show()"
   ]
  },
  {
   "cell_type": "code",
   "execution_count": 56,
   "metadata": {},
   "outputs": [
    {
     "data": {
      "image/png": "[encoded data removed]",
      "text/plain": [
       "<Figure size 1440x720 with 1 Axes>"
      ]
     },
     "metadata": {
      "needs_background": "light"
     },
     "output_type": "display_data"
    }
   ],
   "source": [
    "df['stay hotel again'].value_counts().plot(kind='bar',figsize=(20,10))\n",
    "plt.title(\"How Likely are you to stay at this hotel again?\")\n",
    "plt.show()"
   ]
  },
  {
   "cell_type": "code",
   "execution_count": 57,
   "metadata": {},
   "outputs": [
    {
     "data": {
      "image/png": "[encoded data removed]",
      "text/plain": [
       "<Figure size 1440x720 with 1 Axes>"
      ]
     },
     "metadata": {
      "needs_background": "light"
     },
     "output_type": "display_data"
    }
   ],
   "source": [
    "df['Overall'].value_counts().plot(kind='bar',figsize=(20,10))\n",
    "plt.title('Overall were you satisfied ,dissatisfied , or neither? ')\n",
    "plt.show()"
   ]
  },
  {
   "cell_type": "code",
   "execution_count": 58,
   "metadata": {},
   "outputs": [
    {
     "data": {
      "image/png": "[encoded data removed]",
      "text/plain": [
       "<Figure size 1440x720 with 1 Axes>"
      ]
     },
     "metadata": {
      "needs_background": "light"
     },
     "output_type": "display_data"
    }
   ],
   "source": [
    "df['Suggestion'].value_counts().plot(kind='bar',figsize=(20,10))\n",
    "plt.title('Would you like to suggest them to improve their service? ')\n",
    "plt.show()"
   ]
  },
  {
   "cell_type": "code",
   "execution_count": 59,
   "metadata": {},
   "outputs": [],
   "source": [
    "from sklearn.model_selection import train_test_split\n",
    "x=df_New[['Visit Types','Reason']]\n",
    "#x=df_New[['Were you alone or in a group?','What was the reason for your visit?']]\n",
    "#y=['Hangout']\n",
    "#X_train,X_test,Y_train,Y_test = train_test_split(x,y,test_size=0.5)"
   ]
  },
  {
   "cell_type": "code",
   "execution_count": 60,
   "metadata": {},
   "outputs": [],
   "source": [
    "y=df_New['satisfied']"
   ]
  },
  {
   "cell_type": "code",
   "execution_count": 61,
   "metadata": {},
   "outputs": [],
   "source": [
    "X_train,X_test,Y_train,Y_test=train_test_split(x,y,test_size=0.3)"
   ]
  },
  {
   "cell_type": "code",
   "execution_count": 62,
   "metadata": {},
   "outputs": [
    {
     "data": {
      "text/plain": [
       "140"
      ]
     },
     "execution_count": 62,
     "metadata": {},
     "output_type": "execute_result"
    }
   ],
   "source": [
    "len(X_train)"
   ]
  },
  {
   "cell_type": "code",
   "execution_count": 63,
   "metadata": {},
   "outputs": [
    {
     "data": {
      "text/plain": [
       "61"
      ]
     },
     "execution_count": 63,
     "metadata": {},
     "output_type": "execute_result"
    }
   ],
   "source": [
    "len(X_test)"
   ]
  },
  {
   "cell_type": "code",
   "execution_count": 64,
   "metadata": {},
   "outputs": [
    {
     "data": {
      "text/html": [
       "<div>\n",
       "<style scoped>\n",
       "    .dataframe tbody tr th:only-of-type {\n",
       "        vertical-align: middle;\n",
       "    }\n",
       "\n",
       "    .dataframe tbody tr th {\n",
       "        vertical-align: top;\n",
       "    }\n",
       "\n",
       "    .dataframe thead th {\n",
       "        text-align: right;\n",
       "    }\n",
       "</style>\n",
       "<table border=\"1\" class=\"dataframe\">\n",
       "  <thead>\n",
       "    <tr style=\"text-align: right;\">\n",
       "      <th></th>\n",
       "      <th>Visit Types</th>\n",
       "      <th>Reason</th>\n",
       "    </tr>\n",
       "  </thead>\n",
       "  <tbody>\n",
       "    <tr>\n",
       "      <th>190</th>\n",
       "      <td>0</td>\n",
       "      <td>1</td>\n",
       "    </tr>\n",
       "    <tr>\n",
       "      <th>68</th>\n",
       "      <td>0</td>\n",
       "      <td>1</td>\n",
       "    </tr>\n",
       "    <tr>\n",
       "      <th>36</th>\n",
       "      <td>0</td>\n",
       "      <td>4</td>\n",
       "    </tr>\n",
       "    <tr>\n",
       "      <th>108</th>\n",
       "      <td>1</td>\n",
       "      <td>1</td>\n",
       "    </tr>\n",
       "    <tr>\n",
       "      <th>33</th>\n",
       "      <td>1</td>\n",
       "      <td>1</td>\n",
       "    </tr>\n",
       "    <tr>\n",
       "      <th>...</th>\n",
       "      <td>...</td>\n",
       "      <td>...</td>\n",
       "    </tr>\n",
       "    <tr>\n",
       "      <th>21</th>\n",
       "      <td>1</td>\n",
       "      <td>1</td>\n",
       "    </tr>\n",
       "    <tr>\n",
       "      <th>170</th>\n",
       "      <td>1</td>\n",
       "      <td>0</td>\n",
       "    </tr>\n",
       "    <tr>\n",
       "      <th>35</th>\n",
       "      <td>0</td>\n",
       "      <td>4</td>\n",
       "    </tr>\n",
       "    <tr>\n",
       "      <th>56</th>\n",
       "      <td>1</td>\n",
       "      <td>4</td>\n",
       "    </tr>\n",
       "    <tr>\n",
       "      <th>137</th>\n",
       "      <td>0</td>\n",
       "      <td>2</td>\n",
       "    </tr>\n",
       "  </tbody>\n",
       "</table>\n",
       "<p>140 rows × 2 columns</p>\n",
       "</div>"
      ],
      "text/plain": [
       "     Visit Types  Reason\n",
       "190            0       1\n",
       "68             0       1\n",
       "36             0       4\n",
       "108            1       1\n",
       "33             1       1\n",
       "..           ...     ...\n",
       "21             1       1\n",
       "170            1       0\n",
       "35             0       4\n",
       "56             1       4\n",
       "137            0       2\n",
       "\n",
       "[140 rows x 2 columns]"
      ]
     },
     "execution_count": 64,
     "metadata": {},
     "output_type": "execute_result"
    }
   ],
   "source": [
    "X_train"
   ]
  },
  {
   "cell_type": "code",
   "execution_count": 65,
   "metadata": {},
   "outputs": [
    {
     "data": {
      "text/plain": [
       "Timestamp                     object\n",
       "Hotel Type                     int64\n",
       "Hangout                       object\n",
       "COVID-19 Situation            object\n",
       "satisfied                     object\n",
       "Reason                         int64\n",
       "Visit Types                    int64\n",
       "Choose Hotel                  object\n",
       "staff friendly and helpful    object\n",
       "eat at the hotel              object\n",
       "Rating                        object\n",
       "Food Hygiene rating.          object\n",
       "stay hotel again              object\n",
       "Overall                       object\n",
       "Suggestion                    object\n",
       "dtype: object"
      ]
     },
     "execution_count": 65,
     "metadata": {},
     "output_type": "execute_result"
    }
   ],
   "source": [
    "df.dtypes"
   ]
  },
  {
   "cell_type": "code",
   "execution_count": 66,
   "metadata": {},
   "outputs": [],
   "source": [
    "from sklearn.ensemble import RandomForestClassifier"
   ]
  },
  {
   "cell_type": "code",
   "execution_count": 67,
   "metadata": {},
   "outputs": [],
   "source": [
    "model=RandomForestClassifier(n_estimators=20)"
   ]
  },
  {
   "cell_type": "code",
   "execution_count": 68,
   "metadata": {},
   "outputs": [
    {
     "data": {
      "text/plain": [
       "RandomForestClassifier(n_estimators=20)"
      ]
     },
     "execution_count": 68,
     "metadata": {},
     "output_type": "execute_result"
    }
   ],
   "source": [
    "model.fit(X_train,Y_train)"
   ]
  },
  {
   "cell_type": "code",
   "execution_count": 69,
   "metadata": {},
   "outputs": [],
   "source": [
    "y_pred=model.predict(X_test)"
   ]
  },
  {
   "cell_type": "code",
   "execution_count": 70,
   "metadata": {},
   "outputs": [
    {
     "data": {
      "text/plain": [
       "array(['Yes', 'Yes', 'Yes', 'Yes', 'Yes', 'Yes', 'Yes', 'Yes', 'Yes',\n",
       "       'Yes', 'Yes', 'Yes', 'Yes', 'Yes', 'Yes', 'Yes', 'Yes', 'Yes',\n",
       "       'Yes', 'Yes', 'Yes', 'Yes', 'Yes', 'Yes', 'Yes', 'Yes', 'Yes',\n",
       "       'Yes', 'Yes', 'Yes', 'Yes', 'Yes', 'Yes', 'Yes', 'Yes', 'Yes',\n",
       "       'Yes', 'Yes', 'Yes', 'Yes', 'Yes', 'Yes', 'Yes', 'Yes', 'Yes',\n",
       "       'Yes', 'Yes', 'Yes', 'Yes', 'Yes', 'Yes', 'Yes', 'Yes', 'Yes',\n",
       "       'Yes', 'Yes', 'Yes', 'Yes', 'Yes', 'Yes', 'Yes'], dtype=object)"
      ]
     },
     "execution_count": 70,
     "metadata": {},
     "output_type": "execute_result"
    }
   ],
   "source": [
    "y_pred"
   ]
  },
  {
   "cell_type": "code",
   "execution_count": 71,
   "metadata": {},
   "outputs": [],
   "source": [
    "from sklearn.metrics import classification_report,confusion_matrix,accuracy_score"
   ]
  },
  {
   "cell_type": "code",
   "execution_count": 72,
   "metadata": {},
   "outputs": [
    {
     "name": "stdout",
     "output_type": "stream",
     "text": [
      "[[ 0  4]\n",
      " [ 0 57]]\n",
      "              precision    recall  f1-score   support\n",
      "\n",
      "          No       0.00      0.00      0.00         4\n",
      "         Yes       0.93      1.00      0.97        57\n",
      "\n",
      "    accuracy                           0.93        61\n",
      "   macro avg       0.47      0.50      0.48        61\n",
      "weighted avg       0.87      0.93      0.90        61\n",
      "\n",
      "0.9344262295081968\n"
     ]
    },
    {
     "name": "stderr",
     "output_type": "stream",
     "text": [
      "C:\\Users\\HP\\anaconda3\\lib\\site-packages\\sklearn\\metrics\\_classification.py:1221: UndefinedMetricWarning: Precision and F-score are ill-defined and being set to 0.0 in labels with no predicted samples. Use `zero_division` parameter to control this behavior.\n",
      "  _warn_prf(average, modifier, msg_start, len(result))\n"
     ]
    }
   ],
   "source": [
    "print(confusion_matrix(Y_test,y_pred))\n",
    "print(classification_report(Y_test,y_pred))\n",
    "print(accuracy_score(Y_test,y_pred))"
   ]
  },
  {
   "cell_type": "code",
   "execution_count": null,
   "metadata": {},
   "outputs": [],
   "source": [
    "Algorithm 2"
   ]
  },
  {
   "cell_type": "code",
   "execution_count": 73,
   "metadata": {},
   "outputs": [],
   "source": [
    "train, test = train_test_split(df, test_size =0.25)"
   ]
  },
  {
   "cell_type": "code",
   "execution_count": 74,
   "metadata": {},
   "outputs": [
    {
     "data": {
      "text/plain": [
       "(150, 15)"
      ]
     },
     "execution_count": 74,
     "metadata": {},
     "output_type": "execute_result"
    }
   ],
   "source": [
    "train.shape"
   ]
  },
  {
   "cell_type": "code",
   "execution_count": 75,
   "metadata": {},
   "outputs": [
    {
     "data": {
      "text/plain": [
       "(51, 15)"
      ]
     },
     "execution_count": 75,
     "metadata": {},
     "output_type": "execute_result"
    }
   ],
   "source": [
    "test.shape"
   ]
  },
  {
   "cell_type": "code",
   "execution_count": 76,
   "metadata": {},
   "outputs": [
    {
     "data": {
      "text/html": [
       "<div>\n",
       "<style scoped>\n",
       "    .dataframe tbody tr th:only-of-type {\n",
       "        vertical-align: middle;\n",
       "    }\n",
       "\n",
       "    .dataframe tbody tr th {\n",
       "        vertical-align: top;\n",
       "    }\n",
       "\n",
       "    .dataframe thead th {\n",
       "        text-align: right;\n",
       "    }\n",
       "</style>\n",
       "<table border=\"1\" class=\"dataframe\">\n",
       "  <thead>\n",
       "    <tr style=\"text-align: right;\">\n",
       "      <th></th>\n",
       "      <th>Timestamp</th>\n",
       "      <th>Hotel Type</th>\n",
       "      <th>Hangout</th>\n",
       "      <th>COVID-19 Situation</th>\n",
       "      <th>satisfied</th>\n",
       "      <th>Reason</th>\n",
       "      <th>Visit Types</th>\n",
       "      <th>Choose Hotel</th>\n",
       "      <th>staff friendly and helpful</th>\n",
       "      <th>eat at the hotel</th>\n",
       "      <th>Rating</th>\n",
       "      <th>Food Hygiene rating.</th>\n",
       "      <th>stay hotel again</th>\n",
       "      <th>Overall</th>\n",
       "      <th>Suggestion</th>\n",
       "    </tr>\n",
       "  </thead>\n",
       "  <tbody>\n",
       "    <tr>\n",
       "      <th>114</th>\n",
       "      <td>06/03/2021 22:25:40</td>\n",
       "      <td>1</td>\n",
       "      <td>Good Environment</td>\n",
       "      <td>Sanitization, Temperature Checking</td>\n",
       "      <td>Yes</td>\n",
       "      <td>1</td>\n",
       "      <td>1</td>\n",
       "      <td>Good Facility</td>\n",
       "      <td>Yes</td>\n",
       "      <td>Yes</td>\n",
       "      <td>Very Good</td>\n",
       "      <td>Very Good</td>\n",
       "      <td>Yes</td>\n",
       "      <td>Satisfied</td>\n",
       "      <td>No</td>\n",
       "    </tr>\n",
       "    <tr>\n",
       "      <th>89</th>\n",
       "      <td>21/02/2021 15:36:46</td>\n",
       "      <td>0</td>\n",
       "      <td>Facility, Food and Traditional Dish</td>\n",
       "      <td>Sanitization, Mask</td>\n",
       "      <td>Yes</td>\n",
       "      <td>4</td>\n",
       "      <td>1</td>\n",
       "      <td>Good Facility, Safety</td>\n",
       "      <td>Yes</td>\n",
       "      <td>Yes</td>\n",
       "      <td>Good</td>\n",
       "      <td>Good</td>\n",
       "      <td>May be</td>\n",
       "      <td>Satisfied</td>\n",
       "      <td>No</td>\n",
       "    </tr>\n",
       "    <tr>\n",
       "      <th>38</th>\n",
       "      <td>20/02/2021 20:46:34</td>\n",
       "      <td>1</td>\n",
       "      <td>Good Environment</td>\n",
       "      <td>Sanitization</td>\n",
       "      <td>Yes</td>\n",
       "      <td>1</td>\n",
       "      <td>1</td>\n",
       "      <td>Good Facility</td>\n",
       "      <td>Yes</td>\n",
       "      <td>Yes</td>\n",
       "      <td>Excellent</td>\n",
       "      <td>Excellent</td>\n",
       "      <td>Yes</td>\n",
       "      <td>Satisfied</td>\n",
       "      <td>Yes</td>\n",
       "    </tr>\n",
       "    <tr>\n",
       "      <th>44</th>\n",
       "      <td>20/02/2021 21:23:21</td>\n",
       "      <td>1</td>\n",
       "      <td>Affordable</td>\n",
       "      <td>Temperature Checking</td>\n",
       "      <td>Yes</td>\n",
       "      <td>1</td>\n",
       "      <td>1</td>\n",
       "      <td>Good Facility, World Wide Availability</td>\n",
       "      <td>Yes</td>\n",
       "      <td>Yes</td>\n",
       "      <td>Excellent</td>\n",
       "      <td>Generally Satisfactory</td>\n",
       "      <td>May be</td>\n",
       "      <td>None of the above</td>\n",
       "      <td>Yes</td>\n",
       "    </tr>\n",
       "    <tr>\n",
       "      <th>175</th>\n",
       "      <td>21/04/2021 01:22:32</td>\n",
       "      <td>0</td>\n",
       "      <td>Food and Traditional Dish</td>\n",
       "      <td>Temperature Checking</td>\n",
       "      <td>Yes</td>\n",
       "      <td>1</td>\n",
       "      <td>0</td>\n",
       "      <td>Acessibility</td>\n",
       "      <td>Yes</td>\n",
       "      <td>Yes</td>\n",
       "      <td>Good</td>\n",
       "      <td>Good</td>\n",
       "      <td>Yes</td>\n",
       "      <td>Satisfied</td>\n",
       "      <td>Yes</td>\n",
       "    </tr>\n",
       "  </tbody>\n",
       "</table>\n",
       "</div>"
      ],
      "text/plain": [
       "               Timestamp  Hotel Type                              Hangout  \\\n",
       "114  06/03/2021 22:25:40           1                     Good Environment   \n",
       "89   21/02/2021 15:36:46           0  Facility, Food and Traditional Dish   \n",
       "38   20/02/2021 20:46:34           1                     Good Environment   \n",
       "44   20/02/2021 21:23:21           1                           Affordable   \n",
       "175  21/04/2021 01:22:32           0            Food and Traditional Dish   \n",
       "\n",
       "                     COVID-19 Situation satisfied  Reason  Visit Types  \\\n",
       "114  Sanitization, Temperature Checking       Yes       1            1   \n",
       "89                   Sanitization, Mask       Yes       4            1   \n",
       "38                         Sanitization       Yes       1            1   \n",
       "44                 Temperature Checking       Yes       1            1   \n",
       "175                Temperature Checking       Yes       1            0   \n",
       "\n",
       "                               Choose Hotel staff friendly and helpful  \\\n",
       "114                           Good Facility                        Yes   \n",
       "89                    Good Facility, Safety                        Yes   \n",
       "38                            Good Facility                        Yes   \n",
       "44   Good Facility, World Wide Availability                        Yes   \n",
       "175                            Acessibility                        Yes   \n",
       "\n",
       "    eat at the hotel     Rating    Food Hygiene rating. stay hotel again  \\\n",
       "114              Yes  Very Good               Very Good              Yes   \n",
       "89               Yes       Good                    Good           May be   \n",
       "38               Yes  Excellent               Excellent              Yes   \n",
       "44               Yes  Excellent  Generally Satisfactory           May be   \n",
       "175              Yes       Good                    Good              Yes   \n",
       "\n",
       "               Overall Suggestion  \n",
       "114          Satisfied         No  \n",
       "89           Satisfied         No  \n",
       "38           Satisfied        Yes  \n",
       "44   None of the above        Yes  \n",
       "175          Satisfied        Yes  "
      ]
     },
     "execution_count": 76,
     "metadata": {},
     "output_type": "execute_result"
    }
   ],
   "source": [
    "test.head()"
   ]
  },
  {
   "cell_type": "code",
   "execution_count": 77,
   "metadata": {},
   "outputs": [
    {
     "data": {
      "text/html": [
       "<div>\n",
       "<style scoped>\n",
       "    .dataframe tbody tr th:only-of-type {\n",
       "        vertical-align: middle;\n",
       "    }\n",
       "\n",
       "    .dataframe tbody tr th {\n",
       "        vertical-align: top;\n",
       "    }\n",
       "\n",
       "    .dataframe thead th {\n",
       "        text-align: right;\n",
       "    }\n",
       "</style>\n",
       "<table border=\"1\" class=\"dataframe\">\n",
       "  <thead>\n",
       "    <tr style=\"text-align: right;\">\n",
       "      <th></th>\n",
       "      <th>Timestamp</th>\n",
       "      <th>Hotel Type</th>\n",
       "      <th>Hangout</th>\n",
       "      <th>COVID-19 Situation</th>\n",
       "      <th>satisfied</th>\n",
       "      <th>Reason</th>\n",
       "      <th>Visit Types</th>\n",
       "      <th>Choose Hotel</th>\n",
       "      <th>staff friendly and helpful</th>\n",
       "      <th>eat at the hotel</th>\n",
       "      <th>Rating</th>\n",
       "      <th>Food Hygiene rating.</th>\n",
       "      <th>stay hotel again</th>\n",
       "      <th>Overall</th>\n",
       "      <th>Suggestion</th>\n",
       "    </tr>\n",
       "  </thead>\n",
       "  <tbody>\n",
       "    <tr>\n",
       "      <th>95</th>\n",
       "      <td>21/02/2021 22:56:47</td>\n",
       "      <td>1</td>\n",
       "      <td>Good Environment</td>\n",
       "      <td>Mask</td>\n",
       "      <td>No</td>\n",
       "      <td>3</td>\n",
       "      <td>1</td>\n",
       "      <td>Good Facility</td>\n",
       "      <td>Yes</td>\n",
       "      <td>Yes</td>\n",
       "      <td>Good</td>\n",
       "      <td>Very Good</td>\n",
       "      <td>May be</td>\n",
       "      <td>Satisfied</td>\n",
       "      <td>Yes</td>\n",
       "    </tr>\n",
       "    <tr>\n",
       "      <th>132</th>\n",
       "      <td>07/04/2021 16:54:48</td>\n",
       "      <td>0</td>\n",
       "      <td>Facility</td>\n",
       "      <td>Sanitization</td>\n",
       "      <td>Yes</td>\n",
       "      <td>1</td>\n",
       "      <td>1</td>\n",
       "      <td>Hotel Loyalty</td>\n",
       "      <td>Yes</td>\n",
       "      <td>Yes</td>\n",
       "      <td>Excellent</td>\n",
       "      <td>Generally Satisfactory</td>\n",
       "      <td>Yes</td>\n",
       "      <td>Satisfied</td>\n",
       "      <td>Yes</td>\n",
       "    </tr>\n",
       "    <tr>\n",
       "      <th>178</th>\n",
       "      <td>22/04/2021 10:16:10</td>\n",
       "      <td>0</td>\n",
       "      <td>Good Environment</td>\n",
       "      <td>Temperature Checking</td>\n",
       "      <td>Yes</td>\n",
       "      <td>2</td>\n",
       "      <td>1</td>\n",
       "      <td>Acessibility</td>\n",
       "      <td>Yes</td>\n",
       "      <td>Yes</td>\n",
       "      <td>Very Good</td>\n",
       "      <td>Very Good</td>\n",
       "      <td>Yes</td>\n",
       "      <td>Satisfied</td>\n",
       "      <td>Yes</td>\n",
       "    </tr>\n",
       "    <tr>\n",
       "      <th>27</th>\n",
       "      <td>20/02/2021 17:47:20</td>\n",
       "      <td>1</td>\n",
       "      <td>Facility, Good Environment, Food and Tradition...</td>\n",
       "      <td>Sanitization, Temperature Checking, Mask, Gloves</td>\n",
       "      <td>Yes</td>\n",
       "      <td>4</td>\n",
       "      <td>1</td>\n",
       "      <td>Good Facility, Hotel Loyalty, Safety</td>\n",
       "      <td>Yes</td>\n",
       "      <td>No</td>\n",
       "      <td>Very Good</td>\n",
       "      <td>Very Good</td>\n",
       "      <td>May be</td>\n",
       "      <td>Satisfied</td>\n",
       "      <td>Yes</td>\n",
       "    </tr>\n",
       "    <tr>\n",
       "      <th>101</th>\n",
       "      <td>22/02/2021 00:07:22</td>\n",
       "      <td>1</td>\n",
       "      <td>Good Environment, Affordable</td>\n",
       "      <td>Sanitization, Temperature Checking, Mask, Gloves</td>\n",
       "      <td>Yes</td>\n",
       "      <td>1</td>\n",
       "      <td>1</td>\n",
       "      <td>Good Facility, Acessibility, Hotel Loyalty, Wo...</td>\n",
       "      <td>Yes</td>\n",
       "      <td>Yes</td>\n",
       "      <td>Excellent</td>\n",
       "      <td>Excellent</td>\n",
       "      <td>Yes</td>\n",
       "      <td>Satisfied</td>\n",
       "      <td>Yes</td>\n",
       "    </tr>\n",
       "  </tbody>\n",
       "</table>\n",
       "</div>"
      ],
      "text/plain": [
       "               Timestamp  Hotel Type  \\\n",
       "95   21/02/2021 22:56:47           1   \n",
       "132  07/04/2021 16:54:48           0   \n",
       "178  22/04/2021 10:16:10           0   \n",
       "27   20/02/2021 17:47:20           1   \n",
       "101  22/02/2021 00:07:22           1   \n",
       "\n",
       "                                               Hangout  \\\n",
       "95                                    Good Environment   \n",
       "132                                           Facility   \n",
       "178                                   Good Environment   \n",
       "27   Facility, Good Environment, Food and Tradition...   \n",
       "101                       Good Environment, Affordable   \n",
       "\n",
       "                                   COVID-19 Situation satisfied  Reason  \\\n",
       "95                                               Mask        No       3   \n",
       "132                                      Sanitization       Yes       1   \n",
       "178                              Temperature Checking       Yes       2   \n",
       "27   Sanitization, Temperature Checking, Mask, Gloves       Yes       4   \n",
       "101  Sanitization, Temperature Checking, Mask, Gloves       Yes       1   \n",
       "\n",
       "     Visit Types                                       Choose Hotel  \\\n",
       "95             1                                      Good Facility   \n",
       "132            1                                      Hotel Loyalty   \n",
       "178            1                                       Acessibility   \n",
       "27             1               Good Facility, Hotel Loyalty, Safety   \n",
       "101            1  Good Facility, Acessibility, Hotel Loyalty, Wo...   \n",
       "\n",
       "    staff friendly and helpful eat at the hotel     Rating  \\\n",
       "95                         Yes              Yes       Good   \n",
       "132                        Yes              Yes  Excellent   \n",
       "178                        Yes              Yes  Very Good   \n",
       "27                         Yes               No  Very Good   \n",
       "101                        Yes              Yes  Excellent   \n",
       "\n",
       "       Food Hygiene rating. stay hotel again    Overall Suggestion  \n",
       "95                Very Good           May be  Satisfied        Yes  \n",
       "132  Generally Satisfactory              Yes  Satisfied        Yes  \n",
       "178               Very Good              Yes  Satisfied        Yes  \n",
       "27                Very Good           May be  Satisfied        Yes  \n",
       "101               Excellent              Yes  Satisfied        Yes  "
      ]
     },
     "execution_count": 77,
     "metadata": {},
     "output_type": "execute_result"
    }
   ],
   "source": [
    "train.head()"
   ]
  },
  {
   "cell_type": "code",
   "execution_count": 79,
   "metadata": {},
   "outputs": [],
   "source": [
    "c1 = DecisionTreeClassifier(min_samples_split=100)\n",
    "c2 = DecisionTreeClassifier(min_samples_split=10)"
   ]
  },
  {
   "cell_type": "code",
   "execution_count": 81,
   "metadata": {},
   "outputs": [],
   "source": [
    "features =['Visit Types','Reason']"
   ]
  },
  {
   "cell_type": "code",
   "execution_count": 82,
   "metadata": {},
   "outputs": [],
   "source": [
    "train, test = train_test_split(df_New, test_size=0.25)"
   ]
  },
  {
   "cell_type": "code",
   "execution_count": 83,
   "metadata": {},
   "outputs": [],
   "source": [
    "X_train = train[features]\n",
    "Y_train = train['satisfied']"
   ]
  },
  {
   "cell_type": "code",
   "execution_count": 84,
   "metadata": {},
   "outputs": [],
   "source": [
    "X_test = train[features]\n",
    "Y_test = train['satisfied']"
   ]
  },
  {
   "cell_type": "code",
   "execution_count": 85,
   "metadata": {},
   "outputs": [],
   "source": [
    "tree1 = c1.fit(X_train, Y_train)\n",
    "tree2 = c2.fit(X_train, Y_train)"
   ]
  },
  {
   "cell_type": "code",
   "execution_count": 86,
   "metadata": {},
   "outputs": [],
   "source": [
    "y_pred_t1 = c1.predict(X_train)\n",
    "y_pred_t2 = c2.predict(X_train)"
   ]
  },
  {
   "cell_type": "code",
   "execution_count": 87,
   "metadata": {},
   "outputs": [],
   "source": [
    "y_pred1 = c1.predict(X_test)\n",
    "y_pred2 = c2.predict(X_test)"
   ]
  },
  {
   "cell_type": "code",
   "execution_count": 88,
   "metadata": {},
   "outputs": [
    {
     "name": "stdout",
     "output_type": "stream",
     "text": [
      "Collecting package metadata (current_repodata.json): ...working... done\n",
      "Solving environment: ...working... done\n",
      "\n",
      "# All requested packages already installed.\n",
      "\n",
      "\n",
      "Note: you may need to restart the kernel to use updated packages.\n"
     ]
    }
   ],
   "source": [
    "conda install graphviz"
   ]
  },
  {
   "cell_type": "code",
   "execution_count": 89,
   "metadata": {},
   "outputs": [
    {
     "name": "stdout",
     "output_type": "stream",
     "text": [
      "Collecting package metadata (current_repodata.json): ...working... done\n",
      "Solving environment: ...working... done\n",
      "\n",
      "# All requested packages already installed.\n",
      "\n",
      "\n",
      "Note: you may need to restart the kernel to use updated packages.\n"
     ]
    }
   ],
   "source": [
    "conda install python-graphviz"
   ]
  },
  {
   "cell_type": "code",
   "execution_count": 90,
   "metadata": {},
   "outputs": [
    {
     "name": "stdout",
     "output_type": "stream",
     "text": [
      "Collecting package metadata (current_repodata.json): ...working... done\n",
      "Solving environment: ...working... done\n",
      "\n",
      "# All requested packages already installed.\n",
      "\n",
      "\n",
      "Note: you may need to restart the kernel to use updated packages.\n"
     ]
    }
   ],
   "source": [
    "conda install pydot"
   ]
  },
  {
   "cell_type": "code",
   "execution_count": 91,
   "metadata": {},
   "outputs": [
    {
     "data": {
      "image/svg+xml": [
       "<?xml version=\"1.0\" encoding=\"UTF-8\" standalone=\"no\"?>\r\n",
       "<!DOCTYPE svg PUBLIC \"-//W3C//DTD SVG 1.1//EN\"\r\n",
       " \"http://www.w3.org/Graphics/SVG/1.1/DTD/svg11.dtd\">\r\n",
       "<!-- Generated by graphviz version 2.38.0 (20140413.2041)\r\n",
       " -->\r\n",
       "<!-- Title: Tree Pages: 1 -->\r\n",
       "<svg width=\"284pt\" height=\"433pt\"\r\n",
       " viewBox=\"0.00 0.00 284.00 433.00\" xmlns=\"http://www.w3.org/2000/svg\" xmlns:xlink=\"http://www.w3.org/1999/xlink\">\r\n",
       "<g id=\"graph0\" class=\"graph\" transform=\"scale(1 1) rotate(0) translate(4 429)\">\r\n",
       "<title>Tree</title>\r\n",
       "<polygon fill=\"white\" stroke=\"none\" points=\"-4,4 -4,-429 280,-429 280,4 -4,4\"/>\r\n",
       "<!-- 0 -->\r\n",
       "<g id=\"node1\" class=\"node\"><title>0</title>\r\n",
       "<polygon fill=\"#40a0e6\" stroke=\"black\" points=\"160,-425 56,-425 56,-342 160,-342 160,-425\"/>\r\n",
       "<text text-anchor=\"middle\" x=\"108\" y=\"-409.8\" font-family=\"Times New Roman,serif\" font-size=\"14.00\">Reason &lt;= 0.5</text>\r\n",
       "<text text-anchor=\"middle\" x=\"108\" y=\"-394.8\" font-family=\"Times New Roman,serif\" font-size=\"14.00\">gini = 0.0644</text>\r\n",
       "<text text-anchor=\"middle\" x=\"108\" y=\"-379.8\" font-family=\"Times New Roman,serif\" font-size=\"14.00\">samples = 150</text>\r\n",
       "<text text-anchor=\"middle\" x=\"108\" y=\"-364.8\" font-family=\"Times New Roman,serif\" font-size=\"14.00\">value = [5, 145]</text>\r\n",
       "<text text-anchor=\"middle\" x=\"108\" y=\"-349.8\" font-family=\"Times New Roman,serif\" font-size=\"14.00\">class = 1</text>\r\n",
       "</g>\r\n",
       "<!-- 1 -->\r\n",
       "<g id=\"node2\" class=\"node\"><title>1</title>\r\n",
       "<polygon fill=\"#55abe9\" stroke=\"black\" points=\"98,-298.5 0,-298.5 0,-230.5 98,-230.5 98,-298.5\"/>\r\n",
       "<text text-anchor=\"middle\" x=\"49\" y=\"-283.3\" font-family=\"Times New Roman,serif\" font-size=\"14.00\">gini = 0.2188</text>\r\n",
       "<text text-anchor=\"middle\" x=\"49\" y=\"-268.3\" font-family=\"Times New Roman,serif\" font-size=\"14.00\">samples = 24</text>\r\n",
       "<text text-anchor=\"middle\" x=\"49\" y=\"-253.3\" font-family=\"Times New Roman,serif\" font-size=\"14.00\">value = [3, 21]</text>\r\n",
       "<text text-anchor=\"middle\" x=\"49\" y=\"-238.3\" font-family=\"Times New Roman,serif\" font-size=\"14.00\">class = 1</text>\r\n",
       "</g>\r\n",
       "<!-- 0&#45;&gt;1 -->\r\n",
       "<g id=\"edge1\" class=\"edge\"><title>0&#45;&gt;1</title>\r\n",
       "<path fill=\"none\" stroke=\"black\" d=\"M87.5302,-341.907C81.9658,-330.873 75.927,-318.898 70.317,-307.773\"/>\r\n",
       "<polygon fill=\"black\" stroke=\"black\" points=\"73.353,-306.02 65.7252,-298.667 67.1028,-309.172 73.353,-306.02\"/>\r\n",
       "<text text-anchor=\"middle\" x=\"57.9005\" y=\"-318.711\" font-family=\"Times New Roman,serif\" font-size=\"14.00\">True</text>\r\n",
       "</g>\r\n",
       "<!-- 2 -->\r\n",
       "<g id=\"node3\" class=\"node\"><title>2</title>\r\n",
       "<polygon fill=\"#3c9fe5\" stroke=\"black\" points=\"220,-306 116,-306 116,-223 220,-223 220,-306\"/>\r\n",
       "<text text-anchor=\"middle\" x=\"168\" y=\"-290.8\" font-family=\"Times New Roman,serif\" font-size=\"14.00\">Reason &lt;= 3.5</text>\r\n",
       "<text text-anchor=\"middle\" x=\"168\" y=\"-275.8\" font-family=\"Times New Roman,serif\" font-size=\"14.00\">gini = 0.0312</text>\r\n",
       "<text text-anchor=\"middle\" x=\"168\" y=\"-260.8\" font-family=\"Times New Roman,serif\" font-size=\"14.00\">samples = 126</text>\r\n",
       "<text text-anchor=\"middle\" x=\"168\" y=\"-245.8\" font-family=\"Times New Roman,serif\" font-size=\"14.00\">value = [2, 124]</text>\r\n",
       "<text text-anchor=\"middle\" x=\"168\" y=\"-230.8\" font-family=\"Times New Roman,serif\" font-size=\"14.00\">class = 1</text>\r\n",
       "</g>\r\n",
       "<!-- 0&#45;&gt;2 -->\r\n",
       "<g id=\"edge2\" class=\"edge\"><title>0&#45;&gt;2</title>\r\n",
       "<path fill=\"none\" stroke=\"black\" d=\"M128.817,-341.907C133.238,-333.286 137.954,-324.09 142.526,-315.175\"/>\r\n",
       "<polygon fill=\"black\" stroke=\"black\" points=\"145.771,-316.516 147.22,-306.021 139.543,-313.322 145.771,-316.516\"/>\r\n",
       "<text text-anchor=\"middle\" x=\"154.883\" y=\"-326.117\" font-family=\"Times New Roman,serif\" font-size=\"14.00\">False</text>\r\n",
       "</g>\r\n",
       "<!-- 3 -->\r\n",
       "<g id=\"node4\" class=\"node\"><title>3</title>\r\n",
       "<polygon fill=\"#3b9ee5\" stroke=\"black\" points=\"160,-187 56,-187 56,-104 160,-104 160,-187\"/>\r\n",
       "<text text-anchor=\"middle\" x=\"108\" y=\"-171.8\" font-family=\"Times New Roman,serif\" font-size=\"14.00\">Reason &lt;= 1.5</text>\r\n",
       "<text text-anchor=\"middle\" x=\"108\" y=\"-156.8\" font-family=\"Times New Roman,serif\" font-size=\"14.00\">gini = 0.0182</text>\r\n",
       "<text text-anchor=\"middle\" x=\"108\" y=\"-141.8\" font-family=\"Times New Roman,serif\" font-size=\"14.00\">samples = 109</text>\r\n",
       "<text text-anchor=\"middle\" x=\"108\" y=\"-126.8\" font-family=\"Times New Roman,serif\" font-size=\"14.00\">value = [1, 108]</text>\r\n",
       "<text text-anchor=\"middle\" x=\"108\" y=\"-111.8\" font-family=\"Times New Roman,serif\" font-size=\"14.00\">class = 1</text>\r\n",
       "</g>\r\n",
       "<!-- 2&#45;&gt;3 -->\r\n",
       "<g id=\"edge3\" class=\"edge\"><title>2&#45;&gt;3</title>\r\n",
       "<path fill=\"none\" stroke=\"black\" d=\"M147.183,-222.907C142.762,-214.286 138.046,-205.09 133.474,-196.175\"/>\r\n",
       "<polygon fill=\"black\" stroke=\"black\" points=\"136.457,-194.322 128.78,-187.021 130.229,-197.516 136.457,-194.322\"/>\r\n",
       "</g>\r\n",
       "<!-- 6 -->\r\n",
       "<g id=\"node7\" class=\"node\"><title>6</title>\r\n",
       "<polygon fill=\"#45a3e7\" stroke=\"black\" points=\"276,-179.5 178,-179.5 178,-111.5 276,-111.5 276,-179.5\"/>\r\n",
       "<text text-anchor=\"middle\" x=\"227\" y=\"-164.3\" font-family=\"Times New Roman,serif\" font-size=\"14.00\">gini = 0.1107</text>\r\n",
       "<text text-anchor=\"middle\" x=\"227\" y=\"-149.3\" font-family=\"Times New Roman,serif\" font-size=\"14.00\">samples = 17</text>\r\n",
       "<text text-anchor=\"middle\" x=\"227\" y=\"-134.3\" font-family=\"Times New Roman,serif\" font-size=\"14.00\">value = [1, 16]</text>\r\n",
       "<text text-anchor=\"middle\" x=\"227\" y=\"-119.3\" font-family=\"Times New Roman,serif\" font-size=\"14.00\">class = 1</text>\r\n",
       "</g>\r\n",
       "<!-- 2&#45;&gt;6 -->\r\n",
       "<g id=\"edge6\" class=\"edge\"><title>2&#45;&gt;6</title>\r\n",
       "<path fill=\"none\" stroke=\"black\" d=\"M188.47,-222.907C194.034,-211.873 200.073,-199.898 205.683,-188.773\"/>\r\n",
       "<polygon fill=\"black\" stroke=\"black\" points=\"208.897,-190.172 210.275,-179.667 202.647,-187.02 208.897,-190.172\"/>\r\n",
       "</g>\r\n",
       "<!-- 4 -->\r\n",
       "<g id=\"node5\" class=\"node\"><title>4</title>\r\n",
       "<polygon fill=\"#3c9ee5\" stroke=\"black\" points=\"99,-68 1,-68 1,-0 99,-0 99,-68\"/>\r\n",
       "<text text-anchor=\"middle\" x=\"50\" y=\"-52.8\" font-family=\"Times New Roman,serif\" font-size=\"14.00\">gini = 0.0253</text>\r\n",
       "<text text-anchor=\"middle\" x=\"50\" y=\"-37.8\" font-family=\"Times New Roman,serif\" font-size=\"14.00\">samples = 78</text>\r\n",
       "<text text-anchor=\"middle\" x=\"50\" y=\"-22.8\" font-family=\"Times New Roman,serif\" font-size=\"14.00\">value = [1, 77]</text>\r\n",
       "<text text-anchor=\"middle\" x=\"50\" y=\"-7.8\" font-family=\"Times New Roman,serif\" font-size=\"14.00\">class = 1</text>\r\n",
       "</g>\r\n",
       "<!-- 3&#45;&gt;4 -->\r\n",
       "<g id=\"edge4\" class=\"edge\"><title>3&#45;&gt;4</title>\r\n",
       "<path fill=\"none\" stroke=\"black\" d=\"M86.4029,-103.726C81.8134,-95.0615 76.9587,-85.8962 72.342,-77.1802\"/>\r\n",
       "<polygon fill=\"black\" stroke=\"black\" points=\"75.4118,-75.4982 67.6381,-68.2996 69.226,-78.7748 75.4118,-75.4982\"/>\r\n",
       "</g>\r\n",
       "<!-- 5 -->\r\n",
       "<g id=\"node6\" class=\"node\"><title>5</title>\r\n",
       "<polygon fill=\"#399de5\" stroke=\"black\" points=\"215,-68 117,-68 117,-0 215,-0 215,-68\"/>\r\n",
       "<text text-anchor=\"middle\" x=\"166\" y=\"-52.8\" font-family=\"Times New Roman,serif\" font-size=\"14.00\">gini = 0.0</text>\r\n",
       "<text text-anchor=\"middle\" x=\"166\" y=\"-37.8\" font-family=\"Times New Roman,serif\" font-size=\"14.00\">samples = 31</text>\r\n",
       "<text text-anchor=\"middle\" x=\"166\" y=\"-22.8\" font-family=\"Times New Roman,serif\" font-size=\"14.00\">value = [0, 31]</text>\r\n",
       "<text text-anchor=\"middle\" x=\"166\" y=\"-7.8\" font-family=\"Times New Roman,serif\" font-size=\"14.00\">class = 1</text>\r\n",
       "</g>\r\n",
       "<!-- 3&#45;&gt;5 -->\r\n",
       "<g id=\"edge5\" class=\"edge\"><title>3&#45;&gt;5</title>\r\n",
       "<path fill=\"none\" stroke=\"black\" d=\"M129.597,-103.726C134.187,-95.0615 139.041,-85.8962 143.658,-77.1802\"/>\r\n",
       "<polygon fill=\"black\" stroke=\"black\" points=\"146.774,-78.7748 148.362,-68.2996 140.588,-75.4982 146.774,-78.7748\"/>\r\n",
       "</g>\r\n",
       "</g>\r\n",
       "</svg>\r\n"
      ],
      "text/plain": [
       "<graphviz.files.Source at 0x1b4fee26610>"
      ]
     },
     "execution_count": 91,
     "metadata": {},
     "output_type": "execute_result"
    }
   ],
   "source": [
    "dot_data= tree.export_graphviz(tree1,feature_names = X_train.columns,class_names=[\"0\",\"1\"], filled=True, precision=4)\n",
    "graph = graphviz.Source(dot_data, format=\"png\") \n",
    "graph"
   ]
  },
  {
   "cell_type": "code",
   "execution_count": 92,
   "metadata": {},
   "outputs": [],
   "source": [
    "from sklearn.tree import DecisionTreeClassifier"
   ]
  },
  {
   "cell_type": "code",
   "execution_count": 93,
   "metadata": {},
   "outputs": [],
   "source": [
    "dtree_algo = DecisionTreeClassifier()"
   ]
  },
  {
   "cell_type": "code",
   "execution_count": 94,
   "metadata": {},
   "outputs": [],
   "source": [
    "dtree = dtree_algo.fit(X_train, Y_train)"
   ]
  },
  {
   "cell_type": "code",
   "execution_count": 95,
   "metadata": {},
   "outputs": [],
   "source": [
    "dtree_pred= dtree_algo.predict(X_train)"
   ]
  },
  {
   "cell_type": "code",
   "execution_count": 96,
   "metadata": {},
   "outputs": [],
   "source": [
    "dtree_test_pred= dtree_algo.predict(X_test)"
   ]
  },
  {
   "cell_type": "code",
   "execution_count": 97,
   "metadata": {},
   "outputs": [
    {
     "name": "stdout",
     "output_type": "stream",
     "text": [
      "[[  0   5]\n",
      " [  0 145]]\n"
     ]
    }
   ],
   "source": [
    "print(confusion_matrix(Y_train,dtree_pred))"
   ]
  },
  {
   "cell_type": "code",
   "execution_count": 98,
   "metadata": {},
   "outputs": [
    {
     "name": "stdout",
     "output_type": "stream",
     "text": [
      "[[  0   5]\n",
      " [  0 145]]\n"
     ]
    }
   ],
   "source": [
    "print(confusion_matrix(Y_test,dtree_test_pred))"
   ]
  },
  {
   "cell_type": "code",
   "execution_count": 99,
   "metadata": {},
   "outputs": [
    {
     "name": "stdout",
     "output_type": "stream",
     "text": [
      "0.9666666666666667\n"
     ]
    }
   ],
   "source": [
    "print(accuracy_score(Y_train,dtree_pred))"
   ]
  },
  {
   "cell_type": "code",
   "execution_count": 100,
   "metadata": {},
   "outputs": [
    {
     "name": "stdout",
     "output_type": "stream",
     "text": [
      "0.9666666666666667\n"
     ]
    }
   ],
   "source": [
    "print(accuracy_score(Y_test,dtree_test_pred))"
   ]
  },
  {
   "cell_type": "code",
   "execution_count": 101,
   "metadata": {},
   "outputs": [
    {
     "name": "stdout",
     "output_type": "stream",
     "text": [
      "              precision    recall  f1-score   support\n",
      "\n",
      "          No       0.00      0.00      0.00         5\n",
      "         Yes       0.97      1.00      0.98       145\n",
      "\n",
      "    accuracy                           0.97       150\n",
      "   macro avg       0.48      0.50      0.49       150\n",
      "weighted avg       0.93      0.97      0.95       150\n",
      "\n"
     ]
    },
    {
     "name": "stderr",
     "output_type": "stream",
     "text": [
      "C:\\Users\\HP\\anaconda3\\lib\\site-packages\\sklearn\\metrics\\_classification.py:1221: UndefinedMetricWarning: Precision and F-score are ill-defined and being set to 0.0 in labels with no predicted samples. Use `zero_division` parameter to control this behavior.\n",
      "  _warn_prf(average, modifier, msg_start, len(result))\n"
     ]
    }
   ],
   "source": [
    "print(classification_report(Y_train,dtree_pred))"
   ]
  },
  {
   "cell_type": "code",
   "execution_count": 102,
   "metadata": {},
   "outputs": [
    {
     "name": "stdout",
     "output_type": "stream",
     "text": [
      "              precision    recall  f1-score   support\n",
      "\n",
      "          No       0.00      0.00      0.00         5\n",
      "         Yes       0.97      1.00      0.98       145\n",
      "\n",
      "    accuracy                           0.97       150\n",
      "   macro avg       0.48      0.50      0.49       150\n",
      "weighted avg       0.93      0.97      0.95       150\n",
      "\n"
     ]
    }
   ],
   "source": [
    "print(classification_report(Y_test,dtree_test_pred))"
   ]
  },
  {
   "cell_type": "code",
   "execution_count": null,
   "metadata": {},
   "outputs": [],
   "source": []
  }
 ],
 "metadata": {
  "kernelspec": {
   "display_name": "Python 3",
   "language": "python",
   "name": "python3"
  },
  "language_info": {
   "codemirror_mode": {
    "name": "ipython",
    "version": 3
   },
   "file_extension": ".py",
   "mimetype": "text/x-python",
   "name": "python",
   "nbconvert_exporter": "python",
   "pygments_lexer": "ipython3",
   "version": "3.8.5"
  }
 },
 "nbformat": 4,
 "nbformat_minor": 4
}
